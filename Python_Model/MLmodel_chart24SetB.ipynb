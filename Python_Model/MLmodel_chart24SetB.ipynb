{
 "cells": [
  {
   "cell_type": "code",
   "execution_count": 1,
   "metadata": {},
   "outputs": [],
   "source": [
    "import pandas as pd\n",
    "import numpy as np\n",
    "import matplotlib.pyplot as plt"
   ]
  },
  {
   "cell_type": "code",
   "execution_count": 2,
   "metadata": {},
   "outputs": [],
   "source": [
    "chartLab24 = pd.read_csv(\"../Code/output/chartLab24Item20.csv\")"
   ]
  },
  {
   "cell_type": "code",
   "execution_count": 3,
   "metadata": {},
   "outputs": [
    {
     "data": {
      "text/html": [
       "<div>\n",
       "<style scoped>\n",
       "    .dataframe tbody tr th:only-of-type {\n",
       "        vertical-align: middle;\n",
       "    }\n",
       "\n",
       "    .dataframe tbody tr th {\n",
       "        vertical-align: top;\n",
       "    }\n",
       "\n",
       "    .dataframe thead th {\n",
       "        text-align: right;\n",
       "    }\n",
       "</style>\n",
       "<table border=\"1\" class=\"dataframe\">\n",
       "  <thead>\n",
       "    <tr style=\"text-align: right;\">\n",
       "      <th></th>\n",
       "      <th>SUBJECT_ID</th>\n",
       "      <th>HADM_ID</th>\n",
       "      <th>ITEMID</th>\n",
       "      <th>CHARTTIME</th>\n",
       "      <th>VALUE</th>\n",
       "    </tr>\n",
       "  </thead>\n",
       "  <tbody>\n",
       "    <tr>\n",
       "      <th>0</th>\n",
       "      <td>36</td>\n",
       "      <td>165660</td>\n",
       "      <td>FIO</td>\n",
       "      <td>2134-05-12T12:00:00.000-04:00</td>\n",
       "      <td>100.00</td>\n",
       "    </tr>\n",
       "    <tr>\n",
       "      <th>1</th>\n",
       "      <td>36</td>\n",
       "      <td>165660</td>\n",
       "      <td>PH</td>\n",
       "      <td>2134-05-12T12:35:00.000-04:00</td>\n",
       "      <td>7.29</td>\n",
       "    </tr>\n",
       "    <tr>\n",
       "      <th>2</th>\n",
       "      <td>36</td>\n",
       "      <td>165660</td>\n",
       "      <td>HR</td>\n",
       "      <td>2134-05-12T13:00:00.000-04:00</td>\n",
       "      <td>86.00</td>\n",
       "    </tr>\n",
       "    <tr>\n",
       "      <th>3</th>\n",
       "      <td>36</td>\n",
       "      <td>165660</td>\n",
       "      <td>SBP</td>\n",
       "      <td>2134-05-12T13:00:00.000-04:00</td>\n",
       "      <td>137.00</td>\n",
       "    </tr>\n",
       "    <tr>\n",
       "      <th>4</th>\n",
       "      <td>36</td>\n",
       "      <td>165660</td>\n",
       "      <td>DBP</td>\n",
       "      <td>2134-05-12T13:00:00.000-04:00</td>\n",
       "      <td>72.00</td>\n",
       "    </tr>\n",
       "  </tbody>\n",
       "</table>\n",
       "</div>"
      ],
      "text/plain": [
       "   SUBJECT_ID  HADM_ID ITEMID                      CHARTTIME   VALUE\n",
       "0          36   165660    FIO  2134-05-12T12:00:00.000-04:00  100.00\n",
       "1          36   165660     PH  2134-05-12T12:35:00.000-04:00    7.29\n",
       "2          36   165660     HR  2134-05-12T13:00:00.000-04:00   86.00\n",
       "3          36   165660    SBP  2134-05-12T13:00:00.000-04:00  137.00\n",
       "4          36   165660    DBP  2134-05-12T13:00:00.000-04:00   72.00"
      ]
     },
     "execution_count": 3,
     "metadata": {},
     "output_type": "execute_result"
    }
   ],
   "source": [
    "chartLab24.head()"
   ]
  },
  {
   "cell_type": "code",
   "execution_count": 4,
   "metadata": {},
   "outputs": [
    {
     "name": "stdout",
     "output_type": "stream",
     "text": [
      "<class 'pandas.core.frame.DataFrame'>\n",
      "RangeIndex: 12018539 entries, 0 to 12018538\n",
      "Data columns (total 5 columns):\n",
      " #   Column      Dtype  \n",
      "---  ------      -----  \n",
      " 0   SUBJECT_ID  int64  \n",
      " 1   HADM_ID     int64  \n",
      " 2   ITEMID      object \n",
      " 3   CHARTTIME   object \n",
      " 4   VALUE       float64\n",
      "dtypes: float64(1), int64(2), object(2)\n",
      "memory usage: 458.5+ MB\n"
     ]
    }
   ],
   "source": [
    "chartLab24.info() # 12018539 events"
   ]
  },
  {
   "cell_type": "code",
   "execution_count": 5,
   "metadata": {},
   "outputs": [],
   "source": [
    "patients = pd.read_csv(\"../Code/output/patientsInfo.csv\")"
   ]
  },
  {
   "cell_type": "code",
   "execution_count": 6,
   "metadata": {},
   "outputs": [
    {
     "data": {
      "text/html": [
       "<div>\n",
       "<style scoped>\n",
       "    .dataframe tbody tr th:only-of-type {\n",
       "        vertical-align: middle;\n",
       "    }\n",
       "\n",
       "    .dataframe tbody tr th {\n",
       "        vertical-align: top;\n",
       "    }\n",
       "\n",
       "    .dataframe thead th {\n",
       "        text-align: right;\n",
       "    }\n",
       "</style>\n",
       "<table border=\"1\" class=\"dataframe\">\n",
       "  <thead>\n",
       "    <tr style=\"text-align: right;\">\n",
       "      <th></th>\n",
       "      <th>SUBJECT_ID</th>\n",
       "      <th>HADM_ID</th>\n",
       "      <th>Age</th>\n",
       "      <th>GENDER</th>\n",
       "      <th>HOSPITAL_EXPIRE_FLAG</th>\n",
       "    </tr>\n",
       "  </thead>\n",
       "  <tbody>\n",
       "    <tr>\n",
       "      <th>0</th>\n",
       "      <td>22</td>\n",
       "      <td>165315</td>\n",
       "      <td>64.97</td>\n",
       "      <td>F</td>\n",
       "      <td>0</td>\n",
       "    </tr>\n",
       "    <tr>\n",
       "      <th>1</th>\n",
       "      <td>23</td>\n",
       "      <td>152223</td>\n",
       "      <td>71.18</td>\n",
       "      <td>M</td>\n",
       "      <td>0</td>\n",
       "    </tr>\n",
       "    <tr>\n",
       "      <th>2</th>\n",
       "      <td>23</td>\n",
       "      <td>124321</td>\n",
       "      <td>75.31</td>\n",
       "      <td>M</td>\n",
       "      <td>0</td>\n",
       "    </tr>\n",
       "    <tr>\n",
       "      <th>3</th>\n",
       "      <td>24</td>\n",
       "      <td>161859</td>\n",
       "      <td>39.04</td>\n",
       "      <td>M</td>\n",
       "      <td>0</td>\n",
       "    </tr>\n",
       "    <tr>\n",
       "      <th>4</th>\n",
       "      <td>25</td>\n",
       "      <td>129635</td>\n",
       "      <td>58.99</td>\n",
       "      <td>M</td>\n",
       "      <td>0</td>\n",
       "    </tr>\n",
       "  </tbody>\n",
       "</table>\n",
       "</div>"
      ],
      "text/plain": [
       "   SUBJECT_ID  HADM_ID    Age GENDER  HOSPITAL_EXPIRE_FLAG\n",
       "0          22   165315  64.97      F                     0\n",
       "1          23   152223  71.18      M                     0\n",
       "2          23   124321  75.31      M                     0\n",
       "3          24   161859  39.04      M                     0\n",
       "4          25   129635  58.99      M                     0"
      ]
     },
     "execution_count": 6,
     "metadata": {},
     "output_type": "execute_result"
    }
   ],
   "source": [
    "patients.head()"
   ]
  },
  {
   "cell_type": "code",
   "execution_count": 7,
   "metadata": {},
   "outputs": [
    {
     "name": "stdout",
     "output_type": "stream",
     "text": [
      "<class 'pandas.core.frame.DataFrame'>\n",
      "RangeIndex: 46545 entries, 0 to 46544\n",
      "Data columns (total 5 columns):\n",
      " #   Column                Non-Null Count  Dtype  \n",
      "---  ------                --------------  -----  \n",
      " 0   SUBJECT_ID            46545 non-null  int64  \n",
      " 1   HADM_ID               46545 non-null  int64  \n",
      " 2   Age                   46545 non-null  float64\n",
      " 3   GENDER                46545 non-null  object \n",
      " 4   HOSPITAL_EXPIRE_FLAG  46545 non-null  int64  \n",
      "dtypes: float64(1), int64(3), object(1)\n",
      "memory usage: 1.8+ MB\n"
     ]
    }
   ],
   "source": [
    "patients.info()"
   ]
  },
  {
   "cell_type": "code",
   "execution_count": 8,
   "metadata": {},
   "outputs": [],
   "source": [
    "patients[['GENDER_01']] = patients.apply(lambda x: 0 if x.GENDER=='F' else 1, axis=1)"
   ]
  },
  {
   "cell_type": "code",
   "execution_count": 9,
   "metadata": {},
   "outputs": [
    {
     "data": {
      "text/html": [
       "<div>\n",
       "<style scoped>\n",
       "    .dataframe tbody tr th:only-of-type {\n",
       "        vertical-align: middle;\n",
       "    }\n",
       "\n",
       "    .dataframe tbody tr th {\n",
       "        vertical-align: top;\n",
       "    }\n",
       "\n",
       "    .dataframe thead th {\n",
       "        text-align: right;\n",
       "    }\n",
       "</style>\n",
       "<table border=\"1\" class=\"dataframe\">\n",
       "  <thead>\n",
       "    <tr style=\"text-align: right;\">\n",
       "      <th></th>\n",
       "      <th>SUBJECT_ID</th>\n",
       "      <th>HADM_ID</th>\n",
       "      <th>Age</th>\n",
       "      <th>GENDER</th>\n",
       "      <th>HOSPITAL_EXPIRE_FLAG</th>\n",
       "      <th>GENDER_01</th>\n",
       "    </tr>\n",
       "  </thead>\n",
       "  <tbody>\n",
       "    <tr>\n",
       "      <th>0</th>\n",
       "      <td>22</td>\n",
       "      <td>165315</td>\n",
       "      <td>64.97</td>\n",
       "      <td>F</td>\n",
       "      <td>0</td>\n",
       "      <td>0</td>\n",
       "    </tr>\n",
       "    <tr>\n",
       "      <th>1</th>\n",
       "      <td>23</td>\n",
       "      <td>152223</td>\n",
       "      <td>71.18</td>\n",
       "      <td>M</td>\n",
       "      <td>0</td>\n",
       "      <td>1</td>\n",
       "    </tr>\n",
       "    <tr>\n",
       "      <th>2</th>\n",
       "      <td>23</td>\n",
       "      <td>124321</td>\n",
       "      <td>75.31</td>\n",
       "      <td>M</td>\n",
       "      <td>0</td>\n",
       "      <td>1</td>\n",
       "    </tr>\n",
       "    <tr>\n",
       "      <th>3</th>\n",
       "      <td>24</td>\n",
       "      <td>161859</td>\n",
       "      <td>39.04</td>\n",
       "      <td>M</td>\n",
       "      <td>0</td>\n",
       "      <td>1</td>\n",
       "    </tr>\n",
       "    <tr>\n",
       "      <th>4</th>\n",
       "      <td>25</td>\n",
       "      <td>129635</td>\n",
       "      <td>58.99</td>\n",
       "      <td>M</td>\n",
       "      <td>0</td>\n",
       "      <td>1</td>\n",
       "    </tr>\n",
       "  </tbody>\n",
       "</table>\n",
       "</div>"
      ],
      "text/plain": [
       "   SUBJECT_ID  HADM_ID    Age GENDER  HOSPITAL_EXPIRE_FLAG  GENDER_01\n",
       "0          22   165315  64.97      F                     0          0\n",
       "1          23   152223  71.18      M                     0          1\n",
       "2          23   124321  75.31      M                     0          1\n",
       "3          24   161859  39.04      M                     0          1\n",
       "4          25   129635  58.99      M                     0          1"
      ]
     },
     "execution_count": 9,
     "metadata": {},
     "output_type": "execute_result"
    }
   ],
   "source": [
    "patients.head()"
   ]
  },
  {
   "cell_type": "markdown",
   "metadata": {},
   "source": [
    "# Clean data--outliers"
   ]
  },
  {
   "cell_type": "code",
   "execution_count": 10,
   "metadata": {},
   "outputs": [],
   "source": [
    "# chart24 initially 11,377,877 entries"
   ]
  },
  {
   "cell_type": "code",
   "execution_count": 11,
   "metadata": {},
   "outputs": [],
   "source": [
    "# GLU\n",
    "chartLab24 = chartLab24.drop(chartLab24[(chartLab24.ITEMID=='GLU') & (chartLab24.VALUE>5000)].index) ##  entries"
   ]
  },
  {
   "cell_type": "code",
   "execution_count": 12,
   "metadata": {},
   "outputs": [],
   "source": [
    "# DBP\n",
    "chartLab24 = chartLab24.drop(chartLab24[(chartLab24.ITEMID=='DBP') & (chartLab24.VALUE>1000)].index) ##  entries"
   ]
  },
  {
   "cell_type": "code",
   "execution_count": 13,
   "metadata": {},
   "outputs": [],
   "source": [
    "# FIO -- ignore\n",
    "# chart24 = chart24.drop(chart24[(chart24.ITEMID=='FIO') & (chart24.VALUE>100)].index) ##  entries"
   ]
  },
  {
   "cell_type": "code",
   "execution_count": 14,
   "metadata": {},
   "outputs": [],
   "source": [
    "# HEIGHT\n",
    "chartLab24 = chartLab24.drop(chartLab24[(chartLab24.ITEMID=='HEIGHT') & (chartLab24.VALUE>300)].index) ##  entries"
   ]
  },
  {
   "cell_type": "code",
   "execution_count": 15,
   "metadata": {},
   "outputs": [],
   "source": [
    "# HR\n",
    "chartLab24 = chartLab24.drop(chartLab24[(chartLab24.ITEMID=='HR') & (chartLab24.VALUE>10000)].index) ##  entries"
   ]
  },
  {
   "cell_type": "code",
   "execution_count": 16,
   "metadata": {},
   "outputs": [],
   "source": [
    "# MBP\n",
    "chartLab24 = chartLab24.drop(chartLab24[(chartLab24.ITEMID=='MBP') & (chartLab24.VALUE>1000)].index) ##  entries"
   ]
  },
  {
   "cell_type": "code",
   "execution_count": 17,
   "metadata": {},
   "outputs": [],
   "source": [
    "# OS\n",
    "chartLab24 = chartLab24.drop(chartLab24[(chartLab24.ITEMID=='OS') & (chartLab24.VALUE>10000)].index) ##  entries"
   ]
  },
  {
   "cell_type": "code",
   "execution_count": 18,
   "metadata": {},
   "outputs": [],
   "source": [
    "# PH\n",
    "chartLab24 = chartLab24.drop(chartLab24[(chartLab24.ITEMID=='PH') & (chartLab24.VALUE>10)].index) ##   entries"
   ]
  },
  {
   "cell_type": "code",
   "execution_count": 19,
   "metadata": {},
   "outputs": [],
   "source": [
    "# RESPR\n",
    "chartLab24 = chartLab24.drop(chartLab24[(chartLab24.ITEMID=='RESPR') & (chartLab24.VALUE>1000)].index) ##   entries"
   ]
  },
  {
   "cell_type": "code",
   "execution_count": 20,
   "metadata": {},
   "outputs": [],
   "source": [
    "# SBP\n",
    "chartLab24 = chartLab24.drop(chartLab24[(chartLab24.ITEMID=='SBP') & (chartLab24.VALUE>1000)].index) ##   entries"
   ]
  },
  {
   "cell_type": "code",
   "execution_count": 21,
   "metadata": {},
   "outputs": [],
   "source": [
    "# TEMP\n",
    "chartLab24 = chartLab24.drop(chartLab24[(chartLab24.ITEMID=='TEMP') & (chartLab24.VALUE>50)].index) \n",
    "chartLab24 = chartLab24.drop(chartLab24[(chartLab24.ITEMID=='TEMP') & (chartLab24.VALUE<20)].index) ##   entries"
   ]
  },
  {
   "cell_type": "code",
   "execution_count": 22,
   "metadata": {},
   "outputs": [],
   "source": [
    "# weight\n",
    "chartLab24 = chartLab24.drop(chartLab24[(chartLab24.ITEMID=='WEIGHT') & (chartLab24.VALUE>1000)].index) \n",
    "chartLab24 = chartLab24.drop(chartLab24[(chartLab24.ITEMID=='WEIGHT') & (chartLab24.VALUE<10)].index) ##   entries"
   ]
  },
  {
   "cell_type": "code",
   "execution_count": 23,
   "metadata": {
    "scrolled": false
   },
   "outputs": [
    {
     "name": "stdout",
     "output_type": "stream",
     "text": [
      "<class 'pandas.core.frame.DataFrame'>\n",
      "Int64Index: 12017191 entries, 0 to 12018538\n",
      "Data columns (total 5 columns):\n",
      " #   Column      Dtype  \n",
      "---  ------      -----  \n",
      " 0   SUBJECT_ID  int64  \n",
      " 1   HADM_ID     int64  \n",
      " 2   ITEMID      object \n",
      " 3   CHARTTIME   object \n",
      " 4   VALUE       float64\n",
      "dtypes: float64(1), int64(2), object(2)\n",
      "memory usage: 550.1+ MB\n"
     ]
    }
   ],
   "source": [
    "chartLab24.info() # 12,017,199"
   ]
  },
  {
   "cell_type": "code",
   "execution_count": null,
   "metadata": {},
   "outputs": [],
   "source": []
  },
  {
   "cell_type": "code",
   "execution_count": 24,
   "metadata": {},
   "outputs": [],
   "source": [
    "chartLab24_mean = chartLab24[['HADM_ID', 'ITEMID', 'VALUE']].groupby(['HADM_ID', 'ITEMID'], as_index=False).mean()"
   ]
  },
  {
   "cell_type": "code",
   "execution_count": 25,
   "metadata": {},
   "outputs": [
    {
     "data": {
      "text/plain": [
       "46228"
      ]
     },
     "execution_count": 25,
     "metadata": {},
     "output_type": "execute_result"
    }
   ],
   "source": [
    "len(chartLab24_mean['HADM_ID'].unique()) ## 46228 admission, 14 itemid"
   ]
  },
  {
   "cell_type": "code",
   "execution_count": 26,
   "metadata": {},
   "outputs": [
    {
     "data": {
      "text/html": [
       "<div>\n",
       "<style scoped>\n",
       "    .dataframe tbody tr th:only-of-type {\n",
       "        vertical-align: middle;\n",
       "    }\n",
       "\n",
       "    .dataframe tbody tr th {\n",
       "        vertical-align: top;\n",
       "    }\n",
       "\n",
       "    .dataframe thead th {\n",
       "        text-align: right;\n",
       "    }\n",
       "</style>\n",
       "<table border=\"1\" class=\"dataframe\">\n",
       "  <thead>\n",
       "    <tr style=\"text-align: right;\">\n",
       "      <th></th>\n",
       "      <th>HADM_ID</th>\n",
       "      <th>ITEMID</th>\n",
       "      <th>VALUE</th>\n",
       "    </tr>\n",
       "  </thead>\n",
       "  <tbody>\n",
       "    <tr>\n",
       "      <th>0</th>\n",
       "      <td>100001</td>\n",
       "      <td>DBP</td>\n",
       "      <td>90.666667</td>\n",
       "    </tr>\n",
       "    <tr>\n",
       "      <th>1</th>\n",
       "      <td>100001</td>\n",
       "      <td>GLU</td>\n",
       "      <td>176.576923</td>\n",
       "    </tr>\n",
       "    <tr>\n",
       "      <th>2</th>\n",
       "      <td>100001</td>\n",
       "      <td>GMR</td>\n",
       "      <td>6.000000</td>\n",
       "    </tr>\n",
       "    <tr>\n",
       "      <th>3</th>\n",
       "      <td>100001</td>\n",
       "      <td>GO</td>\n",
       "      <td>4.000000</td>\n",
       "    </tr>\n",
       "    <tr>\n",
       "      <th>4</th>\n",
       "      <td>100001</td>\n",
       "      <td>GVR</td>\n",
       "      <td>5.000000</td>\n",
       "    </tr>\n",
       "  </tbody>\n",
       "</table>\n",
       "</div>"
      ],
      "text/plain": [
       "   HADM_ID ITEMID       VALUE\n",
       "0   100001    DBP   90.666667\n",
       "1   100001    GLU  176.576923\n",
       "2   100001    GMR    6.000000\n",
       "3   100001     GO    4.000000\n",
       "4   100001    GVR    5.000000"
      ]
     },
     "execution_count": 26,
     "metadata": {},
     "output_type": "execute_result"
    }
   ],
   "source": [
    "chartLab24_mean.head()"
   ]
  },
  {
   "cell_type": "code",
   "execution_count": 27,
   "metadata": {},
   "outputs": [],
   "source": [
    "# pivot table to have each itemid as one column\n",
    "chartLab24_pivot = chartLab24_mean.pivot(index='HADM_ID', columns = 'ITEMID', values='VALUE')"
   ]
  },
  {
   "cell_type": "code",
   "execution_count": 28,
   "metadata": {},
   "outputs": [
    {
     "data": {
      "text/html": [
       "<div>\n",
       "<style scoped>\n",
       "    .dataframe tbody tr th:only-of-type {\n",
       "        vertical-align: middle;\n",
       "    }\n",
       "\n",
       "    .dataframe tbody tr th {\n",
       "        vertical-align: top;\n",
       "    }\n",
       "\n",
       "    .dataframe thead th {\n",
       "        text-align: right;\n",
       "    }\n",
       "</style>\n",
       "<table border=\"1\" class=\"dataframe\">\n",
       "  <thead>\n",
       "    <tr style=\"text-align: right;\">\n",
       "      <th>ITEMID</th>\n",
       "      <th>CRR</th>\n",
       "      <th>DBP</th>\n",
       "      <th>FIO</th>\n",
       "      <th>GLU</th>\n",
       "      <th>GMR</th>\n",
       "      <th>GO</th>\n",
       "      <th>GT</th>\n",
       "      <th>GVR</th>\n",
       "      <th>HEIGHT</th>\n",
       "      <th>HR</th>\n",
       "      <th>MBP</th>\n",
       "      <th>OS</th>\n",
       "      <th>PH</th>\n",
       "      <th>POTA</th>\n",
       "      <th>RESPR</th>\n",
       "      <th>SBP</th>\n",
       "      <th>TEMP</th>\n",
       "      <th>UREA</th>\n",
       "      <th>WBC</th>\n",
       "      <th>WEIGHT</th>\n",
       "    </tr>\n",
       "    <tr>\n",
       "      <th>HADM_ID</th>\n",
       "      <th></th>\n",
       "      <th></th>\n",
       "      <th></th>\n",
       "      <th></th>\n",
       "      <th></th>\n",
       "      <th></th>\n",
       "      <th></th>\n",
       "      <th></th>\n",
       "      <th></th>\n",
       "      <th></th>\n",
       "      <th></th>\n",
       "      <th></th>\n",
       "      <th></th>\n",
       "      <th></th>\n",
       "      <th></th>\n",
       "      <th></th>\n",
       "      <th></th>\n",
       "      <th></th>\n",
       "      <th></th>\n",
       "      <th></th>\n",
       "    </tr>\n",
       "  </thead>\n",
       "  <tbody>\n",
       "    <tr>\n",
       "      <th>100001</th>\n",
       "      <td>NaN</td>\n",
       "      <td>90.666667</td>\n",
       "      <td>NaN</td>\n",
       "      <td>176.576923</td>\n",
       "      <td>6.0</td>\n",
       "      <td>4.000000</td>\n",
       "      <td>NaN</td>\n",
       "      <td>5.0</td>\n",
       "      <td>NaN</td>\n",
       "      <td>111.760000</td>\n",
       "      <td>110.545455</td>\n",
       "      <td>97.833333</td>\n",
       "      <td>6.500000</td>\n",
       "      <td>4.075</td>\n",
       "      <td>16.875000</td>\n",
       "      <td>177.041667</td>\n",
       "      <td>37.047619</td>\n",
       "      <td>37.75</td>\n",
       "      <td>10.800000</td>\n",
       "      <td>98.010000</td>\n",
       "    </tr>\n",
       "    <tr>\n",
       "      <th>100003</th>\n",
       "      <td>NaN</td>\n",
       "      <td>57.593750</td>\n",
       "      <td>NaN</td>\n",
       "      <td>81.200000</td>\n",
       "      <td>6.0</td>\n",
       "      <td>3.857143</td>\n",
       "      <td>NaN</td>\n",
       "      <td>5.0</td>\n",
       "      <td>NaN</td>\n",
       "      <td>79.441176</td>\n",
       "      <td>70.031250</td>\n",
       "      <td>98.088235</td>\n",
       "      <td>6.746667</td>\n",
       "      <td>5.000</td>\n",
       "      <td>15.058824</td>\n",
       "      <td>109.468750</td>\n",
       "      <td>36.246032</td>\n",
       "      <td>47.50</td>\n",
       "      <td>13.933333</td>\n",
       "      <td>84.882500</td>\n",
       "    </tr>\n",
       "    <tr>\n",
       "      <th>100006</th>\n",
       "      <td>NaN</td>\n",
       "      <td>68.782609</td>\n",
       "      <td>NaN</td>\n",
       "      <td>155.000000</td>\n",
       "      <td>6.0</td>\n",
       "      <td>4.000000</td>\n",
       "      <td>15.0</td>\n",
       "      <td>5.0</td>\n",
       "      <td>NaN</td>\n",
       "      <td>111.958333</td>\n",
       "      <td>88.405796</td>\n",
       "      <td>97.880000</td>\n",
       "      <td>7.370000</td>\n",
       "      <td>3.700</td>\n",
       "      <td>19.375000</td>\n",
       "      <td>127.652174</td>\n",
       "      <td>36.231482</td>\n",
       "      <td>16.00</td>\n",
       "      <td>13.600000</td>\n",
       "      <td>57.000000</td>\n",
       "    </tr>\n",
       "    <tr>\n",
       "      <th>100007</th>\n",
       "      <td>NaN</td>\n",
       "      <td>62.558824</td>\n",
       "      <td>NaN</td>\n",
       "      <td>126.800000</td>\n",
       "      <td>6.0</td>\n",
       "      <td>3.900000</td>\n",
       "      <td>14.1</td>\n",
       "      <td>4.2</td>\n",
       "      <td>NaN</td>\n",
       "      <td>76.242424</td>\n",
       "      <td>87.878788</td>\n",
       "      <td>99.823529</td>\n",
       "      <td>NaN</td>\n",
       "      <td>4.400</td>\n",
       "      <td>16.205882</td>\n",
       "      <td>141.558824</td>\n",
       "      <td>36.825392</td>\n",
       "      <td>13.00</td>\n",
       "      <td>10.550000</td>\n",
       "      <td>55.099998</td>\n",
       "    </tr>\n",
       "    <tr>\n",
       "      <th>100009</th>\n",
       "      <td>NaN</td>\n",
       "      <td>53.125000</td>\n",
       "      <td>70.0</td>\n",
       "      <td>139.968750</td>\n",
       "      <td>4.0</td>\n",
       "      <td>4.000000</td>\n",
       "      <td>NaN</td>\n",
       "      <td>3.4</td>\n",
       "      <td>182.94</td>\n",
       "      <td>78.478261</td>\n",
       "      <td>69.958333</td>\n",
       "      <td>96.606061</td>\n",
       "      <td>7.372174</td>\n",
       "      <td>4.050</td>\n",
       "      <td>22.689655</td>\n",
       "      <td>114.833333</td>\n",
       "      <td>NaN</td>\n",
       "      <td>12.50</td>\n",
       "      <td>14.466667</td>\n",
       "      <td>116.650000</td>\n",
       "    </tr>\n",
       "  </tbody>\n",
       "</table>\n",
       "</div>"
      ],
      "text/plain": [
       "ITEMID   CRR        DBP   FIO         GLU  GMR        GO    GT  GVR  HEIGHT  \\\n",
       "HADM_ID                                                                       \n",
       "100001   NaN  90.666667   NaN  176.576923  6.0  4.000000   NaN  5.0     NaN   \n",
       "100003   NaN  57.593750   NaN   81.200000  6.0  3.857143   NaN  5.0     NaN   \n",
       "100006   NaN  68.782609   NaN  155.000000  6.0  4.000000  15.0  5.0     NaN   \n",
       "100007   NaN  62.558824   NaN  126.800000  6.0  3.900000  14.1  4.2     NaN   \n",
       "100009   NaN  53.125000  70.0  139.968750  4.0  4.000000   NaN  3.4  182.94   \n",
       "\n",
       "ITEMID           HR         MBP         OS        PH   POTA      RESPR  \\\n",
       "HADM_ID                                                                  \n",
       "100001   111.760000  110.545455  97.833333  6.500000  4.075  16.875000   \n",
       "100003    79.441176   70.031250  98.088235  6.746667  5.000  15.058824   \n",
       "100006   111.958333   88.405796  97.880000  7.370000  3.700  19.375000   \n",
       "100007    76.242424   87.878788  99.823529       NaN  4.400  16.205882   \n",
       "100009    78.478261   69.958333  96.606061  7.372174  4.050  22.689655   \n",
       "\n",
       "ITEMID          SBP       TEMP   UREA        WBC      WEIGHT  \n",
       "HADM_ID                                                       \n",
       "100001   177.041667  37.047619  37.75  10.800000   98.010000  \n",
       "100003   109.468750  36.246032  47.50  13.933333   84.882500  \n",
       "100006   127.652174  36.231482  16.00  13.600000   57.000000  \n",
       "100007   141.558824  36.825392  13.00  10.550000   55.099998  \n",
       "100009   114.833333        NaN  12.50  14.466667  116.650000  "
      ]
     },
     "execution_count": 28,
     "metadata": {},
     "output_type": "execute_result"
    }
   ],
   "source": [
    "chartLab24_pivot.head()"
   ]
  },
  {
   "cell_type": "code",
   "execution_count": 29,
   "metadata": {},
   "outputs": [
    {
     "data": {
      "text/html": [
       "<div>\n",
       "<style scoped>\n",
       "    .dataframe tbody tr th:only-of-type {\n",
       "        vertical-align: middle;\n",
       "    }\n",
       "\n",
       "    .dataframe tbody tr th {\n",
       "        vertical-align: top;\n",
       "    }\n",
       "\n",
       "    .dataframe thead th {\n",
       "        text-align: right;\n",
       "    }\n",
       "</style>\n",
       "<table border=\"1\" class=\"dataframe\">\n",
       "  <thead>\n",
       "    <tr style=\"text-align: right;\">\n",
       "      <th>ITEMID</th>\n",
       "      <th>CRR</th>\n",
       "      <th>DBP</th>\n",
       "      <th>FIO</th>\n",
       "      <th>GLU</th>\n",
       "      <th>GMR</th>\n",
       "      <th>GO</th>\n",
       "      <th>GT</th>\n",
       "      <th>GVR</th>\n",
       "      <th>HEIGHT</th>\n",
       "      <th>HR</th>\n",
       "      <th>MBP</th>\n",
       "      <th>OS</th>\n",
       "      <th>PH</th>\n",
       "      <th>POTA</th>\n",
       "      <th>RESPR</th>\n",
       "      <th>SBP</th>\n",
       "      <th>TEMP</th>\n",
       "      <th>UREA</th>\n",
       "      <th>WBC</th>\n",
       "      <th>WEIGHT</th>\n",
       "    </tr>\n",
       "  </thead>\n",
       "  <tbody>\n",
       "    <tr>\n",
       "      <th>count</th>\n",
       "      <td>603.000000</td>\n",
       "      <td>45551.000000</td>\n",
       "      <td>11049.000000</td>\n",
       "      <td>45558.000000</td>\n",
       "      <td>45574.000000</td>\n",
       "      <td>44769.000000</td>\n",
       "      <td>25097.000000</td>\n",
       "      <td>45517.000000</td>\n",
       "      <td>7958.000000</td>\n",
       "      <td>45552.000000</td>\n",
       "      <td>45545.000000</td>\n",
       "      <td>45748.000000</td>\n",
       "      <td>31189.000000</td>\n",
       "      <td>45140.000000</td>\n",
       "      <td>45510.000000</td>\n",
       "      <td>45551.000000</td>\n",
       "      <td>44819.000000</td>\n",
       "      <td>44880.000000</td>\n",
       "      <td>44331.000000</td>\n",
       "      <td>34899.000000</td>\n",
       "    </tr>\n",
       "    <tr>\n",
       "      <th>mean</th>\n",
       "      <td>0.176731</td>\n",
       "      <td>60.753918</td>\n",
       "      <td>52.794358</td>\n",
       "      <td>139.769909</td>\n",
       "      <td>5.359049</td>\n",
       "      <td>3.469790</td>\n",
       "      <td>12.144194</td>\n",
       "      <td>3.594040</td>\n",
       "      <td>168.626629</td>\n",
       "      <td>85.141822</td>\n",
       "      <td>78.146019</td>\n",
       "      <td>96.848085</td>\n",
       "      <td>7.101006</td>\n",
       "      <td>4.142703</td>\n",
       "      <td>18.084805</td>\n",
       "      <td>118.946055</td>\n",
       "      <td>36.813807</td>\n",
       "      <td>24.951671</td>\n",
       "      <td>11.814366</td>\n",
       "      <td>81.651078</td>\n",
       "    </tr>\n",
       "    <tr>\n",
       "      <th>std</th>\n",
       "      <td>0.346208</td>\n",
       "      <td>11.034646</td>\n",
       "      <td>25.518506</td>\n",
       "      <td>46.616994</td>\n",
       "      <td>1.120022</td>\n",
       "      <td>0.751136</td>\n",
       "      <td>3.357234</td>\n",
       "      <td>1.609497</td>\n",
       "      <td>15.098265</td>\n",
       "      <td>15.627219</td>\n",
       "      <td>11.421022</td>\n",
       "      <td>4.214614</td>\n",
       "      <td>0.643116</td>\n",
       "      <td>0.572347</td>\n",
       "      <td>4.090390</td>\n",
       "      <td>17.280853</td>\n",
       "      <td>0.632944</td>\n",
       "      <td>20.519487</td>\n",
       "      <td>9.187077</td>\n",
       "      <td>24.445153</td>\n",
       "    </tr>\n",
       "    <tr>\n",
       "      <th>min</th>\n",
       "      <td>0.000000</td>\n",
       "      <td>0.000000</td>\n",
       "      <td>0.000000</td>\n",
       "      <td>21.000000</td>\n",
       "      <td>1.000000</td>\n",
       "      <td>1.000000</td>\n",
       "      <td>3.000000</td>\n",
       "      <td>1.000000</td>\n",
       "      <td>0.000000</td>\n",
       "      <td>26.357143</td>\n",
       "      <td>17.428571</td>\n",
       "      <td>13.500000</td>\n",
       "      <td>0.000000</td>\n",
       "      <td>1.942857</td>\n",
       "      <td>2.000000</td>\n",
       "      <td>0.000000</td>\n",
       "      <td>30.000000</td>\n",
       "      <td>1.000000</td>\n",
       "      <td>0.000000</td>\n",
       "      <td>10.000000</td>\n",
       "    </tr>\n",
       "    <tr>\n",
       "      <th>25%</th>\n",
       "      <td>0.000000</td>\n",
       "      <td>53.290995</td>\n",
       "      <td>43.333333</td>\n",
       "      <td>111.000000</td>\n",
       "      <td>5.142857</td>\n",
       "      <td>3.200000</td>\n",
       "      <td>9.916667</td>\n",
       "      <td>2.000000</td>\n",
       "      <td>162.780000</td>\n",
       "      <td>74.172167</td>\n",
       "      <td>70.347826</td>\n",
       "      <td>95.833333</td>\n",
       "      <td>7.166000</td>\n",
       "      <td>3.800000</td>\n",
       "      <td>15.261128</td>\n",
       "      <td>106.727273</td>\n",
       "      <td>36.435185</td>\n",
       "      <td>12.500000</td>\n",
       "      <td>7.700000</td>\n",
       "      <td>65.670000</td>\n",
       "    </tr>\n",
       "    <tr>\n",
       "      <th>50%</th>\n",
       "      <td>0.000000</td>\n",
       "      <td>59.739130</td>\n",
       "      <td>52.000000</td>\n",
       "      <td>129.500000</td>\n",
       "      <td>6.000000</td>\n",
       "      <td>3.833333</td>\n",
       "      <td>13.714286</td>\n",
       "      <td>4.333333</td>\n",
       "      <td>170.090000</td>\n",
       "      <td>84.068381</td>\n",
       "      <td>76.793096</td>\n",
       "      <td>97.250000</td>\n",
       "      <td>7.347500</td>\n",
       "      <td>4.100000</td>\n",
       "      <td>17.500000</td>\n",
       "      <td>116.620000</td>\n",
       "      <td>36.788889</td>\n",
       "      <td>18.000000</td>\n",
       "      <td>10.600000</td>\n",
       "      <td>78.400002</td>\n",
       "    </tr>\n",
       "    <tr>\n",
       "      <th>75%</th>\n",
       "      <td>0.072917</td>\n",
       "      <td>67.113961</td>\n",
       "      <td>63.333333</td>\n",
       "      <td>156.000000</td>\n",
       "      <td>6.000000</td>\n",
       "      <td>4.000000</td>\n",
       "      <td>15.000000</td>\n",
       "      <td>5.000000</td>\n",
       "      <td>177.900000</td>\n",
       "      <td>95.095622</td>\n",
       "      <td>84.809524</td>\n",
       "      <td>98.466667</td>\n",
       "      <td>7.399412</td>\n",
       "      <td>4.422222</td>\n",
       "      <td>20.285714</td>\n",
       "      <td>129.434783</td>\n",
       "      <td>37.182548</td>\n",
       "      <td>29.750000</td>\n",
       "      <td>14.166667</td>\n",
       "      <td>93.202500</td>\n",
       "    </tr>\n",
       "    <tr>\n",
       "      <th>max</th>\n",
       "      <td>1.388889</td>\n",
       "      <td>132.333333</td>\n",
       "      <td>1001.000000</td>\n",
       "      <td>800.235294</td>\n",
       "      <td>6.000000</td>\n",
       "      <td>4.000000</td>\n",
       "      <td>15.000000</td>\n",
       "      <td>5.000000</td>\n",
       "      <td>248.960000</td>\n",
       "      <td>215.575758</td>\n",
       "      <td>148.968750</td>\n",
       "      <td>497.608696</td>\n",
       "      <td>9.000000</td>\n",
       "      <td>36.970588</td>\n",
       "      <td>49.555556</td>\n",
       "      <td>215.833333</td>\n",
       "      <td>40.833317</td>\n",
       "      <td>263.250000</td>\n",
       "      <td>619.725000</td>\n",
       "      <td>670.000000</td>\n",
       "    </tr>\n",
       "  </tbody>\n",
       "</table>\n",
       "</div>"
      ],
      "text/plain": [
       "ITEMID         CRR           DBP           FIO           GLU           GMR  \\\n",
       "count   603.000000  45551.000000  11049.000000  45558.000000  45574.000000   \n",
       "mean      0.176731     60.753918     52.794358    139.769909      5.359049   \n",
       "std       0.346208     11.034646     25.518506     46.616994      1.120022   \n",
       "min       0.000000      0.000000      0.000000     21.000000      1.000000   \n",
       "25%       0.000000     53.290995     43.333333    111.000000      5.142857   \n",
       "50%       0.000000     59.739130     52.000000    129.500000      6.000000   \n",
       "75%       0.072917     67.113961     63.333333    156.000000      6.000000   \n",
       "max       1.388889    132.333333   1001.000000    800.235294      6.000000   \n",
       "\n",
       "ITEMID            GO            GT           GVR       HEIGHT            HR  \\\n",
       "count   44769.000000  25097.000000  45517.000000  7958.000000  45552.000000   \n",
       "mean        3.469790     12.144194      3.594040   168.626629     85.141822   \n",
       "std         0.751136      3.357234      1.609497    15.098265     15.627219   \n",
       "min         1.000000      3.000000      1.000000     0.000000     26.357143   \n",
       "25%         3.200000      9.916667      2.000000   162.780000     74.172167   \n",
       "50%         3.833333     13.714286      4.333333   170.090000     84.068381   \n",
       "75%         4.000000     15.000000      5.000000   177.900000     95.095622   \n",
       "max         4.000000     15.000000      5.000000   248.960000    215.575758   \n",
       "\n",
       "ITEMID           MBP            OS            PH          POTA         RESPR  \\\n",
       "count   45545.000000  45748.000000  31189.000000  45140.000000  45510.000000   \n",
       "mean       78.146019     96.848085      7.101006      4.142703     18.084805   \n",
       "std        11.421022      4.214614      0.643116      0.572347      4.090390   \n",
       "min        17.428571     13.500000      0.000000      1.942857      2.000000   \n",
       "25%        70.347826     95.833333      7.166000      3.800000     15.261128   \n",
       "50%        76.793096     97.250000      7.347500      4.100000     17.500000   \n",
       "75%        84.809524     98.466667      7.399412      4.422222     20.285714   \n",
       "max       148.968750    497.608696      9.000000     36.970588     49.555556   \n",
       "\n",
       "ITEMID           SBP          TEMP          UREA           WBC        WEIGHT  \n",
       "count   45551.000000  44819.000000  44880.000000  44331.000000  34899.000000  \n",
       "mean      118.946055     36.813807     24.951671     11.814366     81.651078  \n",
       "std        17.280853      0.632944     20.519487      9.187077     24.445153  \n",
       "min         0.000000     30.000000      1.000000      0.000000     10.000000  \n",
       "25%       106.727273     36.435185     12.500000      7.700000     65.670000  \n",
       "50%       116.620000     36.788889     18.000000     10.600000     78.400002  \n",
       "75%       129.434783     37.182548     29.750000     14.166667     93.202500  \n",
       "max       215.833333     40.833317    263.250000    619.725000    670.000000  "
      ]
     },
     "execution_count": 29,
     "metadata": {},
     "output_type": "execute_result"
    }
   ],
   "source": [
    "chartLab24_pivot.describe()"
   ]
  },
  {
   "cell_type": "code",
   "execution_count": null,
   "metadata": {},
   "outputs": [],
   "source": []
  },
  {
   "cell_type": "markdown",
   "metadata": {},
   "source": [
    "# Null entry imputation"
   ]
  },
  {
   "cell_type": "code",
   "execution_count": 30,
   "metadata": {},
   "outputs": [],
   "source": [
    "# null entry imputation-- CRR 0.0\n",
    "chartLab24_pivot['CRR'].fillna(0.0, inplace=True)"
   ]
  },
  {
   "cell_type": "code",
   "execution_count": 31,
   "metadata": {},
   "outputs": [],
   "source": [
    "# null entry imputation-- DBP 59.0\n",
    "chartLab24_pivot['DBP'].fillna(59.0, inplace=True)"
   ]
  },
  {
   "cell_type": "code",
   "execution_count": 32,
   "metadata": {},
   "outputs": [],
   "source": [
    "# null entry imputation-- FIO 0.21\n",
    "chartLab24_pivot['FIO'].fillna(52, inplace=True)"
   ]
  },
  {
   "cell_type": "code",
   "execution_count": 33,
   "metadata": {},
   "outputs": [],
   "source": [
    "# null entry imputation-- GLU 128\n",
    "chartLab24_pivot['GLU'].fillna(128, inplace=True)"
   ]
  },
  {
   "cell_type": "code",
   "execution_count": 34,
   "metadata": {},
   "outputs": [],
   "source": [
    "# null entry imputation-- GMR 6\n",
    "chartLab24_pivot['GMR'].fillna(6, inplace=True)"
   ]
  },
  {
   "cell_type": "code",
   "execution_count": 35,
   "metadata": {},
   "outputs": [],
   "source": [
    "# null entry imputation-- GO 4\n",
    "chartLab24_pivot['GO'].fillna(4, inplace=True)"
   ]
  },
  {
   "cell_type": "code",
   "execution_count": 36,
   "metadata": {},
   "outputs": [],
   "source": [
    "# null entry imputation-- GT 15\n",
    "chartLab24_pivot['GT'].fillna(15, inplace=True)"
   ]
  },
  {
   "cell_type": "code",
   "execution_count": 37,
   "metadata": {},
   "outputs": [],
   "source": [
    "# null entry imputation-- GVR 5\n",
    "chartLab24_pivot['GVR'].fillna(5, inplace=True)"
   ]
  },
  {
   "cell_type": "code",
   "execution_count": 38,
   "metadata": {},
   "outputs": [],
   "source": [
    "# null entry imputation-- HEIGHT 5\n",
    "chartLab24_pivot['HEIGHT'].fillna(170, inplace=True)"
   ]
  },
  {
   "cell_type": "code",
   "execution_count": 39,
   "metadata": {},
   "outputs": [],
   "source": [
    "# null entry imputation-- MBP 77\n",
    "chartLab24_pivot['MBP'].fillna(77, inplace=True)"
   ]
  },
  {
   "cell_type": "code",
   "execution_count": 40,
   "metadata": {},
   "outputs": [],
   "source": [
    "# null entry imputation-- HR 5\n",
    "chartLab24_pivot['HR'].fillna(86, inplace=True)"
   ]
  },
  {
   "cell_type": "code",
   "execution_count": 41,
   "metadata": {},
   "outputs": [],
   "source": [
    "# null entry imputation-- OS 98\n",
    "chartLab24_pivot['OS'].fillna(98, inplace=True)"
   ]
  },
  {
   "cell_type": "code",
   "execution_count": 42,
   "metadata": {},
   "outputs": [],
   "source": [
    "# null entry imputation-- PH 98\n",
    "chartLab24_pivot['PH'].fillna(7.4, inplace=True)"
   ]
  },
  {
   "cell_type": "code",
   "execution_count": 43,
   "metadata": {},
   "outputs": [],
   "source": [
    "# null entry imputation-- RESPR 98\n",
    "chartLab24_pivot['RESPR'].fillna(19, inplace=True)"
   ]
  },
  {
   "cell_type": "code",
   "execution_count": 44,
   "metadata": {},
   "outputs": [],
   "source": [
    "# null entry imputation-- SBP 118\n",
    "chartLab24_pivot['SBP'].fillna(118, inplace=True)"
   ]
  },
  {
   "cell_type": "code",
   "execution_count": 45,
   "metadata": {},
   "outputs": [],
   "source": [
    "# null entry imputation-- TEMP 36.6\n",
    "chartLab24_pivot['TEMP'].fillna(36.6, inplace=True)"
   ]
  },
  {
   "cell_type": "code",
   "execution_count": 46,
   "metadata": {},
   "outputs": [],
   "source": [
    "# null entry imputation-- WEIGHT 81\n",
    "chartLab24_pivot['WEIGHT'].fillna(81, inplace=True)"
   ]
  },
  {
   "cell_type": "code",
   "execution_count": 47,
   "metadata": {},
   "outputs": [],
   "source": [
    "# null entry imputation-- POTA 4.14\n",
    "chartLab24_pivot['POTA'].fillna(4.14, inplace=True)"
   ]
  },
  {
   "cell_type": "code",
   "execution_count": 48,
   "metadata": {},
   "outputs": [],
   "source": [
    "# null entry imputation-- UREA 25\n",
    "chartLab24_pivot['UREA'].fillna(25, inplace=True)"
   ]
  },
  {
   "cell_type": "code",
   "execution_count": 49,
   "metadata": {},
   "outputs": [],
   "source": [
    "# null entry imputation-- WBC 11.81\n",
    "chartLab24_pivot['WBC'].fillna(11.81, inplace=True)"
   ]
  },
  {
   "cell_type": "code",
   "execution_count": 50,
   "metadata": {},
   "outputs": [
    {
     "data": {
      "text/html": [
       "<div>\n",
       "<style scoped>\n",
       "    .dataframe tbody tr th:only-of-type {\n",
       "        vertical-align: middle;\n",
       "    }\n",
       "\n",
       "    .dataframe tbody tr th {\n",
       "        vertical-align: top;\n",
       "    }\n",
       "\n",
       "    .dataframe thead th {\n",
       "        text-align: right;\n",
       "    }\n",
       "</style>\n",
       "<table border=\"1\" class=\"dataframe\">\n",
       "  <thead>\n",
       "    <tr style=\"text-align: right;\">\n",
       "      <th>ITEMID</th>\n",
       "      <th>CRR</th>\n",
       "      <th>DBP</th>\n",
       "      <th>FIO</th>\n",
       "      <th>GLU</th>\n",
       "      <th>GMR</th>\n",
       "      <th>GO</th>\n",
       "      <th>GT</th>\n",
       "      <th>GVR</th>\n",
       "      <th>HEIGHT</th>\n",
       "      <th>HR</th>\n",
       "      <th>MBP</th>\n",
       "      <th>OS</th>\n",
       "      <th>PH</th>\n",
       "      <th>POTA</th>\n",
       "      <th>RESPR</th>\n",
       "      <th>SBP</th>\n",
       "      <th>TEMP</th>\n",
       "      <th>UREA</th>\n",
       "      <th>WBC</th>\n",
       "      <th>WEIGHT</th>\n",
       "    </tr>\n",
       "    <tr>\n",
       "      <th>HADM_ID</th>\n",
       "      <th></th>\n",
       "      <th></th>\n",
       "      <th></th>\n",
       "      <th></th>\n",
       "      <th></th>\n",
       "      <th></th>\n",
       "      <th></th>\n",
       "      <th></th>\n",
       "      <th></th>\n",
       "      <th></th>\n",
       "      <th></th>\n",
       "      <th></th>\n",
       "      <th></th>\n",
       "      <th></th>\n",
       "      <th></th>\n",
       "      <th></th>\n",
       "      <th></th>\n",
       "      <th></th>\n",
       "      <th></th>\n",
       "      <th></th>\n",
       "    </tr>\n",
       "  </thead>\n",
       "  <tbody>\n",
       "    <tr>\n",
       "      <th>100001</th>\n",
       "      <td>0.0</td>\n",
       "      <td>90.666667</td>\n",
       "      <td>52.0</td>\n",
       "      <td>176.576923</td>\n",
       "      <td>6.0</td>\n",
       "      <td>4.000000</td>\n",
       "      <td>15.0</td>\n",
       "      <td>5.0</td>\n",
       "      <td>170.00</td>\n",
       "      <td>111.760000</td>\n",
       "      <td>110.545455</td>\n",
       "      <td>97.833333</td>\n",
       "      <td>6.500000</td>\n",
       "      <td>4.075</td>\n",
       "      <td>16.875000</td>\n",
       "      <td>177.041667</td>\n",
       "      <td>37.047619</td>\n",
       "      <td>37.75</td>\n",
       "      <td>10.800000</td>\n",
       "      <td>98.010000</td>\n",
       "    </tr>\n",
       "    <tr>\n",
       "      <th>100003</th>\n",
       "      <td>0.0</td>\n",
       "      <td>57.593750</td>\n",
       "      <td>52.0</td>\n",
       "      <td>81.200000</td>\n",
       "      <td>6.0</td>\n",
       "      <td>3.857143</td>\n",
       "      <td>15.0</td>\n",
       "      <td>5.0</td>\n",
       "      <td>170.00</td>\n",
       "      <td>79.441176</td>\n",
       "      <td>70.031250</td>\n",
       "      <td>98.088235</td>\n",
       "      <td>6.746667</td>\n",
       "      <td>5.000</td>\n",
       "      <td>15.058824</td>\n",
       "      <td>109.468750</td>\n",
       "      <td>36.246032</td>\n",
       "      <td>47.50</td>\n",
       "      <td>13.933333</td>\n",
       "      <td>84.882500</td>\n",
       "    </tr>\n",
       "    <tr>\n",
       "      <th>100006</th>\n",
       "      <td>0.0</td>\n",
       "      <td>68.782609</td>\n",
       "      <td>52.0</td>\n",
       "      <td>155.000000</td>\n",
       "      <td>6.0</td>\n",
       "      <td>4.000000</td>\n",
       "      <td>15.0</td>\n",
       "      <td>5.0</td>\n",
       "      <td>170.00</td>\n",
       "      <td>111.958333</td>\n",
       "      <td>88.405796</td>\n",
       "      <td>97.880000</td>\n",
       "      <td>7.370000</td>\n",
       "      <td>3.700</td>\n",
       "      <td>19.375000</td>\n",
       "      <td>127.652174</td>\n",
       "      <td>36.231482</td>\n",
       "      <td>16.00</td>\n",
       "      <td>13.600000</td>\n",
       "      <td>57.000000</td>\n",
       "    </tr>\n",
       "    <tr>\n",
       "      <th>100007</th>\n",
       "      <td>0.0</td>\n",
       "      <td>62.558824</td>\n",
       "      <td>52.0</td>\n",
       "      <td>126.800000</td>\n",
       "      <td>6.0</td>\n",
       "      <td>3.900000</td>\n",
       "      <td>14.1</td>\n",
       "      <td>4.2</td>\n",
       "      <td>170.00</td>\n",
       "      <td>76.242424</td>\n",
       "      <td>87.878788</td>\n",
       "      <td>99.823529</td>\n",
       "      <td>7.400000</td>\n",
       "      <td>4.400</td>\n",
       "      <td>16.205882</td>\n",
       "      <td>141.558824</td>\n",
       "      <td>36.825392</td>\n",
       "      <td>13.00</td>\n",
       "      <td>10.550000</td>\n",
       "      <td>55.099998</td>\n",
       "    </tr>\n",
       "    <tr>\n",
       "      <th>100009</th>\n",
       "      <td>0.0</td>\n",
       "      <td>53.125000</td>\n",
       "      <td>70.0</td>\n",
       "      <td>139.968750</td>\n",
       "      <td>4.0</td>\n",
       "      <td>4.000000</td>\n",
       "      <td>15.0</td>\n",
       "      <td>3.4</td>\n",
       "      <td>182.94</td>\n",
       "      <td>78.478261</td>\n",
       "      <td>69.958333</td>\n",
       "      <td>96.606061</td>\n",
       "      <td>7.372174</td>\n",
       "      <td>4.050</td>\n",
       "      <td>22.689655</td>\n",
       "      <td>114.833333</td>\n",
       "      <td>36.600000</td>\n",
       "      <td>12.50</td>\n",
       "      <td>14.466667</td>\n",
       "      <td>116.650000</td>\n",
       "    </tr>\n",
       "  </tbody>\n",
       "</table>\n",
       "</div>"
      ],
      "text/plain": [
       "ITEMID   CRR        DBP   FIO         GLU  GMR        GO    GT  GVR  HEIGHT  \\\n",
       "HADM_ID                                                                       \n",
       "100001   0.0  90.666667  52.0  176.576923  6.0  4.000000  15.0  5.0  170.00   \n",
       "100003   0.0  57.593750  52.0   81.200000  6.0  3.857143  15.0  5.0  170.00   \n",
       "100006   0.0  68.782609  52.0  155.000000  6.0  4.000000  15.0  5.0  170.00   \n",
       "100007   0.0  62.558824  52.0  126.800000  6.0  3.900000  14.1  4.2  170.00   \n",
       "100009   0.0  53.125000  70.0  139.968750  4.0  4.000000  15.0  3.4  182.94   \n",
       "\n",
       "ITEMID           HR         MBP         OS        PH   POTA      RESPR  \\\n",
       "HADM_ID                                                                  \n",
       "100001   111.760000  110.545455  97.833333  6.500000  4.075  16.875000   \n",
       "100003    79.441176   70.031250  98.088235  6.746667  5.000  15.058824   \n",
       "100006   111.958333   88.405796  97.880000  7.370000  3.700  19.375000   \n",
       "100007    76.242424   87.878788  99.823529  7.400000  4.400  16.205882   \n",
       "100009    78.478261   69.958333  96.606061  7.372174  4.050  22.689655   \n",
       "\n",
       "ITEMID          SBP       TEMP   UREA        WBC      WEIGHT  \n",
       "HADM_ID                                                       \n",
       "100001   177.041667  37.047619  37.75  10.800000   98.010000  \n",
       "100003   109.468750  36.246032  47.50  13.933333   84.882500  \n",
       "100006   127.652174  36.231482  16.00  13.600000   57.000000  \n",
       "100007   141.558824  36.825392  13.00  10.550000   55.099998  \n",
       "100009   114.833333  36.600000  12.50  14.466667  116.650000  "
      ]
     },
     "execution_count": 50,
     "metadata": {},
     "output_type": "execute_result"
    }
   ],
   "source": [
    "chartLab24_pivot.head()"
   ]
  },
  {
   "cell_type": "code",
   "execution_count": 51,
   "metadata": {
    "scrolled": false
   },
   "outputs": [
    {
     "data": {
      "text/plain": [
       "ITEMID\n",
       "CRR       False\n",
       "DBP       False\n",
       "FIO       False\n",
       "GLU       False\n",
       "GMR       False\n",
       "GO        False\n",
       "GT        False\n",
       "GVR       False\n",
       "HEIGHT    False\n",
       "HR        False\n",
       "MBP       False\n",
       "OS        False\n",
       "PH        False\n",
       "POTA      False\n",
       "RESPR     False\n",
       "SBP       False\n",
       "TEMP      False\n",
       "UREA      False\n",
       "WBC       False\n",
       "WEIGHT    False\n",
       "dtype: bool"
      ]
     },
     "execution_count": 51,
     "metadata": {},
     "output_type": "execute_result"
    }
   ],
   "source": [
    "chartLab24_pivot.isna().any()"
   ]
  },
  {
   "cell_type": "markdown",
   "metadata": {},
   "source": [
    "# Combine label and data together"
   ]
  },
  {
   "cell_type": "code",
   "execution_count": 52,
   "metadata": {},
   "outputs": [
    {
     "data": {
      "text/html": [
       "<div>\n",
       "<style scoped>\n",
       "    .dataframe tbody tr th:only-of-type {\n",
       "        vertical-align: middle;\n",
       "    }\n",
       "\n",
       "    .dataframe tbody tr th {\n",
       "        vertical-align: top;\n",
       "    }\n",
       "\n",
       "    .dataframe thead th {\n",
       "        text-align: right;\n",
       "    }\n",
       "</style>\n",
       "<table border=\"1\" class=\"dataframe\">\n",
       "  <thead>\n",
       "    <tr style=\"text-align: right;\">\n",
       "      <th></th>\n",
       "      <th>SUBJECT_ID</th>\n",
       "      <th>HADM_ID</th>\n",
       "      <th>Age</th>\n",
       "      <th>GENDER</th>\n",
       "      <th>HOSPITAL_EXPIRE_FLAG</th>\n",
       "      <th>GENDER_01</th>\n",
       "    </tr>\n",
       "  </thead>\n",
       "  <tbody>\n",
       "    <tr>\n",
       "      <th>0</th>\n",
       "      <td>22</td>\n",
       "      <td>165315</td>\n",
       "      <td>64.97</td>\n",
       "      <td>F</td>\n",
       "      <td>0</td>\n",
       "      <td>0</td>\n",
       "    </tr>\n",
       "    <tr>\n",
       "      <th>1</th>\n",
       "      <td>23</td>\n",
       "      <td>152223</td>\n",
       "      <td>71.18</td>\n",
       "      <td>M</td>\n",
       "      <td>0</td>\n",
       "      <td>1</td>\n",
       "    </tr>\n",
       "    <tr>\n",
       "      <th>2</th>\n",
       "      <td>23</td>\n",
       "      <td>124321</td>\n",
       "      <td>75.31</td>\n",
       "      <td>M</td>\n",
       "      <td>0</td>\n",
       "      <td>1</td>\n",
       "    </tr>\n",
       "    <tr>\n",
       "      <th>3</th>\n",
       "      <td>24</td>\n",
       "      <td>161859</td>\n",
       "      <td>39.04</td>\n",
       "      <td>M</td>\n",
       "      <td>0</td>\n",
       "      <td>1</td>\n",
       "    </tr>\n",
       "    <tr>\n",
       "      <th>4</th>\n",
       "      <td>25</td>\n",
       "      <td>129635</td>\n",
       "      <td>58.99</td>\n",
       "      <td>M</td>\n",
       "      <td>0</td>\n",
       "      <td>1</td>\n",
       "    </tr>\n",
       "  </tbody>\n",
       "</table>\n",
       "</div>"
      ],
      "text/plain": [
       "   SUBJECT_ID  HADM_ID    Age GENDER  HOSPITAL_EXPIRE_FLAG  GENDER_01\n",
       "0          22   165315  64.97      F                     0          0\n",
       "1          23   152223  71.18      M                     0          1\n",
       "2          23   124321  75.31      M                     0          1\n",
       "3          24   161859  39.04      M                     0          1\n",
       "4          25   129635  58.99      M                     0          1"
      ]
     },
     "execution_count": 52,
     "metadata": {},
     "output_type": "execute_result"
    }
   ],
   "source": [
    "patients.head()"
   ]
  },
  {
   "cell_type": "code",
   "execution_count": 53,
   "metadata": {},
   "outputs": [],
   "source": [
    "chartLab24_withlabel = chartLab24_pivot.join(patients[['HADM_ID', 'Age','GENDER_01','HOSPITAL_EXPIRE_FLAG']].set_index('HADM_ID'), how='left')"
   ]
  },
  {
   "cell_type": "code",
   "execution_count": 54,
   "metadata": {},
   "outputs": [
    {
     "name": "stdout",
     "output_type": "stream",
     "text": [
      "<class 'pandas.core.frame.DataFrame'>\n",
      "Int64Index: 46228 entries, 100001 to 199999\n",
      "Data columns (total 23 columns):\n",
      " #   Column                Non-Null Count  Dtype  \n",
      "---  ------                --------------  -----  \n",
      " 0   CRR                   46228 non-null  float64\n",
      " 1   DBP                   46228 non-null  float64\n",
      " 2   FIO                   46228 non-null  float64\n",
      " 3   GLU                   46228 non-null  float64\n",
      " 4   GMR                   46228 non-null  float64\n",
      " 5   GO                    46228 non-null  float64\n",
      " 6   GT                    46228 non-null  float64\n",
      " 7   GVR                   46228 non-null  float64\n",
      " 8   HEIGHT                46228 non-null  float64\n",
      " 9   HR                    46228 non-null  float64\n",
      " 10  MBP                   46228 non-null  float64\n",
      " 11  OS                    46228 non-null  float64\n",
      " 12  PH                    46228 non-null  float64\n",
      " 13  POTA                  46228 non-null  float64\n",
      " 14  RESPR                 46228 non-null  float64\n",
      " 15  SBP                   46228 non-null  float64\n",
      " 16  TEMP                  46228 non-null  float64\n",
      " 17  UREA                  46228 non-null  float64\n",
      " 18  WBC                   46228 non-null  float64\n",
      " 19  WEIGHT                46228 non-null  float64\n",
      " 20  Age                   46228 non-null  float64\n",
      " 21  GENDER_01             46228 non-null  int64  \n",
      " 22  HOSPITAL_EXPIRE_FLAG  46228 non-null  int64  \n",
      "dtypes: float64(21), int64(2)\n",
      "memory usage: 9.7 MB\n"
     ]
    }
   ],
   "source": [
    "chartLab24_withlabel.info()"
   ]
  },
  {
   "cell_type": "markdown",
   "metadata": {},
   "source": [
    "# Logistic model"
   ]
  },
  {
   "cell_type": "code",
   "execution_count": 68,
   "metadata": {},
   "outputs": [],
   "source": [
    "from sklearn.preprocessing import StandardScaler\n",
    "from sklearn.model_selection import train_test_split, cross_val_score\n",
    "from sklearn.neighbors import KNeighborsClassifier\n",
    "from sklearn.linear_model import LogisticRegression\n",
    "from sklearn.naive_bayes import GaussianNB\n",
    "from sklearn.svm import SVC\n",
    "from sklearn.ensemble import RandomForestClassifier\n",
    "from sklearn.neural_network import MLPClassifier\n",
    "from sklearn import metrics\n",
    "from sklearn.metrics import accuracy_score, confusion_matrix"
   ]
  },
  {
   "cell_type": "code",
   "execution_count": 56,
   "metadata": {},
   "outputs": [],
   "source": [
    "X = chartLab24_withlabel.loc[:, 'CRR':'GENDER_01']\n",
    "Y = chartLab24_withlabel.loc[:,'HOSPITAL_EXPIRE_FLAG']"
   ]
  },
  {
   "cell_type": "code",
   "execution_count": 57,
   "metadata": {},
   "outputs": [
    {
     "data": {
      "text/plain": [
       "(46228, 22)"
      ]
     },
     "execution_count": 57,
     "metadata": {},
     "output_type": "execute_result"
    }
   ],
   "source": [
    "X.shape"
   ]
  },
  {
   "cell_type": "code",
   "execution_count": 58,
   "metadata": {},
   "outputs": [],
   "source": [
    "# normolize X data\n",
    "X = StandardScaler().fit(X).transform(X)"
   ]
  },
  {
   "cell_type": "code",
   "execution_count": 59,
   "metadata": {},
   "outputs": [],
   "source": [
    "# split data to 80% train and 20% test\n",
    "X_train, X_test, Y_train, Y_test = train_test_split(X, Y, test_size=0.2, random_state=45)"
   ]
  },
  {
   "cell_type": "code",
   "execution_count": 60,
   "metadata": {},
   "outputs": [
    {
     "name": "stdout",
     "output_type": "stream",
     "text": [
      "0.9040074056889302\n"
     ]
    }
   ],
   "source": [
    "# 5-fold cv score\n",
    "logit = LogisticRegression(solver='liblinear')\n",
    "logit_cv_score = cross_val_score(logit, X_train, Y_train, cv=5)\n",
    "logit_cv_score = np.mean(logit_cv_score)\n",
    "print(logit_cv_score)"
   ]
  },
  {
   "cell_type": "code",
   "execution_count": 61,
   "metadata": {},
   "outputs": [],
   "source": [
    "# predict the test data\n",
    "logit.fit(X_train, Y_train)\n",
    "logit_preds = logit.predict(X_test)\n",
    "logit_accu = accuracy_score(Y_test, logit_preds)\n",
    "logit_matrix = confusion_matrix(Y_test, logit_preds)"
   ]
  },
  {
   "cell_type": "code",
   "execution_count": 62,
   "metadata": {},
   "outputs": [
    {
     "data": {
      "text/plain": [
       "array([[ 0.00264296, -0.27012528,  0.13072728,  0.14520226, -0.41278872,\n",
       "        -0.13824335, -0.03095943, -0.53604689,  0.02642355,  0.29176698,\n",
       "         0.12345732, -0.42598011, -0.03864694, -0.01728147,  0.38522364,\n",
       "        -0.14085013, -0.28475585,  0.38813785,  0.10406452, -0.25927923,\n",
       "         0.14385788, -0.04270272]])"
      ]
     },
     "execution_count": 62,
     "metadata": {},
     "output_type": "execute_result"
    }
   ],
   "source": [
    "logit.coef_"
   ]
  },
  {
   "cell_type": "code",
   "execution_count": 63,
   "metadata": {},
   "outputs": [
    {
     "data": {
      "text/plain": [
       "0.9012545965823059"
      ]
     },
     "execution_count": 63,
     "metadata": {},
     "output_type": "execute_result"
    }
   ],
   "source": [
    "logit_accu"
   ]
  },
  {
   "cell_type": "code",
   "execution_count": 64,
   "metadata": {},
   "outputs": [
    {
     "data": {
      "text/plain": [
       "array([[8078,  130],\n",
       "       [ 783,  255]])"
      ]
     },
     "execution_count": 64,
     "metadata": {},
     "output_type": "execute_result"
    }
   ],
   "source": [
    "logit_matrix"
   ]
  },
  {
   "cell_type": "code",
   "execution_count": 65,
   "metadata": {},
   "outputs": [
    {
     "name": "stderr",
     "output_type": "stream",
     "text": [
      "/opt/anaconda3/lib/python3.7/site-packages/statsmodels/tools/_testing.py:19: FutureWarning: pandas.util.testing is deprecated. Use the functions in the public API at pandas.testing instead.\n",
      "  import pandas.util.testing as tm\n"
     ]
    },
    {
     "data": {
      "image/png": "[encoded data removed]",
      "text/plain": [
       "<Figure size 432x288 with 2 Axes>"
      ]
     },
     "metadata": {
      "needs_background": "light"
     },
     "output_type": "display_data"
    }
   ],
   "source": [
    "from plots import plot_confusion_matrix\n",
    "results = [(i[0], i[1]) for i in zip(Y_test, logit_preds)]\n",
    "class_names = ['Alive', 'Dead']\n",
    "plot_confusion_matrix(results, class_names)"
   ]
  },
  {
   "cell_type": "code",
   "execution_count": 69,
   "metadata": {},
   "outputs": [
    {
     "data": {
      "text/plain": [
       "0.8507503136185571"
      ]
     },
     "execution_count": 69,
     "metadata": {},
     "output_type": "execute_result"
    }
   ],
   "source": [
    "logit_probs = logit.predict_proba(X_test)\n",
    "metrics.roc_auc_score(Y_test, logit_probs[:, 1])"
   ]
  },
  {
   "cell_type": "code",
   "execution_count": 70,
   "metadata": {},
   "outputs": [
    {
     "data": {
      "image/png": "[encoded data removed]",
      "text/plain": [
       "<Figure size 432x288 with 1 Axes>"
      ]
     },
     "metadata": {
      "needs_background": "light"
     },
     "output_type": "display_data"
    }
   ],
   "source": [
    "# auc curve\n",
    "from sklearn import metrics\n",
    "metrics.plot_roc_curve(logit, X_test, Y_test)  \n",
    "plt.show()"
   ]
  },
  {
   "cell_type": "markdown",
   "metadata": {},
   "source": [
    "## SVC model"
   ]
  },
  {
   "cell_type": "raw",
   "metadata": {},
   "source": [
    "# 5-fold cv to choose the best C value\n",
    "C_values=[0.0001, 0.001, 0.1, 1, 10]\n",
    "svc_cv_scores=[]\n",
    "for i in C_values:\n",
    "    svc_cv = SVC(C=i, gamma='scale')\n",
    "    svc_cv_score = cross_val_score(svc_cv, X_train, Y_train, cv=5)\n",
    "    svc_cv_scores.append(np.mean(svc_cv_score))\n",
    "    print(i, np.mean(svc_cv_score))\n",
    "\n",
    "# C=1 gives the highest cv-score: 0.90974"
   ]
  },
  {
   "cell_type": "raw",
   "metadata": {},
   "source": [
    "plt.plot(np.log(C_values), svc_cv_scores, marker='o')\n",
    "plt.xlabel(\"log(C-value)\")\n",
    "plt.ylabel('5-fold cv score')\n",
    "plt.title(\"Cross-Validation of SVM model\")\n",
    "plt.show()"
   ]
  },
  {
   "cell_type": "code",
   "execution_count": 72,
   "metadata": {},
   "outputs": [],
   "source": [
    "# use C=1 to build the SVM model\n",
    "svc = SVC(C=1, gamma=\"scale\", probability = True)\n",
    "svc.fit(X_train, Y_train)\n",
    "svc_preds = svc.predict(X_test)\n",
    "svc_accu = accuracy_score(Y_test, svc_preds)\n",
    "svc_matrix = confusion_matrix(Y_test, svc_preds)"
   ]
  },
  {
   "cell_type": "code",
   "execution_count": 73,
   "metadata": {},
   "outputs": [
    {
     "data": {
      "text/plain": [
       "0.90828466363833"
      ]
     },
     "execution_count": 73,
     "metadata": {},
     "output_type": "execute_result"
    }
   ],
   "source": [
    "svc_accu"
   ]
  },
  {
   "cell_type": "code",
   "execution_count": 74,
   "metadata": {},
   "outputs": [
    {
     "data": {
      "text/plain": [
       "array([[8128,   80],\n",
       "       [ 768,  270]])"
      ]
     },
     "execution_count": 74,
     "metadata": {},
     "output_type": "execute_result"
    }
   ],
   "source": [
    "svc_matrix"
   ]
  },
  {
   "cell_type": "code",
   "execution_count": 75,
   "metadata": {},
   "outputs": [
    {
     "data": {
      "image/png": "[encoded data removed]",
      "text/plain": [
       "<Figure size 432x288 with 2 Axes>"
      ]
     },
     "metadata": {
      "needs_background": "light"
     },
     "output_type": "display_data"
    }
   ],
   "source": [
    "from plots import plot_confusion_matrix\n",
    "results_svc = [(i[0], i[1]) for i in zip(Y_test, svc_preds)]\n",
    "class_names = ['Alive', 'Dead']\n",
    "plot_confusion_matrix(results_svc, class_names)"
   ]
  },
  {
   "cell_type": "code",
   "execution_count": 76,
   "metadata": {},
   "outputs": [
    {
     "data": {
      "text/plain": [
       "0.8231762353190835"
      ]
     },
     "execution_count": 76,
     "metadata": {},
     "output_type": "execute_result"
    }
   ],
   "source": [
    "svc_probs = svc.predict_proba(X_test)\n",
    "metrics.roc_auc_score(Y_test, svc_probs[:, 1])"
   ]
  },
  {
   "cell_type": "code",
   "execution_count": 77,
   "metadata": {},
   "outputs": [
    {
     "data": {
      "image/png": "[encoded data removed]",
      "text/plain": [
       "<Figure size 432x288 with 1 Axes>"
      ]
     },
     "metadata": {
      "needs_background": "light"
     },
     "output_type": "display_data"
    }
   ],
   "source": [
    "metrics.plot_roc_curve(svc, X_test, Y_test)  \n",
    "plt.show()"
   ]
  },
  {
   "cell_type": "code",
   "execution_count": null,
   "metadata": {},
   "outputs": [],
   "source": []
  }
 ],
 "metadata": {
  "kernelspec": {
   "display_name": "Python 3",
   "language": "python",
   "name": "python3"
  },
  "language_info": {
   "codemirror_mode": {
    "name": "ipython",
    "version": 3
   },
   "file_extension": ".py",
   "mimetype": "text/x-python",
   "name": "python",
   "nbconvert_exporter": "python",
   "pygments_lexer": "ipython3",
   "version": "3.7.4"
  }
 },
 "nbformat": 4,
 "nbformat_minor": 2
}
