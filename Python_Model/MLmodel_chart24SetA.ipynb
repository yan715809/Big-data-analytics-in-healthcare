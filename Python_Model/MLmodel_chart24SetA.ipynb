{
 "cells": [
  {
   "cell_type": "code",
   "execution_count": 1,
   "metadata": {},
   "outputs": [],
   "source": [
    "import pandas as pd\n",
    "import numpy as np\n",
    "import matplotlib.pyplot as plt"
   ]
  },
  {
   "cell_type": "code",
   "execution_count": 2,
   "metadata": {},
   "outputs": [],
   "source": [
    "chart24 = pd.read_csv(\"../Code/output/chart24Item17.csv\")"
   ]
  },
  {
   "cell_type": "code",
   "execution_count": 3,
   "metadata": {},
   "outputs": [
    {
     "data": {
      "text/html": [
       "<div>\n",
       "<style scoped>\n",
       "    .dataframe tbody tr th:only-of-type {\n",
       "        vertical-align: middle;\n",
       "    }\n",
       "\n",
       "    .dataframe tbody tr th {\n",
       "        vertical-align: top;\n",
       "    }\n",
       "\n",
       "    .dataframe thead th {\n",
       "        text-align: right;\n",
       "    }\n",
       "</style>\n",
       "<table border=\"1\" class=\"dataframe\">\n",
       "  <thead>\n",
       "    <tr style=\"text-align: right;\">\n",
       "      <th></th>\n",
       "      <th>SUBJECT_ID</th>\n",
       "      <th>HADM_ID</th>\n",
       "      <th>ITEMID</th>\n",
       "      <th>CHARTTIME</th>\n",
       "      <th>VALUE</th>\n",
       "    </tr>\n",
       "  </thead>\n",
       "  <tbody>\n",
       "    <tr>\n",
       "      <th>0</th>\n",
       "      <td>36</td>\n",
       "      <td>165660</td>\n",
       "      <td>FIO</td>\n",
       "      <td>2134-05-12T12:00:00.000-04:00</td>\n",
       "      <td>100.00</td>\n",
       "    </tr>\n",
       "    <tr>\n",
       "      <th>1</th>\n",
       "      <td>36</td>\n",
       "      <td>165660</td>\n",
       "      <td>PH</td>\n",
       "      <td>2134-05-12T12:35:00.000-04:00</td>\n",
       "      <td>7.29</td>\n",
       "    </tr>\n",
       "    <tr>\n",
       "      <th>2</th>\n",
       "      <td>36</td>\n",
       "      <td>165660</td>\n",
       "      <td>HR</td>\n",
       "      <td>2134-05-12T13:00:00.000-04:00</td>\n",
       "      <td>86.00</td>\n",
       "    </tr>\n",
       "    <tr>\n",
       "      <th>3</th>\n",
       "      <td>36</td>\n",
       "      <td>165660</td>\n",
       "      <td>SBP</td>\n",
       "      <td>2134-05-12T13:00:00.000-04:00</td>\n",
       "      <td>137.00</td>\n",
       "    </tr>\n",
       "    <tr>\n",
       "      <th>4</th>\n",
       "      <td>36</td>\n",
       "      <td>165660</td>\n",
       "      <td>DBP</td>\n",
       "      <td>2134-05-12T13:00:00.000-04:00</td>\n",
       "      <td>72.00</td>\n",
       "    </tr>\n",
       "  </tbody>\n",
       "</table>\n",
       "</div>"
      ],
      "text/plain": [
       "   SUBJECT_ID  HADM_ID ITEMID                      CHARTTIME   VALUE\n",
       "0          36   165660    FIO  2134-05-12T12:00:00.000-04:00  100.00\n",
       "1          36   165660     PH  2134-05-12T12:35:00.000-04:00    7.29\n",
       "2          36   165660     HR  2134-05-12T13:00:00.000-04:00   86.00\n",
       "3          36   165660    SBP  2134-05-12T13:00:00.000-04:00  137.00\n",
       "4          36   165660    DBP  2134-05-12T13:00:00.000-04:00   72.00"
      ]
     },
     "execution_count": 3,
     "metadata": {},
     "output_type": "execute_result"
    }
   ],
   "source": [
    "chart24.head()"
   ]
  },
  {
   "cell_type": "code",
   "execution_count": 4,
   "metadata": {},
   "outputs": [
    {
     "name": "stdout",
     "output_type": "stream",
     "text": [
      "<class 'pandas.core.frame.DataFrame'>\n",
      "RangeIndex: 11377878 entries, 0 to 11377877\n",
      "Data columns (total 5 columns):\n",
      " #   Column      Dtype  \n",
      "---  ------      -----  \n",
      " 0   SUBJECT_ID  int64  \n",
      " 1   HADM_ID     int64  \n",
      " 2   ITEMID      object \n",
      " 3   CHARTTIME   object \n",
      " 4   VALUE       float64\n",
      "dtypes: float64(1), int64(2), object(2)\n",
      "memory usage: 434.0+ MB\n"
     ]
    }
   ],
   "source": [
    "chart24.info()"
   ]
  },
  {
   "cell_type": "code",
   "execution_count": 5,
   "metadata": {},
   "outputs": [],
   "source": [
    "patients = pd.read_csv(\"../Code/output/patientsInfo.csv\")"
   ]
  },
  {
   "cell_type": "code",
   "execution_count": 6,
   "metadata": {},
   "outputs": [
    {
     "data": {
      "text/html": [
       "<div>\n",
       "<style scoped>\n",
       "    .dataframe tbody tr th:only-of-type {\n",
       "        vertical-align: middle;\n",
       "    }\n",
       "\n",
       "    .dataframe tbody tr th {\n",
       "        vertical-align: top;\n",
       "    }\n",
       "\n",
       "    .dataframe thead th {\n",
       "        text-align: right;\n",
       "    }\n",
       "</style>\n",
       "<table border=\"1\" class=\"dataframe\">\n",
       "  <thead>\n",
       "    <tr style=\"text-align: right;\">\n",
       "      <th></th>\n",
       "      <th>SUBJECT_ID</th>\n",
       "      <th>HADM_ID</th>\n",
       "      <th>Age</th>\n",
       "      <th>GENDER</th>\n",
       "      <th>HOSPITAL_EXPIRE_FLAG</th>\n",
       "    </tr>\n",
       "  </thead>\n",
       "  <tbody>\n",
       "    <tr>\n",
       "      <th>0</th>\n",
       "      <td>22</td>\n",
       "      <td>165315</td>\n",
       "      <td>64.97</td>\n",
       "      <td>F</td>\n",
       "      <td>0</td>\n",
       "    </tr>\n",
       "    <tr>\n",
       "      <th>1</th>\n",
       "      <td>23</td>\n",
       "      <td>152223</td>\n",
       "      <td>71.18</td>\n",
       "      <td>M</td>\n",
       "      <td>0</td>\n",
       "    </tr>\n",
       "    <tr>\n",
       "      <th>2</th>\n",
       "      <td>23</td>\n",
       "      <td>124321</td>\n",
       "      <td>75.31</td>\n",
       "      <td>M</td>\n",
       "      <td>0</td>\n",
       "    </tr>\n",
       "    <tr>\n",
       "      <th>3</th>\n",
       "      <td>24</td>\n",
       "      <td>161859</td>\n",
       "      <td>39.04</td>\n",
       "      <td>M</td>\n",
       "      <td>0</td>\n",
       "    </tr>\n",
       "    <tr>\n",
       "      <th>4</th>\n",
       "      <td>25</td>\n",
       "      <td>129635</td>\n",
       "      <td>58.99</td>\n",
       "      <td>M</td>\n",
       "      <td>0</td>\n",
       "    </tr>\n",
       "  </tbody>\n",
       "</table>\n",
       "</div>"
      ],
      "text/plain": [
       "   SUBJECT_ID  HADM_ID    Age GENDER  HOSPITAL_EXPIRE_FLAG\n",
       "0          22   165315  64.97      F                     0\n",
       "1          23   152223  71.18      M                     0\n",
       "2          23   124321  75.31      M                     0\n",
       "3          24   161859  39.04      M                     0\n",
       "4          25   129635  58.99      M                     0"
      ]
     },
     "execution_count": 6,
     "metadata": {},
     "output_type": "execute_result"
    }
   ],
   "source": [
    "patients.head()"
   ]
  },
  {
   "cell_type": "markdown",
   "metadata": {},
   "source": [
    "# Clean data--outliers"
   ]
  },
  {
   "cell_type": "code",
   "execution_count": 7,
   "metadata": {},
   "outputs": [],
   "source": [
    "def chart_cleaning(df):\n",
    "    # GLU\n",
    "    df = df.drop(df[(df.ITEMID=='GLU') & (df.VALUE>5000)].index)\n",
    "    # DBP\n",
    "    df = df.drop(df[(df.ITEMID=='DBP') & (df.VALUE>1000)].index)\n",
    "    df = df.drop(df[(df.ITEMID=='DBP') & (df.VALUE<0)].index)\n",
    "    # FIO -- ignore\n",
    "    # df = df.drop(df[(df.ITEMID=='FIO') & (df.VALUE>100)].index)\n",
    "    # HEIGHT\n",
    "    df = df.drop(df[(df.ITEMID=='HEIGHT') & (df.VALUE>300)].index)\n",
    "    # HR\n",
    "    df = df.drop(df[(df.ITEMID=='HR') & (df.VALUE>10000)].index)\n",
    "    # MBP\n",
    "    df = df.drop(df[(df.ITEMID=='MBP') & (df.VALUE>1000)].index)\n",
    "    df = df.drop(df[(df.ITEMID=='MBP') & (df.VALUE<0)].index)\n",
    "    # OS\n",
    "    df = df.drop(df[(df.ITEMID=='OS') & (df.VALUE>10000)].index)\n",
    "    # PH\n",
    "    df = df.drop(df[(df.ITEMID=='PH') & (df.VALUE>10)].index) \n",
    "    # RESPR\n",
    "    df = df.drop(df[(df.ITEMID=='RESPR') & (df.VALUE>1000)].index)\n",
    "    # SBP\n",
    "    df = df.drop(df[(df.ITEMID=='SBP') & (df.VALUE>1000)].index)\n",
    "    # TEMP\n",
    "    df = df.drop(df[(df.ITEMID=='TEMP') & (df.VALUE>50)].index) \n",
    "    df = df.drop(df[(df.ITEMID=='TEMP') & (df.VALUE<20)].index)\n",
    "    # weight\n",
    "    df = df.drop(df[(df.ITEMID=='WEIGHT') & (df.VALUE>1000)].index) \n",
    "    df = df.drop(df[(df.ITEMID=='WEIGHT') & (df.VALUE<10)].index)\n",
    "\n",
    "    return df"
   ]
  },
  {
   "cell_type": "code",
   "execution_count": 8,
   "metadata": {},
   "outputs": [],
   "source": [
    "# chart24 initially 11,377,877 entries"
   ]
  },
  {
   "cell_type": "code",
   "execution_count": 9,
   "metadata": {},
   "outputs": [],
   "source": [
    "# GLU\n",
    "chart24 = chart24.drop(chart24[(chart24.ITEMID=='GLU') & (chart24.VALUE>5000)].index) ## 11,377,875 entries"
   ]
  },
  {
   "cell_type": "code",
   "execution_count": 10,
   "metadata": {},
   "outputs": [],
   "source": [
    "# DBP\n",
    "chart24 = chart24.drop(chart24[(chart24.ITEMID=='DBP') & (chart24.VALUE>1000)].index) ## 11,377,827 entries"
   ]
  },
  {
   "cell_type": "code",
   "execution_count": 11,
   "metadata": {},
   "outputs": [],
   "source": [
    "# FIO -- ignore\n",
    "# chart24 = chart24.drop(chart24[(chart24.ITEMID=='FIO') & (chart24.VALUE>100)].index) ## 11,377,827 entries"
   ]
  },
  {
   "cell_type": "code",
   "execution_count": 12,
   "metadata": {},
   "outputs": [],
   "source": [
    "# HEIGHT\n",
    "chart24 = chart24.drop(chart24[(chart24.ITEMID=='HEIGHT') & (chart24.VALUE>300)].index) ## 11,377,821 entries"
   ]
  },
  {
   "cell_type": "code",
   "execution_count": 13,
   "metadata": {},
   "outputs": [],
   "source": [
    "# HR\n",
    "chart24 = chart24.drop(chart24[(chart24.ITEMID=='HR') & (chart24.VALUE>10000)].index) ## 11,377,820 entries"
   ]
  },
  {
   "cell_type": "code",
   "execution_count": 14,
   "metadata": {},
   "outputs": [],
   "source": [
    "# MBP\n",
    "chart24 = chart24.drop(chart24[(chart24.ITEMID=='MBP') & (chart24.VALUE>1000)].index) ## 11,377,817 entries"
   ]
  },
  {
   "cell_type": "code",
   "execution_count": 15,
   "metadata": {},
   "outputs": [],
   "source": [
    "# OS\n",
    "chart24 = chart24.drop(chart24[(chart24.ITEMID=='OS') & (chart24.VALUE>10000)].index) ## 11,377,817 entries"
   ]
  },
  {
   "cell_type": "code",
   "execution_count": 16,
   "metadata": {},
   "outputs": [],
   "source": [
    "# PH\n",
    "chart24 = chart24.drop(chart24[(chart24.ITEMID=='PH') & (chart24.VALUE>10)].index) ## 11,377,779  entries"
   ]
  },
  {
   "cell_type": "code",
   "execution_count": 17,
   "metadata": {},
   "outputs": [],
   "source": [
    "# RESPR\n",
    "chart24 = chart24.drop(chart24[(chart24.ITEMID=='RESPR') & (chart24.VALUE>1000)].index) ## 11,377,775  entries"
   ]
  },
  {
   "cell_type": "code",
   "execution_count": 18,
   "metadata": {},
   "outputs": [],
   "source": [
    "# SBP\n",
    "chart24 = chart24.drop(chart24[(chart24.ITEMID=='SBP') & (chart24.VALUE>1000)].index) ## 11,377,768  entries"
   ]
  },
  {
   "cell_type": "code",
   "execution_count": 19,
   "metadata": {},
   "outputs": [],
   "source": [
    "# TEMP\n",
    "chart24 = chart24.drop(chart24[(chart24.ITEMID=='TEMP') & (chart24.VALUE>50)].index) \n",
    "chart24 = chart24.drop(chart24[(chart24.ITEMID=='TEMP') & (chart24.VALUE<20)].index) ## 11,376,623  entries"
   ]
  },
  {
   "cell_type": "code",
   "execution_count": 20,
   "metadata": {},
   "outputs": [],
   "source": [
    "# weight\n",
    "chart24 = chart24.drop(chart24[(chart24.ITEMID=='WEIGHT') & (chart24.VALUE>1000)].index) \n",
    "chart24 = chart24.drop(chart24[(chart24.ITEMID=='WEIGHT') & (chart24.VALUE<10)].index) ## 11,376,536  entries"
   ]
  },
  {
   "cell_type": "code",
   "execution_count": 21,
   "metadata": {
    "scrolled": true
   },
   "outputs": [
    {
     "name": "stdout",
     "output_type": "stream",
     "text": [
      "<class 'pandas.core.frame.DataFrame'>\n",
      "Int64Index: 11376530 entries, 0 to 11377877\n",
      "Data columns (total 5 columns):\n",
      " #   Column      Dtype  \n",
      "---  ------      -----  \n",
      " 0   SUBJECT_ID  int64  \n",
      " 1   HADM_ID     int64  \n",
      " 2   ITEMID      object \n",
      " 3   CHARTTIME   object \n",
      " 4   VALUE       float64\n",
      "dtypes: float64(1), int64(2), object(2)\n",
      "memory usage: 520.8+ MB\n"
     ]
    }
   ],
   "source": [
    "chart24.info()"
   ]
  },
  {
   "cell_type": "code",
   "execution_count": null,
   "metadata": {},
   "outputs": [],
   "source": []
  },
  {
   "cell_type": "code",
   "execution_count": 22,
   "metadata": {},
   "outputs": [],
   "source": [
    "chart24_mean = chart24[['HADM_ID', 'ITEMID', 'VALUE']].groupby(['HADM_ID', 'ITEMID'], as_index=False).mean()"
   ]
  },
  {
   "cell_type": "code",
   "execution_count": 23,
   "metadata": {},
   "outputs": [
    {
     "data": {
      "text/plain": [
       "45824"
      ]
     },
     "execution_count": 23,
     "metadata": {},
     "output_type": "execute_result"
    }
   ],
   "source": [
    "len(chart24_mean['HADM_ID'].unique()) ## 45824 admission, 14 itemid"
   ]
  },
  {
   "cell_type": "code",
   "execution_count": 24,
   "metadata": {},
   "outputs": [],
   "source": [
    "# pivot table to have each itemid as one column\n",
    "chart24_pivot = chart24_mean.pivot(index='HADM_ID', columns = 'ITEMID', values='VALUE')"
   ]
  },
  {
   "cell_type": "code",
   "execution_count": 25,
   "metadata": {},
   "outputs": [
    {
     "data": {
      "text/html": [
       "<div>\n",
       "<style scoped>\n",
       "    .dataframe tbody tr th:only-of-type {\n",
       "        vertical-align: middle;\n",
       "    }\n",
       "\n",
       "    .dataframe tbody tr th {\n",
       "        vertical-align: top;\n",
       "    }\n",
       "\n",
       "    .dataframe thead th {\n",
       "        text-align: right;\n",
       "    }\n",
       "</style>\n",
       "<table border=\"1\" class=\"dataframe\">\n",
       "  <thead>\n",
       "    <tr style=\"text-align: right;\">\n",
       "      <th>ITEMID</th>\n",
       "      <th>CRR</th>\n",
       "      <th>DBP</th>\n",
       "      <th>FIO</th>\n",
       "      <th>GLU</th>\n",
       "      <th>GMR</th>\n",
       "      <th>GO</th>\n",
       "      <th>GT</th>\n",
       "      <th>GVR</th>\n",
       "      <th>HEIGHT</th>\n",
       "      <th>HR</th>\n",
       "      <th>MBP</th>\n",
       "      <th>OS</th>\n",
       "      <th>PH</th>\n",
       "      <th>RESPR</th>\n",
       "      <th>SBP</th>\n",
       "      <th>TEMP</th>\n",
       "      <th>WEIGHT</th>\n",
       "    </tr>\n",
       "    <tr>\n",
       "      <th>HADM_ID</th>\n",
       "      <th></th>\n",
       "      <th></th>\n",
       "      <th></th>\n",
       "      <th></th>\n",
       "      <th></th>\n",
       "      <th></th>\n",
       "      <th></th>\n",
       "      <th></th>\n",
       "      <th></th>\n",
       "      <th></th>\n",
       "      <th></th>\n",
       "      <th></th>\n",
       "      <th></th>\n",
       "      <th></th>\n",
       "      <th></th>\n",
       "      <th></th>\n",
       "      <th></th>\n",
       "    </tr>\n",
       "  </thead>\n",
       "  <tbody>\n",
       "    <tr>\n",
       "      <th>100001</th>\n",
       "      <td>NaN</td>\n",
       "      <td>90.666667</td>\n",
       "      <td>NaN</td>\n",
       "      <td>175.571429</td>\n",
       "      <td>6.0</td>\n",
       "      <td>4.000000</td>\n",
       "      <td>NaN</td>\n",
       "      <td>5.0</td>\n",
       "      <td>NaN</td>\n",
       "      <td>111.760000</td>\n",
       "      <td>110.545455</td>\n",
       "      <td>97.833333</td>\n",
       "      <td>NaN</td>\n",
       "      <td>16.875000</td>\n",
       "      <td>177.041667</td>\n",
       "      <td>37.047619</td>\n",
       "      <td>98.010000</td>\n",
       "    </tr>\n",
       "    <tr>\n",
       "      <th>100003</th>\n",
       "      <td>NaN</td>\n",
       "      <td>57.593750</td>\n",
       "      <td>NaN</td>\n",
       "      <td>79.000000</td>\n",
       "      <td>6.0</td>\n",
       "      <td>3.857143</td>\n",
       "      <td>NaN</td>\n",
       "      <td>5.0</td>\n",
       "      <td>NaN</td>\n",
       "      <td>79.441176</td>\n",
       "      <td>70.031250</td>\n",
       "      <td>98.181818</td>\n",
       "      <td>7.37</td>\n",
       "      <td>15.058824</td>\n",
       "      <td>109.468750</td>\n",
       "      <td>36.246032</td>\n",
       "      <td>84.882500</td>\n",
       "    </tr>\n",
       "    <tr>\n",
       "      <th>100006</th>\n",
       "      <td>NaN</td>\n",
       "      <td>68.782609</td>\n",
       "      <td>NaN</td>\n",
       "      <td>160.200000</td>\n",
       "      <td>6.0</td>\n",
       "      <td>4.000000</td>\n",
       "      <td>15.0</td>\n",
       "      <td>5.0</td>\n",
       "      <td>NaN</td>\n",
       "      <td>111.958333</td>\n",
       "      <td>88.405796</td>\n",
       "      <td>97.880000</td>\n",
       "      <td>7.37</td>\n",
       "      <td>19.375000</td>\n",
       "      <td>127.652174</td>\n",
       "      <td>36.231482</td>\n",
       "      <td>57.000000</td>\n",
       "    </tr>\n",
       "    <tr>\n",
       "      <th>100007</th>\n",
       "      <td>NaN</td>\n",
       "      <td>62.558824</td>\n",
       "      <td>NaN</td>\n",
       "      <td>127.000000</td>\n",
       "      <td>6.0</td>\n",
       "      <td>3.900000</td>\n",
       "      <td>14.1</td>\n",
       "      <td>4.2</td>\n",
       "      <td>NaN</td>\n",
       "      <td>76.242424</td>\n",
       "      <td>87.878788</td>\n",
       "      <td>99.823529</td>\n",
       "      <td>NaN</td>\n",
       "      <td>16.205882</td>\n",
       "      <td>141.558824</td>\n",
       "      <td>36.825392</td>\n",
       "      <td>55.099998</td>\n",
       "    </tr>\n",
       "    <tr>\n",
       "      <th>100009</th>\n",
       "      <td>NaN</td>\n",
       "      <td>53.125000</td>\n",
       "      <td>70.0</td>\n",
       "      <td>142.526316</td>\n",
       "      <td>4.0</td>\n",
       "      <td>4.000000</td>\n",
       "      <td>NaN</td>\n",
       "      <td>3.4</td>\n",
       "      <td>182.94</td>\n",
       "      <td>78.478261</td>\n",
       "      <td>69.958333</td>\n",
       "      <td>97.185185</td>\n",
       "      <td>7.37</td>\n",
       "      <td>22.689655</td>\n",
       "      <td>114.833333</td>\n",
       "      <td>NaN</td>\n",
       "      <td>116.650000</td>\n",
       "    </tr>\n",
       "  </tbody>\n",
       "</table>\n",
       "</div>"
      ],
      "text/plain": [
       "ITEMID   CRR        DBP   FIO         GLU  GMR        GO    GT  GVR  HEIGHT  \\\n",
       "HADM_ID                                                                       \n",
       "100001   NaN  90.666667   NaN  175.571429  6.0  4.000000   NaN  5.0     NaN   \n",
       "100003   NaN  57.593750   NaN   79.000000  6.0  3.857143   NaN  5.0     NaN   \n",
       "100006   NaN  68.782609   NaN  160.200000  6.0  4.000000  15.0  5.0     NaN   \n",
       "100007   NaN  62.558824   NaN  127.000000  6.0  3.900000  14.1  4.2     NaN   \n",
       "100009   NaN  53.125000  70.0  142.526316  4.0  4.000000   NaN  3.4  182.94   \n",
       "\n",
       "ITEMID           HR         MBP         OS    PH      RESPR         SBP  \\\n",
       "HADM_ID                                                                   \n",
       "100001   111.760000  110.545455  97.833333   NaN  16.875000  177.041667   \n",
       "100003    79.441176   70.031250  98.181818  7.37  15.058824  109.468750   \n",
       "100006   111.958333   88.405796  97.880000  7.37  19.375000  127.652174   \n",
       "100007    76.242424   87.878788  99.823529   NaN  16.205882  141.558824   \n",
       "100009    78.478261   69.958333  97.185185  7.37  22.689655  114.833333   \n",
       "\n",
       "ITEMID        TEMP      WEIGHT  \n",
       "HADM_ID                         \n",
       "100001   37.047619   98.010000  \n",
       "100003   36.246032   84.882500  \n",
       "100006   36.231482   57.000000  \n",
       "100007   36.825392   55.099998  \n",
       "100009         NaN  116.650000  "
      ]
     },
     "execution_count": 25,
     "metadata": {},
     "output_type": "execute_result"
    }
   ],
   "source": [
    "chart24_pivot.head()"
   ]
  },
  {
   "cell_type": "code",
   "execution_count": 26,
   "metadata": {},
   "outputs": [
    {
     "data": {
      "text/html": [
       "<div>\n",
       "<style scoped>\n",
       "    .dataframe tbody tr th:only-of-type {\n",
       "        vertical-align: middle;\n",
       "    }\n",
       "\n",
       "    .dataframe tbody tr th {\n",
       "        vertical-align: top;\n",
       "    }\n",
       "\n",
       "    .dataframe thead th {\n",
       "        text-align: right;\n",
       "    }\n",
       "</style>\n",
       "<table border=\"1\" class=\"dataframe\">\n",
       "  <thead>\n",
       "    <tr style=\"text-align: right;\">\n",
       "      <th>ITEMID</th>\n",
       "      <th>CRR</th>\n",
       "      <th>DBP</th>\n",
       "      <th>FIO</th>\n",
       "      <th>GLU</th>\n",
       "      <th>GMR</th>\n",
       "      <th>GO</th>\n",
       "      <th>GT</th>\n",
       "      <th>GVR</th>\n",
       "      <th>HEIGHT</th>\n",
       "      <th>HR</th>\n",
       "      <th>MBP</th>\n",
       "      <th>OS</th>\n",
       "      <th>PH</th>\n",
       "      <th>RESPR</th>\n",
       "      <th>SBP</th>\n",
       "      <th>TEMP</th>\n",
       "      <th>WEIGHT</th>\n",
       "    </tr>\n",
       "  </thead>\n",
       "  <tbody>\n",
       "    <tr>\n",
       "      <th>count</th>\n",
       "      <td>603.000000</td>\n",
       "      <td>45551.000000</td>\n",
       "      <td>11049.000000</td>\n",
       "      <td>44952.000000</td>\n",
       "      <td>45574.000000</td>\n",
       "      <td>44769.000000</td>\n",
       "      <td>25097.000000</td>\n",
       "      <td>45517.000000</td>\n",
       "      <td>7958.000000</td>\n",
       "      <td>45552.000000</td>\n",
       "      <td>45545.000000</td>\n",
       "      <td>45561.000000</td>\n",
       "      <td>25972.000000</td>\n",
       "      <td>45510.000000</td>\n",
       "      <td>45551.000000</td>\n",
       "      <td>44819.000000</td>\n",
       "      <td>34899.000000</td>\n",
       "    </tr>\n",
       "    <tr>\n",
       "      <th>mean</th>\n",
       "      <td>0.176731</td>\n",
       "      <td>60.753918</td>\n",
       "      <td>52.794358</td>\n",
       "      <td>139.665221</td>\n",
       "      <td>5.359049</td>\n",
       "      <td>3.469790</td>\n",
       "      <td>12.144194</td>\n",
       "      <td>3.594040</td>\n",
       "      <td>168.626629</td>\n",
       "      <td>85.141822</td>\n",
       "      <td>78.146019</td>\n",
       "      <td>97.121109</td>\n",
       "      <td>7.369242</td>\n",
       "      <td>18.084805</td>\n",
       "      <td>118.946055</td>\n",
       "      <td>36.813807</td>\n",
       "      <td>81.651078</td>\n",
       "    </tr>\n",
       "    <tr>\n",
       "      <th>std</th>\n",
       "      <td>0.346208</td>\n",
       "      <td>11.034646</td>\n",
       "      <td>25.518506</td>\n",
       "      <td>44.893403</td>\n",
       "      <td>1.120022</td>\n",
       "      <td>0.751136</td>\n",
       "      <td>3.357234</td>\n",
       "      <td>1.609497</td>\n",
       "      <td>15.098265</td>\n",
       "      <td>15.627219</td>\n",
       "      <td>11.421022</td>\n",
       "      <td>4.087233</td>\n",
       "      <td>0.143367</td>\n",
       "      <td>4.090390</td>\n",
       "      <td>17.280853</td>\n",
       "      <td>0.632944</td>\n",
       "      <td>24.445153</td>\n",
       "    </tr>\n",
       "    <tr>\n",
       "      <th>min</th>\n",
       "      <td>0.000000</td>\n",
       "      <td>0.000000</td>\n",
       "      <td>0.000000</td>\n",
       "      <td>21.000000</td>\n",
       "      <td>1.000000</td>\n",
       "      <td>1.000000</td>\n",
       "      <td>3.000000</td>\n",
       "      <td>1.000000</td>\n",
       "      <td>0.000000</td>\n",
       "      <td>26.357143</td>\n",
       "      <td>17.428571</td>\n",
       "      <td>13.500000</td>\n",
       "      <td>0.000000</td>\n",
       "      <td>2.000000</td>\n",
       "      <td>0.000000</td>\n",
       "      <td>30.000000</td>\n",
       "      <td>10.000000</td>\n",
       "    </tr>\n",
       "    <tr>\n",
       "      <th>25%</th>\n",
       "      <td>0.000000</td>\n",
       "      <td>53.290995</td>\n",
       "      <td>43.333333</td>\n",
       "      <td>111.400000</td>\n",
       "      <td>5.142857</td>\n",
       "      <td>3.200000</td>\n",
       "      <td>9.916667</td>\n",
       "      <td>2.000000</td>\n",
       "      <td>162.780000</td>\n",
       "      <td>74.172167</td>\n",
       "      <td>70.347826</td>\n",
       "      <td>96.120000</td>\n",
       "      <td>7.340000</td>\n",
       "      <td>15.261128</td>\n",
       "      <td>106.727273</td>\n",
       "      <td>36.435185</td>\n",
       "      <td>65.670000</td>\n",
       "    </tr>\n",
       "    <tr>\n",
       "      <th>50%</th>\n",
       "      <td>0.000000</td>\n",
       "      <td>59.739130</td>\n",
       "      <td>52.000000</td>\n",
       "      <td>129.759310</td>\n",
       "      <td>6.000000</td>\n",
       "      <td>3.833333</td>\n",
       "      <td>13.714286</td>\n",
       "      <td>4.333333</td>\n",
       "      <td>170.090000</td>\n",
       "      <td>84.068381</td>\n",
       "      <td>76.793096</td>\n",
       "      <td>97.513514</td>\n",
       "      <td>7.380000</td>\n",
       "      <td>17.500000</td>\n",
       "      <td>116.620000</td>\n",
       "      <td>36.788889</td>\n",
       "      <td>78.400002</td>\n",
       "    </tr>\n",
       "    <tr>\n",
       "      <th>75%</th>\n",
       "      <td>0.072917</td>\n",
       "      <td>67.113961</td>\n",
       "      <td>63.333333</td>\n",
       "      <td>156.250000</td>\n",
       "      <td>6.000000</td>\n",
       "      <td>4.000000</td>\n",
       "      <td>15.000000</td>\n",
       "      <td>5.000000</td>\n",
       "      <td>177.900000</td>\n",
       "      <td>95.095622</td>\n",
       "      <td>84.809524</td>\n",
       "      <td>98.658537</td>\n",
       "      <td>7.416000</td>\n",
       "      <td>20.285714</td>\n",
       "      <td>129.434783</td>\n",
       "      <td>37.182548</td>\n",
       "      <td>93.202500</td>\n",
       "    </tr>\n",
       "    <tr>\n",
       "      <th>max</th>\n",
       "      <td>1.388889</td>\n",
       "      <td>132.333333</td>\n",
       "      <td>1001.000000</td>\n",
       "      <td>786.222222</td>\n",
       "      <td>6.000000</td>\n",
       "      <td>4.000000</td>\n",
       "      <td>15.000000</td>\n",
       "      <td>5.000000</td>\n",
       "      <td>248.960000</td>\n",
       "      <td>215.575758</td>\n",
       "      <td>148.968750</td>\n",
       "      <td>497.608696</td>\n",
       "      <td>9.000000</td>\n",
       "      <td>49.555556</td>\n",
       "      <td>215.833333</td>\n",
       "      <td>40.833317</td>\n",
       "      <td>670.000000</td>\n",
       "    </tr>\n",
       "  </tbody>\n",
       "</table>\n",
       "</div>"
      ],
      "text/plain": [
       "ITEMID         CRR           DBP           FIO           GLU           GMR  \\\n",
       "count   603.000000  45551.000000  11049.000000  44952.000000  45574.000000   \n",
       "mean      0.176731     60.753918     52.794358    139.665221      5.359049   \n",
       "std       0.346208     11.034646     25.518506     44.893403      1.120022   \n",
       "min       0.000000      0.000000      0.000000     21.000000      1.000000   \n",
       "25%       0.000000     53.290995     43.333333    111.400000      5.142857   \n",
       "50%       0.000000     59.739130     52.000000    129.759310      6.000000   \n",
       "75%       0.072917     67.113961     63.333333    156.250000      6.000000   \n",
       "max       1.388889    132.333333   1001.000000    786.222222      6.000000   \n",
       "\n",
       "ITEMID            GO            GT           GVR       HEIGHT            HR  \\\n",
       "count   44769.000000  25097.000000  45517.000000  7958.000000  45552.000000   \n",
       "mean        3.469790     12.144194      3.594040   168.626629     85.141822   \n",
       "std         0.751136      3.357234      1.609497    15.098265     15.627219   \n",
       "min         1.000000      3.000000      1.000000     0.000000     26.357143   \n",
       "25%         3.200000      9.916667      2.000000   162.780000     74.172167   \n",
       "50%         3.833333     13.714286      4.333333   170.090000     84.068381   \n",
       "75%         4.000000     15.000000      5.000000   177.900000     95.095622   \n",
       "max         4.000000     15.000000      5.000000   248.960000    215.575758   \n",
       "\n",
       "ITEMID           MBP            OS            PH         RESPR           SBP  \\\n",
       "count   45545.000000  45561.000000  25972.000000  45510.000000  45551.000000   \n",
       "mean       78.146019     97.121109      7.369242     18.084805    118.946055   \n",
       "std        11.421022      4.087233      0.143367      4.090390     17.280853   \n",
       "min        17.428571     13.500000      0.000000      2.000000      0.000000   \n",
       "25%        70.347826     96.120000      7.340000     15.261128    106.727273   \n",
       "50%        76.793096     97.513514      7.380000     17.500000    116.620000   \n",
       "75%        84.809524     98.658537      7.416000     20.285714    129.434783   \n",
       "max       148.968750    497.608696      9.000000     49.555556    215.833333   \n",
       "\n",
       "ITEMID          TEMP        WEIGHT  \n",
       "count   44819.000000  34899.000000  \n",
       "mean       36.813807     81.651078  \n",
       "std         0.632944     24.445153  \n",
       "min        30.000000     10.000000  \n",
       "25%        36.435185     65.670000  \n",
       "50%        36.788889     78.400002  \n",
       "75%        37.182548     93.202500  \n",
       "max        40.833317    670.000000  "
      ]
     },
     "execution_count": 26,
     "metadata": {},
     "output_type": "execute_result"
    }
   ],
   "source": [
    "chart24_pivot.describe()"
   ]
  },
  {
   "cell_type": "code",
   "execution_count": null,
   "metadata": {},
   "outputs": [],
   "source": []
  },
  {
   "cell_type": "markdown",
   "metadata": {},
   "source": [
    "# Null entry imputation"
   ]
  },
  {
   "cell_type": "code",
   "execution_count": 27,
   "metadata": {},
   "outputs": [],
   "source": [
    "# null entry imputation-- CRR 0.0\n",
    "chart24_pivot['CRR'].fillna(0.0, inplace=True)"
   ]
  },
  {
   "cell_type": "code",
   "execution_count": 28,
   "metadata": {},
   "outputs": [],
   "source": [
    "# null entry imputation-- DBP 59.0\n",
    "chart24_pivot['DBP'].fillna(59.0, inplace=True)"
   ]
  },
  {
   "cell_type": "code",
   "execution_count": 29,
   "metadata": {},
   "outputs": [],
   "source": [
    "# null entry imputation-- FIO 0.21\n",
    "chart24_pivot['FIO'].fillna(52, inplace=True)"
   ]
  },
  {
   "cell_type": "code",
   "execution_count": 30,
   "metadata": {},
   "outputs": [],
   "source": [
    "# null entry imputation-- GLU 128\n",
    "chart24_pivot['GLU'].fillna(128, inplace=True)"
   ]
  },
  {
   "cell_type": "code",
   "execution_count": 31,
   "metadata": {},
   "outputs": [],
   "source": [
    "# null entry imputation-- GMR 6\n",
    "chart24_pivot['GMR'].fillna(6, inplace=True)"
   ]
  },
  {
   "cell_type": "code",
   "execution_count": 32,
   "metadata": {},
   "outputs": [],
   "source": [
    "# null entry imputation-- GO 4\n",
    "chart24_pivot['GO'].fillna(4, inplace=True)"
   ]
  },
  {
   "cell_type": "code",
   "execution_count": 33,
   "metadata": {},
   "outputs": [],
   "source": [
    "# null entry imputation-- GT 15\n",
    "chart24_pivot['GT'].fillna(15, inplace=True)"
   ]
  },
  {
   "cell_type": "code",
   "execution_count": 34,
   "metadata": {},
   "outputs": [],
   "source": [
    "# null entry imputation-- GVR 5\n",
    "chart24_pivot['GVR'].fillna(5, inplace=True)"
   ]
  },
  {
   "cell_type": "code",
   "execution_count": 35,
   "metadata": {},
   "outputs": [],
   "source": [
    "# null entry imputation-- HEIGHT 5\n",
    "chart24_pivot['HEIGHT'].fillna(170, inplace=True)"
   ]
  },
  {
   "cell_type": "code",
   "execution_count": 36,
   "metadata": {},
   "outputs": [],
   "source": [
    "# null entry imputation-- MBP 77\n",
    "chart24_pivot['MBP'].fillna(77, inplace=True)"
   ]
  },
  {
   "cell_type": "code",
   "execution_count": 37,
   "metadata": {},
   "outputs": [],
   "source": [
    "# null entry imputation-- HR 5\n",
    "chart24_pivot['HR'].fillna(86, inplace=True)"
   ]
  },
  {
   "cell_type": "code",
   "execution_count": 38,
   "metadata": {},
   "outputs": [],
   "source": [
    "# null entry imputation-- OS 98\n",
    "chart24_pivot['OS'].fillna(98, inplace=True)"
   ]
  },
  {
   "cell_type": "code",
   "execution_count": 39,
   "metadata": {},
   "outputs": [],
   "source": [
    "# null entry imputation-- PH 98\n",
    "chart24_pivot['PH'].fillna(7.4, inplace=True)"
   ]
  },
  {
   "cell_type": "code",
   "execution_count": 40,
   "metadata": {},
   "outputs": [],
   "source": [
    "# null entry imputation-- RESPR 98\n",
    "chart24_pivot['RESPR'].fillna(19, inplace=True)"
   ]
  },
  {
   "cell_type": "code",
   "execution_count": 41,
   "metadata": {},
   "outputs": [],
   "source": [
    "# null entry imputation-- SBP 118\n",
    "chart24_pivot['SBP'].fillna(118, inplace=True)"
   ]
  },
  {
   "cell_type": "code",
   "execution_count": 42,
   "metadata": {},
   "outputs": [],
   "source": [
    "# null entry imputation-- TEMP 36.6\n",
    "chart24_pivot['TEMP'].fillna(36.6, inplace=True)"
   ]
  },
  {
   "cell_type": "code",
   "execution_count": 43,
   "metadata": {},
   "outputs": [],
   "source": [
    "# null entry imputation-- WEIGHT 81\n",
    "chart24_pivot['WEIGHT'].fillna(81, inplace=True)"
   ]
  },
  {
   "cell_type": "code",
   "execution_count": 44,
   "metadata": {},
   "outputs": [
    {
     "data": {
      "text/html": [
       "<div>\n",
       "<style scoped>\n",
       "    .dataframe tbody tr th:only-of-type {\n",
       "        vertical-align: middle;\n",
       "    }\n",
       "\n",
       "    .dataframe tbody tr th {\n",
       "        vertical-align: top;\n",
       "    }\n",
       "\n",
       "    .dataframe thead th {\n",
       "        text-align: right;\n",
       "    }\n",
       "</style>\n",
       "<table border=\"1\" class=\"dataframe\">\n",
       "  <thead>\n",
       "    <tr style=\"text-align: right;\">\n",
       "      <th>ITEMID</th>\n",
       "      <th>CRR</th>\n",
       "      <th>DBP</th>\n",
       "      <th>FIO</th>\n",
       "      <th>GLU</th>\n",
       "      <th>GMR</th>\n",
       "      <th>GO</th>\n",
       "      <th>GT</th>\n",
       "      <th>GVR</th>\n",
       "      <th>HEIGHT</th>\n",
       "      <th>HR</th>\n",
       "      <th>MBP</th>\n",
       "      <th>OS</th>\n",
       "      <th>PH</th>\n",
       "      <th>RESPR</th>\n",
       "      <th>SBP</th>\n",
       "      <th>TEMP</th>\n",
       "      <th>WEIGHT</th>\n",
       "    </tr>\n",
       "    <tr>\n",
       "      <th>HADM_ID</th>\n",
       "      <th></th>\n",
       "      <th></th>\n",
       "      <th></th>\n",
       "      <th></th>\n",
       "      <th></th>\n",
       "      <th></th>\n",
       "      <th></th>\n",
       "      <th></th>\n",
       "      <th></th>\n",
       "      <th></th>\n",
       "      <th></th>\n",
       "      <th></th>\n",
       "      <th></th>\n",
       "      <th></th>\n",
       "      <th></th>\n",
       "      <th></th>\n",
       "      <th></th>\n",
       "    </tr>\n",
       "  </thead>\n",
       "  <tbody>\n",
       "    <tr>\n",
       "      <th>100001</th>\n",
       "      <td>0.0</td>\n",
       "      <td>90.666667</td>\n",
       "      <td>52.0</td>\n",
       "      <td>175.571429</td>\n",
       "      <td>6.0</td>\n",
       "      <td>4.000000</td>\n",
       "      <td>15.0</td>\n",
       "      <td>5.0</td>\n",
       "      <td>170.00</td>\n",
       "      <td>111.760000</td>\n",
       "      <td>110.545455</td>\n",
       "      <td>97.833333</td>\n",
       "      <td>7.40</td>\n",
       "      <td>16.875000</td>\n",
       "      <td>177.041667</td>\n",
       "      <td>37.047619</td>\n",
       "      <td>98.010000</td>\n",
       "    </tr>\n",
       "    <tr>\n",
       "      <th>100003</th>\n",
       "      <td>0.0</td>\n",
       "      <td>57.593750</td>\n",
       "      <td>52.0</td>\n",
       "      <td>79.000000</td>\n",
       "      <td>6.0</td>\n",
       "      <td>3.857143</td>\n",
       "      <td>15.0</td>\n",
       "      <td>5.0</td>\n",
       "      <td>170.00</td>\n",
       "      <td>79.441176</td>\n",
       "      <td>70.031250</td>\n",
       "      <td>98.181818</td>\n",
       "      <td>7.37</td>\n",
       "      <td>15.058824</td>\n",
       "      <td>109.468750</td>\n",
       "      <td>36.246032</td>\n",
       "      <td>84.882500</td>\n",
       "    </tr>\n",
       "    <tr>\n",
       "      <th>100006</th>\n",
       "      <td>0.0</td>\n",
       "      <td>68.782609</td>\n",
       "      <td>52.0</td>\n",
       "      <td>160.200000</td>\n",
       "      <td>6.0</td>\n",
       "      <td>4.000000</td>\n",
       "      <td>15.0</td>\n",
       "      <td>5.0</td>\n",
       "      <td>170.00</td>\n",
       "      <td>111.958333</td>\n",
       "      <td>88.405796</td>\n",
       "      <td>97.880000</td>\n",
       "      <td>7.37</td>\n",
       "      <td>19.375000</td>\n",
       "      <td>127.652174</td>\n",
       "      <td>36.231482</td>\n",
       "      <td>57.000000</td>\n",
       "    </tr>\n",
       "    <tr>\n",
       "      <th>100007</th>\n",
       "      <td>0.0</td>\n",
       "      <td>62.558824</td>\n",
       "      <td>52.0</td>\n",
       "      <td>127.000000</td>\n",
       "      <td>6.0</td>\n",
       "      <td>3.900000</td>\n",
       "      <td>14.1</td>\n",
       "      <td>4.2</td>\n",
       "      <td>170.00</td>\n",
       "      <td>76.242424</td>\n",
       "      <td>87.878788</td>\n",
       "      <td>99.823529</td>\n",
       "      <td>7.40</td>\n",
       "      <td>16.205882</td>\n",
       "      <td>141.558824</td>\n",
       "      <td>36.825392</td>\n",
       "      <td>55.099998</td>\n",
       "    </tr>\n",
       "    <tr>\n",
       "      <th>100009</th>\n",
       "      <td>0.0</td>\n",
       "      <td>53.125000</td>\n",
       "      <td>70.0</td>\n",
       "      <td>142.526316</td>\n",
       "      <td>4.0</td>\n",
       "      <td>4.000000</td>\n",
       "      <td>15.0</td>\n",
       "      <td>3.4</td>\n",
       "      <td>182.94</td>\n",
       "      <td>78.478261</td>\n",
       "      <td>69.958333</td>\n",
       "      <td>97.185185</td>\n",
       "      <td>7.37</td>\n",
       "      <td>22.689655</td>\n",
       "      <td>114.833333</td>\n",
       "      <td>36.600000</td>\n",
       "      <td>116.650000</td>\n",
       "    </tr>\n",
       "  </tbody>\n",
       "</table>\n",
       "</div>"
      ],
      "text/plain": [
       "ITEMID   CRR        DBP   FIO         GLU  GMR        GO    GT  GVR  HEIGHT  \\\n",
       "HADM_ID                                                                       \n",
       "100001   0.0  90.666667  52.0  175.571429  6.0  4.000000  15.0  5.0  170.00   \n",
       "100003   0.0  57.593750  52.0   79.000000  6.0  3.857143  15.0  5.0  170.00   \n",
       "100006   0.0  68.782609  52.0  160.200000  6.0  4.000000  15.0  5.0  170.00   \n",
       "100007   0.0  62.558824  52.0  127.000000  6.0  3.900000  14.1  4.2  170.00   \n",
       "100009   0.0  53.125000  70.0  142.526316  4.0  4.000000  15.0  3.4  182.94   \n",
       "\n",
       "ITEMID           HR         MBP         OS    PH      RESPR         SBP  \\\n",
       "HADM_ID                                                                   \n",
       "100001   111.760000  110.545455  97.833333  7.40  16.875000  177.041667   \n",
       "100003    79.441176   70.031250  98.181818  7.37  15.058824  109.468750   \n",
       "100006   111.958333   88.405796  97.880000  7.37  19.375000  127.652174   \n",
       "100007    76.242424   87.878788  99.823529  7.40  16.205882  141.558824   \n",
       "100009    78.478261   69.958333  97.185185  7.37  22.689655  114.833333   \n",
       "\n",
       "ITEMID        TEMP      WEIGHT  \n",
       "HADM_ID                         \n",
       "100001   37.047619   98.010000  \n",
       "100003   36.246032   84.882500  \n",
       "100006   36.231482   57.000000  \n",
       "100007   36.825392   55.099998  \n",
       "100009   36.600000  116.650000  "
      ]
     },
     "execution_count": 44,
     "metadata": {},
     "output_type": "execute_result"
    }
   ],
   "source": [
    "chart24_pivot.head()"
   ]
  },
  {
   "cell_type": "code",
   "execution_count": 45,
   "metadata": {
    "scrolled": false
   },
   "outputs": [
    {
     "data": {
      "text/plain": [
       "ITEMID\n",
       "CRR       False\n",
       "DBP       False\n",
       "FIO       False\n",
       "GLU       False\n",
       "GMR       False\n",
       "GO        False\n",
       "GT        False\n",
       "GVR       False\n",
       "HEIGHT    False\n",
       "HR        False\n",
       "MBP       False\n",
       "OS        False\n",
       "PH        False\n",
       "RESPR     False\n",
       "SBP       False\n",
       "TEMP      False\n",
       "WEIGHT    False\n",
       "dtype: bool"
      ]
     },
     "execution_count": 45,
     "metadata": {},
     "output_type": "execute_result"
    }
   ],
   "source": [
    "chart24_pivot.isna().any()"
   ]
  },
  {
   "cell_type": "markdown",
   "metadata": {},
   "source": [
    "# Combine label and data together"
   ]
  },
  {
   "cell_type": "code",
   "execution_count": 46,
   "metadata": {},
   "outputs": [
    {
     "data": {
      "text/html": [
       "<div>\n",
       "<style scoped>\n",
       "    .dataframe tbody tr th:only-of-type {\n",
       "        vertical-align: middle;\n",
       "    }\n",
       "\n",
       "    .dataframe tbody tr th {\n",
       "        vertical-align: top;\n",
       "    }\n",
       "\n",
       "    .dataframe thead th {\n",
       "        text-align: right;\n",
       "    }\n",
       "</style>\n",
       "<table border=\"1\" class=\"dataframe\">\n",
       "  <thead>\n",
       "    <tr style=\"text-align: right;\">\n",
       "      <th></th>\n",
       "      <th>SUBJECT_ID</th>\n",
       "      <th>HADM_ID</th>\n",
       "      <th>Age</th>\n",
       "      <th>GENDER</th>\n",
       "      <th>HOSPITAL_EXPIRE_FLAG</th>\n",
       "    </tr>\n",
       "  </thead>\n",
       "  <tbody>\n",
       "    <tr>\n",
       "      <th>0</th>\n",
       "      <td>22</td>\n",
       "      <td>165315</td>\n",
       "      <td>64.97</td>\n",
       "      <td>F</td>\n",
       "      <td>0</td>\n",
       "    </tr>\n",
       "    <tr>\n",
       "      <th>1</th>\n",
       "      <td>23</td>\n",
       "      <td>152223</td>\n",
       "      <td>71.18</td>\n",
       "      <td>M</td>\n",
       "      <td>0</td>\n",
       "    </tr>\n",
       "    <tr>\n",
       "      <th>2</th>\n",
       "      <td>23</td>\n",
       "      <td>124321</td>\n",
       "      <td>75.31</td>\n",
       "      <td>M</td>\n",
       "      <td>0</td>\n",
       "    </tr>\n",
       "    <tr>\n",
       "      <th>3</th>\n",
       "      <td>24</td>\n",
       "      <td>161859</td>\n",
       "      <td>39.04</td>\n",
       "      <td>M</td>\n",
       "      <td>0</td>\n",
       "    </tr>\n",
       "    <tr>\n",
       "      <th>4</th>\n",
       "      <td>25</td>\n",
       "      <td>129635</td>\n",
       "      <td>58.99</td>\n",
       "      <td>M</td>\n",
       "      <td>0</td>\n",
       "    </tr>\n",
       "  </tbody>\n",
       "</table>\n",
       "</div>"
      ],
      "text/plain": [
       "   SUBJECT_ID  HADM_ID    Age GENDER  HOSPITAL_EXPIRE_FLAG\n",
       "0          22   165315  64.97      F                     0\n",
       "1          23   152223  71.18      M                     0\n",
       "2          23   124321  75.31      M                     0\n",
       "3          24   161859  39.04      M                     0\n",
       "4          25   129635  58.99      M                     0"
      ]
     },
     "execution_count": 46,
     "metadata": {},
     "output_type": "execute_result"
    }
   ],
   "source": [
    "patients.head()"
   ]
  },
  {
   "cell_type": "code",
   "execution_count": 47,
   "metadata": {},
   "outputs": [],
   "source": [
    "chart24_withlabel = chart24_pivot.join(patients[['HADM_ID', 'HOSPITAL_EXPIRE_FLAG']].set_index('HADM_ID'), how='left')"
   ]
  },
  {
   "cell_type": "code",
   "execution_count": 48,
   "metadata": {},
   "outputs": [
    {
     "name": "stdout",
     "output_type": "stream",
     "text": [
      "<class 'pandas.core.frame.DataFrame'>\n",
      "Int64Index: 45824 entries, 100001 to 199999\n",
      "Data columns (total 18 columns):\n",
      " #   Column                Non-Null Count  Dtype  \n",
      "---  ------                --------------  -----  \n",
      " 0   CRR                   45824 non-null  float64\n",
      " 1   DBP                   45824 non-null  float64\n",
      " 2   FIO                   45824 non-null  float64\n",
      " 3   GLU                   45824 non-null  float64\n",
      " 4   GMR                   45824 non-null  float64\n",
      " 5   GO                    45824 non-null  float64\n",
      " 6   GT                    45824 non-null  float64\n",
      " 7   GVR                   45824 non-null  float64\n",
      " 8   HEIGHT                45824 non-null  float64\n",
      " 9   HR                    45824 non-null  float64\n",
      " 10  MBP                   45824 non-null  float64\n",
      " 11  OS                    45824 non-null  float64\n",
      " 12  PH                    45824 non-null  float64\n",
      " 13  RESPR                 45824 non-null  float64\n",
      " 14  SBP                   45824 non-null  float64\n",
      " 15  TEMP                  45824 non-null  float64\n",
      " 16  WEIGHT                45824 non-null  float64\n",
      " 17  HOSPITAL_EXPIRE_FLAG  45824 non-null  int64  \n",
      "dtypes: float64(17), int64(1)\n",
      "memory usage: 7.9 MB\n"
     ]
    }
   ],
   "source": [
    "chart24_withlabel.info()"
   ]
  },
  {
   "cell_type": "markdown",
   "metadata": {},
   "source": [
    "# Logistic model"
   ]
  },
  {
   "cell_type": "code",
   "execution_count": 49,
   "metadata": {},
   "outputs": [],
   "source": [
    "from sklearn.preprocessing import StandardScaler\n",
    "from sklearn.model_selection import train_test_split, cross_val_score\n",
    "from sklearn.neighbors import KNeighborsClassifier\n",
    "from sklearn.linear_model import LogisticRegression\n",
    "from sklearn.naive_bayes import GaussianNB\n",
    "from sklearn.svm import SVC\n",
    "from sklearn.ensemble import RandomForestClassifier\n",
    "from sklearn.neural_network import MLPClassifier\n",
    "from sklearn.metrics import accuracy_score, confusion_matrix"
   ]
  },
  {
   "cell_type": "code",
   "execution_count": 50,
   "metadata": {},
   "outputs": [],
   "source": [
    "X = chart24_withlabel.loc[:, 'CRR':'WEIGHT']\n",
    "Y = chart24_withlabel.loc[:,'HOSPITAL_EXPIRE_FLAG']"
   ]
  },
  {
   "cell_type": "code",
   "execution_count": 51,
   "metadata": {},
   "outputs": [],
   "source": [
    "# normolize X data\n",
    "X = StandardScaler().fit(X).transform(X)"
   ]
  },
  {
   "cell_type": "code",
   "execution_count": 52,
   "metadata": {},
   "outputs": [],
   "source": [
    "# split data to 80% train and 20% test\n",
    "X_train, X_test, Y_train, Y_test = train_test_split(X, Y, test_size=0.2, random_state=45)"
   ]
  },
  {
   "cell_type": "code",
   "execution_count": 53,
   "metadata": {},
   "outputs": [
    {
     "name": "stdout",
     "output_type": "stream",
     "text": [
      "0.9044708839436562\n"
     ]
    }
   ],
   "source": [
    "# 5-fold cv score\n",
    "logit = LogisticRegression(solver='liblinear')\n",
    "logit_cv_score = cross_val_score(logit, X_train, Y_train, cv=5)\n",
    "logit_cv_score = np.mean(logit_cv_score)\n",
    "print(logit_cv_score)"
   ]
  },
  {
   "cell_type": "code",
   "execution_count": 54,
   "metadata": {},
   "outputs": [],
   "source": [
    "# predict the test data\n",
    "logit.fit(X_train, Y_train)\n",
    "logit_preds = logit.predict(X_test)\n",
    "logit_accu = accuracy_score(Y_test, logit_preds)\n",
    "logit_matrix = confusion_matrix(Y_test, logit_preds)"
   ]
  },
  {
   "cell_type": "code",
   "execution_count": 55,
   "metadata": {},
   "outputs": [
    {
     "data": {
      "text/plain": [
       "array([[ 0.00854004, -0.40276758,  0.11058942,  0.18205698, -0.38768515,\n",
       "        -0.16850873, -0.00472161, -0.59311521,  0.01237138,  0.26791467,\n",
       "         0.09352379, -0.73409075, -0.05506645,  0.40783438, -0.07030225,\n",
       "        -0.35500468, -0.28414276]])"
      ]
     },
     "execution_count": 55,
     "metadata": {},
     "output_type": "execute_result"
    }
   ],
   "source": [
    "logit.coef_"
   ]
  },
  {
   "cell_type": "code",
   "execution_count": 56,
   "metadata": {},
   "outputs": [
    {
     "data": {
      "text/plain": [
       "0.9078014184397163"
      ]
     },
     "execution_count": 56,
     "metadata": {},
     "output_type": "execute_result"
    }
   ],
   "source": [
    "logit_accu"
   ]
  },
  {
   "cell_type": "code",
   "execution_count": 57,
   "metadata": {},
   "outputs": [
    {
     "data": {
      "text/plain": [
       "array([[8091,  106],\n",
       "       [ 739,  229]])"
      ]
     },
     "execution_count": 57,
     "metadata": {},
     "output_type": "execute_result"
    }
   ],
   "source": [
    "logit_matrix"
   ]
  },
  {
   "cell_type": "code",
   "execution_count": 86,
   "metadata": {},
   "outputs": [
    {
     "data": {
      "image/png": "[encoded data removed]",
      "text/plain": [
       "<Figure size 432x288 with 2 Axes>"
      ]
     },
     "metadata": {
      "needs_background": "light"
     },
     "output_type": "display_data"
    }
   ],
   "source": [
    "from plots import plot_confusion_matrix\n",
    "results = [(i[0], i[1]) for i in zip(Y_test, logit_preds)]\n",
    "class_names = ['Alive', 'Dead']\n",
    "plot_confusion_matrix(results, class_names)"
   ]
  },
  {
   "cell_type": "code",
   "execution_count": 61,
   "metadata": {},
   "outputs": [
    {
     "data": {
      "text/plain": [
       "0.8474399019193678"
      ]
     },
     "execution_count": 61,
     "metadata": {},
     "output_type": "execute_result"
    }
   ],
   "source": [
    "logit_probs = logit.predict_proba(X_test)\n",
    "metrics.roc_auc_score(Y_test, logit_probs[:, 1])"
   ]
  },
  {
   "cell_type": "code",
   "execution_count": 58,
   "metadata": {},
   "outputs": [
    {
     "data": {
      "image/png": "[encoded data removed]",
      "text/plain": [
       "<Figure size 432x288 with 1 Axes>"
      ]
     },
     "metadata": {
      "needs_background": "light"
     },
     "output_type": "display_data"
    }
   ],
   "source": [
    "# auc curve\n",
    "from sklearn import metrics\n",
    "metrics.plot_roc_curve(logit, X_test, Y_test)  \n",
    "plt.show()"
   ]
  },
  {
   "cell_type": "markdown",
   "metadata": {},
   "source": [
    "## SVC model"
   ]
  },
  {
   "cell_type": "raw",
   "metadata": {},
   "source": [
    "# 5-fold cv to choose the best C value\n",
    "C_values=[0.0001, 0.001, 0.1, 1, 10]\n",
    "svc_cv_scores=[]\n",
    "for i in C_values:\n",
    "    svc_cv = SVC(C=i, gamma='scale')\n",
    "    svc_cv_score = cross_val_score(svc_cv, X_train, Y_train, cv=5)\n",
    "    svc_cv_scores.append(np.mean(svc_cv_score))\n",
    "    print(i, np.mean(svc_cv_score))\n",
    "\n",
    "# C=1 gives the highest cv-score: 0.90974"
   ]
  },
  {
   "cell_type": "raw",
   "metadata": {},
   "source": [
    "plt.plot(np.log(C_values), svc_cv_scores, marker='o')\n",
    "plt.xlabel(\"log(C-value)\")\n",
    "plt.ylabel('5-fold cv score')\n",
    "plt.title(\"Cross-Validation of SVM model\")\n",
    "plt.show()"
   ]
  },
  {
   "cell_type": "code",
   "execution_count": 68,
   "metadata": {},
   "outputs": [],
   "source": [
    "# use C=1 to build the SVM model\n",
    "svc = SVC(C=1, gamma=\"scale\", probability=True)\n",
    "svc.fit(X_train, Y_train)\n",
    "svc_preds = svc.predict(X_test)\n",
    "svc_accu = accuracy_score(Y_test, svc_preds)\n",
    "svc_matrix = confusion_matrix(Y_test, svc_preds)"
   ]
  },
  {
   "cell_type": "code",
   "execution_count": 69,
   "metadata": {},
   "outputs": [
    {
     "data": {
      "text/plain": [
       "0.9151118385160938"
      ]
     },
     "execution_count": 69,
     "metadata": {},
     "output_type": "execute_result"
    }
   ],
   "source": [
    "svc_accu"
   ]
  },
  {
   "cell_type": "code",
   "execution_count": 70,
   "metadata": {},
   "outputs": [
    {
     "data": {
      "text/plain": [
       "array([[8116,   81],\n",
       "       [ 697,  271]])"
      ]
     },
     "execution_count": 70,
     "metadata": {},
     "output_type": "execute_result"
    }
   ],
   "source": [
    "svc_matrix"
   ]
  },
  {
   "cell_type": "code",
   "execution_count": 87,
   "metadata": {},
   "outputs": [
    {
     "data": {
      "image/png": "[encoded data removed]",
      "text/plain": [
       "<Figure size 432x288 with 2 Axes>"
      ]
     },
     "metadata": {
      "needs_background": "light"
     },
     "output_type": "display_data"
    }
   ],
   "source": [
    "from plots import plot_confusion_matrix\n",
    "results_svc = [(i[0], i[1]) for i in zip(Y_test, svc_preds)]\n",
    "class_names = ['Alive', 'Dead']\n",
    "plot_confusion_matrix(results_svc, class_names)"
   ]
  },
  {
   "cell_type": "code",
   "execution_count": 88,
   "metadata": {},
   "outputs": [
    {
     "data": {
      "text/plain": [
       "0.801275436387229"
      ]
     },
     "execution_count": 88,
     "metadata": {},
     "output_type": "execute_result"
    }
   ],
   "source": [
    "svc_probs = svc.predict_proba(X_test)\n",
    "metrics.roc_auc_score(Y_test, svc_probs[:, 1])"
   ]
  },
  {
   "cell_type": "code",
   "execution_count": 89,
   "metadata": {},
   "outputs": [
    {
     "data": {
      "image/png": "[encoded data removed]",
      "text/plain": [
       "<Figure size 432x288 with 1 Axes>"
      ]
     },
     "metadata": {
      "needs_background": "light"
     },
     "output_type": "display_data"
    }
   ],
   "source": [
    "metrics.plot_roc_curve(svc, X_test, Y_test)  \n",
    "plt.show()"
   ]
  },
  {
   "cell_type": "code",
   "execution_count": null,
   "metadata": {},
   "outputs": [],
   "source": []
  }
 ],
 "metadata": {
  "kernelspec": {
   "display_name": "Python 3",
   "language": "python",
   "name": "python3"
  },
  "language_info": {
   "codemirror_mode": {
    "name": "ipython",
    "version": 3
   },
   "file_extension": ".py",
   "mimetype": "text/x-python",
   "name": "python",
   "nbconvert_exporter": "python",
   "pygments_lexer": "ipython3",
   "version": "3.7.4"
  }
 },
 "nbformat": 4,
 "nbformat_minor": 2
}
