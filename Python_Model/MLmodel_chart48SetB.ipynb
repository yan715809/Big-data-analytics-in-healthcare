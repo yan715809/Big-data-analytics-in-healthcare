{
 "cells": [
  {
   "cell_type": "code",
   "execution_count": 1,
   "metadata": {},
   "outputs": [],
   "source": [
    "import pandas as pd\n",
    "import numpy as np\n",
    "import matplotlib.pyplot as plt"
   ]
  },
  {
   "cell_type": "code",
   "execution_count": 2,
   "metadata": {},
   "outputs": [],
   "source": [
    "chartLab48 = pd.read_csv(\"../Code/output/chartLab48Item20.csv\")"
   ]
  },
  {
   "cell_type": "code",
   "execution_count": 3,
   "metadata": {},
   "outputs": [
    {
     "data": {
      "text/html": [
       "<div>\n",
       "<style scoped>\n",
       "    .dataframe tbody tr th:only-of-type {\n",
       "        vertical-align: middle;\n",
       "    }\n",
       "\n",
       "    .dataframe tbody tr th {\n",
       "        vertical-align: top;\n",
       "    }\n",
       "\n",
       "    .dataframe thead th {\n",
       "        text-align: right;\n",
       "    }\n",
       "</style>\n",
       "<table border=\"1\" class=\"dataframe\">\n",
       "  <thead>\n",
       "    <tr style=\"text-align: right;\">\n",
       "      <th></th>\n",
       "      <th>SUBJECT_ID</th>\n",
       "      <th>HADM_ID</th>\n",
       "      <th>ITEMID</th>\n",
       "      <th>CHARTTIME</th>\n",
       "      <th>VALUE</th>\n",
       "    </tr>\n",
       "  </thead>\n",
       "  <tbody>\n",
       "    <tr>\n",
       "      <th>0</th>\n",
       "      <td>36</td>\n",
       "      <td>165660</td>\n",
       "      <td>FIO</td>\n",
       "      <td>2134-05-12T12:00:00.000-04:00</td>\n",
       "      <td>100.00</td>\n",
       "    </tr>\n",
       "    <tr>\n",
       "      <th>1</th>\n",
       "      <td>36</td>\n",
       "      <td>165660</td>\n",
       "      <td>PH</td>\n",
       "      <td>2134-05-12T12:35:00.000-04:00</td>\n",
       "      <td>7.29</td>\n",
       "    </tr>\n",
       "    <tr>\n",
       "      <th>2</th>\n",
       "      <td>36</td>\n",
       "      <td>165660</td>\n",
       "      <td>HR</td>\n",
       "      <td>2134-05-12T13:00:00.000-04:00</td>\n",
       "      <td>86.00</td>\n",
       "    </tr>\n",
       "    <tr>\n",
       "      <th>3</th>\n",
       "      <td>36</td>\n",
       "      <td>165660</td>\n",
       "      <td>SBP</td>\n",
       "      <td>2134-05-12T13:00:00.000-04:00</td>\n",
       "      <td>137.00</td>\n",
       "    </tr>\n",
       "    <tr>\n",
       "      <th>4</th>\n",
       "      <td>36</td>\n",
       "      <td>165660</td>\n",
       "      <td>DBP</td>\n",
       "      <td>2134-05-12T13:00:00.000-04:00</td>\n",
       "      <td>72.00</td>\n",
       "    </tr>\n",
       "  </tbody>\n",
       "</table>\n",
       "</div>"
      ],
      "text/plain": [
       "   SUBJECT_ID  HADM_ID ITEMID                      CHARTTIME   VALUE\n",
       "0          36   165660    FIO  2134-05-12T12:00:00.000-04:00  100.00\n",
       "1          36   165660     PH  2134-05-12T12:35:00.000-04:00    7.29\n",
       "2          36   165660     HR  2134-05-12T13:00:00.000-04:00   86.00\n",
       "3          36   165660    SBP  2134-05-12T13:00:00.000-04:00  137.00\n",
       "4          36   165660    DBP  2134-05-12T13:00:00.000-04:00   72.00"
      ]
     },
     "execution_count": 3,
     "metadata": {},
     "output_type": "execute_result"
    }
   ],
   "source": [
    "chartLab48.head()"
   ]
  },
  {
   "cell_type": "code",
   "execution_count": 4,
   "metadata": {},
   "outputs": [
    {
     "name": "stdout",
     "output_type": "stream",
     "text": [
      "<class 'pandas.core.frame.DataFrame'>\n",
      "RangeIndex: 18920178 entries, 0 to 18920177\n",
      "Data columns (total 5 columns):\n",
      " #   Column      Dtype  \n",
      "---  ------      -----  \n",
      " 0   SUBJECT_ID  int64  \n",
      " 1   HADM_ID     int64  \n",
      " 2   ITEMID      object \n",
      " 3   CHARTTIME   object \n",
      " 4   VALUE       float64\n",
      "dtypes: float64(1), int64(2), object(2)\n",
      "memory usage: 721.7+ MB\n"
     ]
    }
   ],
   "source": [
    "chartLab48.info() # 18920178 events"
   ]
  },
  {
   "cell_type": "code",
   "execution_count": 5,
   "metadata": {},
   "outputs": [],
   "source": [
    "patients = pd.read_csv(\"../Code/output/patientsInfo.csv\")"
   ]
  },
  {
   "cell_type": "code",
   "execution_count": 6,
   "metadata": {},
   "outputs": [
    {
     "data": {
      "text/html": [
       "<div>\n",
       "<style scoped>\n",
       "    .dataframe tbody tr th:only-of-type {\n",
       "        vertical-align: middle;\n",
       "    }\n",
       "\n",
       "    .dataframe tbody tr th {\n",
       "        vertical-align: top;\n",
       "    }\n",
       "\n",
       "    .dataframe thead th {\n",
       "        text-align: right;\n",
       "    }\n",
       "</style>\n",
       "<table border=\"1\" class=\"dataframe\">\n",
       "  <thead>\n",
       "    <tr style=\"text-align: right;\">\n",
       "      <th></th>\n",
       "      <th>SUBJECT_ID</th>\n",
       "      <th>HADM_ID</th>\n",
       "      <th>Age</th>\n",
       "      <th>GENDER</th>\n",
       "      <th>HOSPITAL_EXPIRE_FLAG</th>\n",
       "    </tr>\n",
       "  </thead>\n",
       "  <tbody>\n",
       "    <tr>\n",
       "      <th>0</th>\n",
       "      <td>22</td>\n",
       "      <td>165315</td>\n",
       "      <td>64.97</td>\n",
       "      <td>F</td>\n",
       "      <td>0</td>\n",
       "    </tr>\n",
       "    <tr>\n",
       "      <th>1</th>\n",
       "      <td>23</td>\n",
       "      <td>152223</td>\n",
       "      <td>71.18</td>\n",
       "      <td>M</td>\n",
       "      <td>0</td>\n",
       "    </tr>\n",
       "    <tr>\n",
       "      <th>2</th>\n",
       "      <td>23</td>\n",
       "      <td>124321</td>\n",
       "      <td>75.31</td>\n",
       "      <td>M</td>\n",
       "      <td>0</td>\n",
       "    </tr>\n",
       "    <tr>\n",
       "      <th>3</th>\n",
       "      <td>24</td>\n",
       "      <td>161859</td>\n",
       "      <td>39.04</td>\n",
       "      <td>M</td>\n",
       "      <td>0</td>\n",
       "    </tr>\n",
       "    <tr>\n",
       "      <th>4</th>\n",
       "      <td>25</td>\n",
       "      <td>129635</td>\n",
       "      <td>58.99</td>\n",
       "      <td>M</td>\n",
       "      <td>0</td>\n",
       "    </tr>\n",
       "  </tbody>\n",
       "</table>\n",
       "</div>"
      ],
      "text/plain": [
       "   SUBJECT_ID  HADM_ID    Age GENDER  HOSPITAL_EXPIRE_FLAG\n",
       "0          22   165315  64.97      F                     0\n",
       "1          23   152223  71.18      M                     0\n",
       "2          23   124321  75.31      M                     0\n",
       "3          24   161859  39.04      M                     0\n",
       "4          25   129635  58.99      M                     0"
      ]
     },
     "execution_count": 6,
     "metadata": {},
     "output_type": "execute_result"
    }
   ],
   "source": [
    "patients.head()"
   ]
  },
  {
   "cell_type": "code",
   "execution_count": 7,
   "metadata": {},
   "outputs": [
    {
     "name": "stdout",
     "output_type": "stream",
     "text": [
      "<class 'pandas.core.frame.DataFrame'>\n",
      "RangeIndex: 46545 entries, 0 to 46544\n",
      "Data columns (total 5 columns):\n",
      " #   Column                Non-Null Count  Dtype  \n",
      "---  ------                --------------  -----  \n",
      " 0   SUBJECT_ID            46545 non-null  int64  \n",
      " 1   HADM_ID               46545 non-null  int64  \n",
      " 2   Age                   46545 non-null  float64\n",
      " 3   GENDER                46545 non-null  object \n",
      " 4   HOSPITAL_EXPIRE_FLAG  46545 non-null  int64  \n",
      "dtypes: float64(1), int64(3), object(1)\n",
      "memory usage: 1.8+ MB\n"
     ]
    }
   ],
   "source": [
    "patients.info()"
   ]
  },
  {
   "cell_type": "code",
   "execution_count": 8,
   "metadata": {},
   "outputs": [],
   "source": [
    "patients[['GENDER_01']] = patients.apply(lambda x: 0 if x.GENDER=='F' else 1, axis=1)"
   ]
  },
  {
   "cell_type": "code",
   "execution_count": 9,
   "metadata": {},
   "outputs": [
    {
     "data": {
      "text/html": [
       "<div>\n",
       "<style scoped>\n",
       "    .dataframe tbody tr th:only-of-type {\n",
       "        vertical-align: middle;\n",
       "    }\n",
       "\n",
       "    .dataframe tbody tr th {\n",
       "        vertical-align: top;\n",
       "    }\n",
       "\n",
       "    .dataframe thead th {\n",
       "        text-align: right;\n",
       "    }\n",
       "</style>\n",
       "<table border=\"1\" class=\"dataframe\">\n",
       "  <thead>\n",
       "    <tr style=\"text-align: right;\">\n",
       "      <th></th>\n",
       "      <th>SUBJECT_ID</th>\n",
       "      <th>HADM_ID</th>\n",
       "      <th>Age</th>\n",
       "      <th>GENDER</th>\n",
       "      <th>HOSPITAL_EXPIRE_FLAG</th>\n",
       "      <th>GENDER_01</th>\n",
       "    </tr>\n",
       "  </thead>\n",
       "  <tbody>\n",
       "    <tr>\n",
       "      <th>0</th>\n",
       "      <td>22</td>\n",
       "      <td>165315</td>\n",
       "      <td>64.97</td>\n",
       "      <td>F</td>\n",
       "      <td>0</td>\n",
       "      <td>0</td>\n",
       "    </tr>\n",
       "    <tr>\n",
       "      <th>1</th>\n",
       "      <td>23</td>\n",
       "      <td>152223</td>\n",
       "      <td>71.18</td>\n",
       "      <td>M</td>\n",
       "      <td>0</td>\n",
       "      <td>1</td>\n",
       "    </tr>\n",
       "    <tr>\n",
       "      <th>2</th>\n",
       "      <td>23</td>\n",
       "      <td>124321</td>\n",
       "      <td>75.31</td>\n",
       "      <td>M</td>\n",
       "      <td>0</td>\n",
       "      <td>1</td>\n",
       "    </tr>\n",
       "    <tr>\n",
       "      <th>3</th>\n",
       "      <td>24</td>\n",
       "      <td>161859</td>\n",
       "      <td>39.04</td>\n",
       "      <td>M</td>\n",
       "      <td>0</td>\n",
       "      <td>1</td>\n",
       "    </tr>\n",
       "    <tr>\n",
       "      <th>4</th>\n",
       "      <td>25</td>\n",
       "      <td>129635</td>\n",
       "      <td>58.99</td>\n",
       "      <td>M</td>\n",
       "      <td>0</td>\n",
       "      <td>1</td>\n",
       "    </tr>\n",
       "  </tbody>\n",
       "</table>\n",
       "</div>"
      ],
      "text/plain": [
       "   SUBJECT_ID  HADM_ID    Age GENDER  HOSPITAL_EXPIRE_FLAG  GENDER_01\n",
       "0          22   165315  64.97      F                     0          0\n",
       "1          23   152223  71.18      M                     0          1\n",
       "2          23   124321  75.31      M                     0          1\n",
       "3          24   161859  39.04      M                     0          1\n",
       "4          25   129635  58.99      M                     0          1"
      ]
     },
     "execution_count": 9,
     "metadata": {},
     "output_type": "execute_result"
    }
   ],
   "source": [
    "patients.head()"
   ]
  },
  {
   "cell_type": "markdown",
   "metadata": {},
   "source": [
    "# Clean data--outliers"
   ]
  },
  {
   "cell_type": "code",
   "execution_count": 10,
   "metadata": {},
   "outputs": [],
   "source": [
    "# GLU\n",
    "chartLab48 = chartLab48.drop(chartLab48[(chartLab48.ITEMID=='GLU') & (chartLab48.VALUE>5000)].index) ##  entries"
   ]
  },
  {
   "cell_type": "code",
   "execution_count": 11,
   "metadata": {},
   "outputs": [],
   "source": [
    "# DBP\n",
    "chartLab48 = chartLab48.drop(chartLab48[(chartLab48.ITEMID=='DBP') & (chartLab48.VALUE>1000)].index) ##  entries"
   ]
  },
  {
   "cell_type": "code",
   "execution_count": 12,
   "metadata": {},
   "outputs": [],
   "source": [
    "# FIO -- ignore\n",
    "# chart24 = chart24.drop(chart24[(chart24.ITEMID=='FIO') & (chart24.VALUE>100)].index) ##  entries"
   ]
  },
  {
   "cell_type": "code",
   "execution_count": 13,
   "metadata": {},
   "outputs": [],
   "source": [
    "# HEIGHT\n",
    "chartLab48 = chartLab48.drop(chartLab48[(chartLab48.ITEMID=='HEIGHT') & (chartLab48.VALUE>300)].index) ##  entries"
   ]
  },
  {
   "cell_type": "code",
   "execution_count": 14,
   "metadata": {},
   "outputs": [],
   "source": [
    "# HR\n",
    "chartLab48 = chartLab48.drop(chartLab48[(chartLab48.ITEMID=='HR') & (chartLab48.VALUE>10000)].index) ##  entries"
   ]
  },
  {
   "cell_type": "code",
   "execution_count": 15,
   "metadata": {},
   "outputs": [],
   "source": [
    "# MBP\n",
    "chartLab48 = chartLab48.drop(chartLab48[(chartLab48.ITEMID=='MBP') & (chartLab48.VALUE>1000)].index) ##  entries"
   ]
  },
  {
   "cell_type": "code",
   "execution_count": 16,
   "metadata": {},
   "outputs": [],
   "source": [
    "# OS\n",
    "chartLab48 = chartLab48.drop(chartLab48[(chartLab48.ITEMID=='OS') & (chartLab48.VALUE>10000)].index) ##  entries"
   ]
  },
  {
   "cell_type": "code",
   "execution_count": 17,
   "metadata": {},
   "outputs": [],
   "source": [
    "# PH\n",
    "chartLab48 = chartLab48.drop(chartLab48[(chartLab48.ITEMID=='PH') & (chartLab48.VALUE>10)].index) ##   entries"
   ]
  },
  {
   "cell_type": "code",
   "execution_count": 18,
   "metadata": {},
   "outputs": [],
   "source": [
    "# RESPR\n",
    "chartLab48 = chartLab48.drop(chartLab48[(chartLab48.ITEMID=='RESPR') & (chartLab48.VALUE>1000)].index) ##   entries"
   ]
  },
  {
   "cell_type": "code",
   "execution_count": 19,
   "metadata": {},
   "outputs": [],
   "source": [
    "# SBP\n",
    "chartLab48 = chartLab48.drop(chartLab48[(chartLab48.ITEMID=='SBP') & (chartLab48.VALUE>1000)].index) ##   entries"
   ]
  },
  {
   "cell_type": "code",
   "execution_count": 20,
   "metadata": {},
   "outputs": [],
   "source": [
    "# TEMP\n",
    "chartLab48 = chartLab48.drop(chartLab48[(chartLab48.ITEMID=='TEMP') & (chartLab48.VALUE>50)].index) \n",
    "chartLab48 = chartLab48.drop(chartLab48[(chartLab48.ITEMID=='TEMP') & (chartLab48.VALUE<20)].index) ##   entries"
   ]
  },
  {
   "cell_type": "code",
   "execution_count": 21,
   "metadata": {},
   "outputs": [],
   "source": [
    "# weight\n",
    "chartLab48 = chartLab48.drop(chartLab48[(chartLab48.ITEMID=='WEIGHT') & (chartLab48.VALUE>1000)].index) \n",
    "chartLab48 = chartLab48.drop(chartLab48[(chartLab48.ITEMID=='WEIGHT') & (chartLab48.VALUE<10)].index) ##   entries"
   ]
  },
  {
   "cell_type": "code",
   "execution_count": 22,
   "metadata": {
    "scrolled": false
   },
   "outputs": [
    {
     "name": "stdout",
     "output_type": "stream",
     "text": [
      "<class 'pandas.core.frame.DataFrame'>\n",
      "Int64Index: 18918366 entries, 0 to 18920177\n",
      "Data columns (total 5 columns):\n",
      " #   Column      Dtype  \n",
      "---  ------      -----  \n",
      " 0   SUBJECT_ID  int64  \n",
      " 1   HADM_ID     int64  \n",
      " 2   ITEMID      object \n",
      " 3   CHARTTIME   object \n",
      " 4   VALUE       float64\n",
      "dtypes: float64(1), int64(2), object(2)\n",
      "memory usage: 866.0+ MB\n"
     ]
    }
   ],
   "source": [
    "chartLab48.info() # 18,918,380"
   ]
  },
  {
   "cell_type": "code",
   "execution_count": null,
   "metadata": {},
   "outputs": [],
   "source": []
  },
  {
   "cell_type": "code",
   "execution_count": 23,
   "metadata": {},
   "outputs": [],
   "source": [
    "chartLab48_mean = chartLab48[['HADM_ID', 'ITEMID', 'VALUE']].groupby(['HADM_ID', 'ITEMID'], as_index=False).mean()"
   ]
  },
  {
   "cell_type": "code",
   "execution_count": 24,
   "metadata": {},
   "outputs": [
    {
     "data": {
      "text/plain": [
       "46237"
      ]
     },
     "execution_count": 24,
     "metadata": {},
     "output_type": "execute_result"
    }
   ],
   "source": [
    "len(chartLab48_mean['HADM_ID'].unique()) ## 46237 admission, 20 itemid"
   ]
  },
  {
   "cell_type": "code",
   "execution_count": 25,
   "metadata": {},
   "outputs": [
    {
     "data": {
      "text/html": [
       "<div>\n",
       "<style scoped>\n",
       "    .dataframe tbody tr th:only-of-type {\n",
       "        vertical-align: middle;\n",
       "    }\n",
       "\n",
       "    .dataframe tbody tr th {\n",
       "        vertical-align: top;\n",
       "    }\n",
       "\n",
       "    .dataframe thead th {\n",
       "        text-align: right;\n",
       "    }\n",
       "</style>\n",
       "<table border=\"1\" class=\"dataframe\">\n",
       "  <thead>\n",
       "    <tr style=\"text-align: right;\">\n",
       "      <th></th>\n",
       "      <th>HADM_ID</th>\n",
       "      <th>ITEMID</th>\n",
       "      <th>VALUE</th>\n",
       "    </tr>\n",
       "  </thead>\n",
       "  <tbody>\n",
       "    <tr>\n",
       "      <th>0</th>\n",
       "      <td>100001</td>\n",
       "      <td>DBP</td>\n",
       "      <td>90.333333</td>\n",
       "    </tr>\n",
       "    <tr>\n",
       "      <th>1</th>\n",
       "      <td>100001</td>\n",
       "      <td>GLU</td>\n",
       "      <td>197.920000</td>\n",
       "    </tr>\n",
       "    <tr>\n",
       "      <th>2</th>\n",
       "      <td>100001</td>\n",
       "      <td>GMR</td>\n",
       "      <td>6.000000</td>\n",
       "    </tr>\n",
       "    <tr>\n",
       "      <th>3</th>\n",
       "      <td>100001</td>\n",
       "      <td>GO</td>\n",
       "      <td>4.000000</td>\n",
       "    </tr>\n",
       "    <tr>\n",
       "      <th>4</th>\n",
       "      <td>100001</td>\n",
       "      <td>GVR</td>\n",
       "      <td>5.000000</td>\n",
       "    </tr>\n",
       "  </tbody>\n",
       "</table>\n",
       "</div>"
      ],
      "text/plain": [
       "   HADM_ID ITEMID       VALUE\n",
       "0   100001    DBP   90.333333\n",
       "1   100001    GLU  197.920000\n",
       "2   100001    GMR    6.000000\n",
       "3   100001     GO    4.000000\n",
       "4   100001    GVR    5.000000"
      ]
     },
     "execution_count": 25,
     "metadata": {},
     "output_type": "execute_result"
    }
   ],
   "source": [
    "chartLab48_mean.head()"
   ]
  },
  {
   "cell_type": "code",
   "execution_count": 26,
   "metadata": {},
   "outputs": [],
   "source": [
    "# pivot table to have each itemid as one column\n",
    "chartLab48_pivot = chartLab48_mean.pivot(index='HADM_ID', columns = 'ITEMID', values='VALUE')"
   ]
  },
  {
   "cell_type": "code",
   "execution_count": 27,
   "metadata": {},
   "outputs": [
    {
     "data": {
      "text/html": [
       "<div>\n",
       "<style scoped>\n",
       "    .dataframe tbody tr th:only-of-type {\n",
       "        vertical-align: middle;\n",
       "    }\n",
       "\n",
       "    .dataframe tbody tr th {\n",
       "        vertical-align: top;\n",
       "    }\n",
       "\n",
       "    .dataframe thead th {\n",
       "        text-align: right;\n",
       "    }\n",
       "</style>\n",
       "<table border=\"1\" class=\"dataframe\">\n",
       "  <thead>\n",
       "    <tr style=\"text-align: right;\">\n",
       "      <th>ITEMID</th>\n",
       "      <th>CRR</th>\n",
       "      <th>DBP</th>\n",
       "      <th>FIO</th>\n",
       "      <th>GLU</th>\n",
       "      <th>GMR</th>\n",
       "      <th>GO</th>\n",
       "      <th>GT</th>\n",
       "      <th>GVR</th>\n",
       "      <th>HEIGHT</th>\n",
       "      <th>HR</th>\n",
       "      <th>MBP</th>\n",
       "      <th>OS</th>\n",
       "      <th>PH</th>\n",
       "      <th>POTA</th>\n",
       "      <th>RESPR</th>\n",
       "      <th>SBP</th>\n",
       "      <th>TEMP</th>\n",
       "      <th>UREA</th>\n",
       "      <th>WBC</th>\n",
       "      <th>WEIGHT</th>\n",
       "    </tr>\n",
       "    <tr>\n",
       "      <th>HADM_ID</th>\n",
       "      <th></th>\n",
       "      <th></th>\n",
       "      <th></th>\n",
       "      <th></th>\n",
       "      <th></th>\n",
       "      <th></th>\n",
       "      <th></th>\n",
       "      <th></th>\n",
       "      <th></th>\n",
       "      <th></th>\n",
       "      <th></th>\n",
       "      <th></th>\n",
       "      <th></th>\n",
       "      <th></th>\n",
       "      <th></th>\n",
       "      <th></th>\n",
       "      <th></th>\n",
       "      <th></th>\n",
       "      <th></th>\n",
       "      <th></th>\n",
       "    </tr>\n",
       "  </thead>\n",
       "  <tbody>\n",
       "    <tr>\n",
       "      <th>100001</th>\n",
       "      <td>NaN</td>\n",
       "      <td>90.333333</td>\n",
       "      <td>NaN</td>\n",
       "      <td>197.920000</td>\n",
       "      <td>6.00</td>\n",
       "      <td>4.000000</td>\n",
       "      <td>NaN</td>\n",
       "      <td>5.000000</td>\n",
       "      <td>NaN</td>\n",
       "      <td>117.000000</td>\n",
       "      <td>110.410256</td>\n",
       "      <td>97.600000</td>\n",
       "      <td>6.750000</td>\n",
       "      <td>3.900000</td>\n",
       "      <td>17.300000</td>\n",
       "      <td>176.666667</td>\n",
       "      <td>37.152778</td>\n",
       "      <td>31.285714</td>\n",
       "      <td>12.500000</td>\n",
       "      <td>98.010000</td>\n",
       "    </tr>\n",
       "    <tr>\n",
       "      <th>100003</th>\n",
       "      <td>NaN</td>\n",
       "      <td>60.615385</td>\n",
       "      <td>NaN</td>\n",
       "      <td>96.571429</td>\n",
       "      <td>6.00</td>\n",
       "      <td>3.916667</td>\n",
       "      <td>NaN</td>\n",
       "      <td>5.000000</td>\n",
       "      <td>NaN</td>\n",
       "      <td>81.218182</td>\n",
       "      <td>73.980769</td>\n",
       "      <td>98.100000</td>\n",
       "      <td>6.746667</td>\n",
       "      <td>4.766667</td>\n",
       "      <td>15.818182</td>\n",
       "      <td>116.519231</td>\n",
       "      <td>36.247475</td>\n",
       "      <td>40.666667</td>\n",
       "      <td>13.625000</td>\n",
       "      <td>84.743333</td>\n",
       "    </tr>\n",
       "    <tr>\n",
       "      <th>100006</th>\n",
       "      <td>NaN</td>\n",
       "      <td>77.666667</td>\n",
       "      <td>NaN</td>\n",
       "      <td>153.583333</td>\n",
       "      <td>6.00</td>\n",
       "      <td>4.000000</td>\n",
       "      <td>15.000000</td>\n",
       "      <td>5.000000</td>\n",
       "      <td>NaN</td>\n",
       "      <td>110.680000</td>\n",
       "      <td>97.298633</td>\n",
       "      <td>96.296296</td>\n",
       "      <td>7.366667</td>\n",
       "      <td>4.050000</td>\n",
       "      <td>19.000000</td>\n",
       "      <td>136.562500</td>\n",
       "      <td>36.409091</td>\n",
       "      <td>14.000000</td>\n",
       "      <td>15.100000</td>\n",
       "      <td>57.000000</td>\n",
       "    </tr>\n",
       "    <tr>\n",
       "      <th>100007</th>\n",
       "      <td>NaN</td>\n",
       "      <td>61.046512</td>\n",
       "      <td>NaN</td>\n",
       "      <td>132.750000</td>\n",
       "      <td>6.00</td>\n",
       "      <td>3.846154</td>\n",
       "      <td>14.230769</td>\n",
       "      <td>4.384615</td>\n",
       "      <td>NaN</td>\n",
       "      <td>74.139535</td>\n",
       "      <td>86.166667</td>\n",
       "      <td>99.409091</td>\n",
       "      <td>NaN</td>\n",
       "      <td>4.366667</td>\n",
       "      <td>16.613636</td>\n",
       "      <td>138.906977</td>\n",
       "      <td>36.716042</td>\n",
       "      <td>13.000000</td>\n",
       "      <td>9.500000</td>\n",
       "      <td>55.099998</td>\n",
       "    </tr>\n",
       "    <tr>\n",
       "      <th>100009</th>\n",
       "      <td>NaN</td>\n",
       "      <td>50.404255</td>\n",
       "      <td>70.0</td>\n",
       "      <td>143.478261</td>\n",
       "      <td>4.75</td>\n",
       "      <td>4.000000</td>\n",
       "      <td>NaN</td>\n",
       "      <td>4.000000</td>\n",
       "      <td>182.94</td>\n",
       "      <td>67.480000</td>\n",
       "      <td>65.340426</td>\n",
       "      <td>96.150000</td>\n",
       "      <td>7.372174</td>\n",
       "      <td>4.076923</td>\n",
       "      <td>23.392857</td>\n",
       "      <td>109.042553</td>\n",
       "      <td>36.791667</td>\n",
       "      <td>12.500000</td>\n",
       "      <td>14.466667</td>\n",
       "      <td>116.912500</td>\n",
       "    </tr>\n",
       "  </tbody>\n",
       "</table>\n",
       "</div>"
      ],
      "text/plain": [
       "ITEMID   CRR        DBP   FIO         GLU   GMR        GO         GT  \\\n",
       "HADM_ID                                                                \n",
       "100001   NaN  90.333333   NaN  197.920000  6.00  4.000000        NaN   \n",
       "100003   NaN  60.615385   NaN   96.571429  6.00  3.916667        NaN   \n",
       "100006   NaN  77.666667   NaN  153.583333  6.00  4.000000  15.000000   \n",
       "100007   NaN  61.046512   NaN  132.750000  6.00  3.846154  14.230769   \n",
       "100009   NaN  50.404255  70.0  143.478261  4.75  4.000000        NaN   \n",
       "\n",
       "ITEMID        GVR  HEIGHT          HR         MBP         OS        PH  \\\n",
       "HADM_ID                                                                  \n",
       "100001   5.000000     NaN  117.000000  110.410256  97.600000  6.750000   \n",
       "100003   5.000000     NaN   81.218182   73.980769  98.100000  6.746667   \n",
       "100006   5.000000     NaN  110.680000   97.298633  96.296296  7.366667   \n",
       "100007   4.384615     NaN   74.139535   86.166667  99.409091       NaN   \n",
       "100009   4.000000  182.94   67.480000   65.340426  96.150000  7.372174   \n",
       "\n",
       "ITEMID       POTA      RESPR         SBP       TEMP       UREA        WBC  \\\n",
       "HADM_ID                                                                     \n",
       "100001   3.900000  17.300000  176.666667  37.152778  31.285714  12.500000   \n",
       "100003   4.766667  15.818182  116.519231  36.247475  40.666667  13.625000   \n",
       "100006   4.050000  19.000000  136.562500  36.409091  14.000000  15.100000   \n",
       "100007   4.366667  16.613636  138.906977  36.716042  13.000000   9.500000   \n",
       "100009   4.076923  23.392857  109.042553  36.791667  12.500000  14.466667   \n",
       "\n",
       "ITEMID       WEIGHT  \n",
       "HADM_ID              \n",
       "100001    98.010000  \n",
       "100003    84.743333  \n",
       "100006    57.000000  \n",
       "100007    55.099998  \n",
       "100009   116.912500  "
      ]
     },
     "execution_count": 27,
     "metadata": {},
     "output_type": "execute_result"
    }
   ],
   "source": [
    "chartLab48_pivot.head()"
   ]
  },
  {
   "cell_type": "code",
   "execution_count": 28,
   "metadata": {},
   "outputs": [
    {
     "data": {
      "text/html": [
       "<div>\n",
       "<style scoped>\n",
       "    .dataframe tbody tr th:only-of-type {\n",
       "        vertical-align: middle;\n",
       "    }\n",
       "\n",
       "    .dataframe tbody tr th {\n",
       "        vertical-align: top;\n",
       "    }\n",
       "\n",
       "    .dataframe thead th {\n",
       "        text-align: right;\n",
       "    }\n",
       "</style>\n",
       "<table border=\"1\" class=\"dataframe\">\n",
       "  <thead>\n",
       "    <tr style=\"text-align: right;\">\n",
       "      <th>ITEMID</th>\n",
       "      <th>CRR</th>\n",
       "      <th>DBP</th>\n",
       "      <th>FIO</th>\n",
       "      <th>GLU</th>\n",
       "      <th>GMR</th>\n",
       "      <th>GO</th>\n",
       "      <th>GT</th>\n",
       "      <th>GVR</th>\n",
       "      <th>HEIGHT</th>\n",
       "      <th>HR</th>\n",
       "      <th>MBP</th>\n",
       "      <th>OS</th>\n",
       "      <th>PH</th>\n",
       "      <th>POTA</th>\n",
       "      <th>RESPR</th>\n",
       "      <th>SBP</th>\n",
       "      <th>TEMP</th>\n",
       "      <th>UREA</th>\n",
       "      <th>WBC</th>\n",
       "      <th>WEIGHT</th>\n",
       "    </tr>\n",
       "  </thead>\n",
       "  <tbody>\n",
       "    <tr>\n",
       "      <th>count</th>\n",
       "      <td>707.000000</td>\n",
       "      <td>45590.000000</td>\n",
       "      <td>11582.000000</td>\n",
       "      <td>45754.000000</td>\n",
       "      <td>45634.000000</td>\n",
       "      <td>45078.000000</td>\n",
       "      <td>25141.000000</td>\n",
       "      <td>45595.000000</td>\n",
       "      <td>9051.000000</td>\n",
       "      <td>45590.000000</td>\n",
       "      <td>45586.000000</td>\n",
       "      <td>45783.000000</td>\n",
       "      <td>33283.000000</td>\n",
       "      <td>45546.000000</td>\n",
       "      <td>45564.000000</td>\n",
       "      <td>45590.000000</td>\n",
       "      <td>45266.000000</td>\n",
       "      <td>45431.000000</td>\n",
       "      <td>45301.000000</td>\n",
       "      <td>36516.000000</td>\n",
       "    </tr>\n",
       "    <tr>\n",
       "      <th>mean</th>\n",
       "      <td>0.165660</td>\n",
       "      <td>60.773526</td>\n",
       "      <td>51.437699</td>\n",
       "      <td>136.829144</td>\n",
       "      <td>5.443846</td>\n",
       "      <td>3.527791</td>\n",
       "      <td>12.455453</td>\n",
       "      <td>3.722410</td>\n",
       "      <td>168.640430</td>\n",
       "      <td>84.907594</td>\n",
       "      <td>78.339436</td>\n",
       "      <td>96.709278</td>\n",
       "      <td>7.080391</td>\n",
       "      <td>4.114979</td>\n",
       "      <td>18.278322</td>\n",
       "      <td>119.543801</td>\n",
       "      <td>36.834234</td>\n",
       "      <td>24.595155</td>\n",
       "      <td>11.525579</td>\n",
       "      <td>81.968122</td>\n",
       "    </tr>\n",
       "    <tr>\n",
       "      <th>std</th>\n",
       "      <td>0.329933</td>\n",
       "      <td>10.689155</td>\n",
       "      <td>24.802941</td>\n",
       "      <td>41.633963</td>\n",
       "      <td>1.018348</td>\n",
       "      <td>0.686043</td>\n",
       "      <td>3.100995</td>\n",
       "      <td>1.496881</td>\n",
       "      <td>15.034067</td>\n",
       "      <td>14.827991</td>\n",
       "      <td>11.015054</td>\n",
       "      <td>3.406703</td>\n",
       "      <td>0.657993</td>\n",
       "      <td>0.502612</td>\n",
       "      <td>3.819177</td>\n",
       "      <td>16.827420</td>\n",
       "      <td>0.587077</td>\n",
       "      <td>19.810569</td>\n",
       "      <td>8.732339</td>\n",
       "      <td>24.413054</td>\n",
       "    </tr>\n",
       "    <tr>\n",
       "      <th>min</th>\n",
       "      <td>0.000000</td>\n",
       "      <td>0.000000</td>\n",
       "      <td>0.000000</td>\n",
       "      <td>21.000000</td>\n",
       "      <td>1.000000</td>\n",
       "      <td>1.000000</td>\n",
       "      <td>3.000000</td>\n",
       "      <td>1.000000</td>\n",
       "      <td>0.000000</td>\n",
       "      <td>26.357143</td>\n",
       "      <td>17.428571</td>\n",
       "      <td>13.500000</td>\n",
       "      <td>0.000000</td>\n",
       "      <td>1.942857</td>\n",
       "      <td>5.272727</td>\n",
       "      <td>0.000000</td>\n",
       "      <td>30.000000</td>\n",
       "      <td>1.000000</td>\n",
       "      <td>0.066667</td>\n",
       "      <td>10.000000</td>\n",
       "    </tr>\n",
       "    <tr>\n",
       "      <th>25%</th>\n",
       "      <td>0.000000</td>\n",
       "      <td>53.500000</td>\n",
       "      <td>42.500000</td>\n",
       "      <td>111.000000</td>\n",
       "      <td>5.285714</td>\n",
       "      <td>3.333333</td>\n",
       "      <td>10.733333</td>\n",
       "      <td>2.647059</td>\n",
       "      <td>162.780000</td>\n",
       "      <td>74.553783</td>\n",
       "      <td>70.762401</td>\n",
       "      <td>95.770492</td>\n",
       "      <td>7.139288</td>\n",
       "      <td>3.800000</td>\n",
       "      <td>15.642857</td>\n",
       "      <td>107.614489</td>\n",
       "      <td>36.482907</td>\n",
       "      <td>12.333333</td>\n",
       "      <td>7.750000</td>\n",
       "      <td>66.000000</td>\n",
       "    </tr>\n",
       "    <tr>\n",
       "      <th>50%</th>\n",
       "      <td>0.000000</td>\n",
       "      <td>59.740000</td>\n",
       "      <td>50.666667</td>\n",
       "      <td>128.250000</td>\n",
       "      <td>6.000000</td>\n",
       "      <td>3.818182</td>\n",
       "      <td>13.750000</td>\n",
       "      <td>4.384615</td>\n",
       "      <td>170.090000</td>\n",
       "      <td>84.015873</td>\n",
       "      <td>77.000000</td>\n",
       "      <td>97.074074</td>\n",
       "      <td>7.340909</td>\n",
       "      <td>4.055903</td>\n",
       "      <td>17.782609</td>\n",
       "      <td>117.375000</td>\n",
       "      <td>36.814815</td>\n",
       "      <td>18.000000</td>\n",
       "      <td>10.428571</td>\n",
       "      <td>78.699997</td>\n",
       "    </tr>\n",
       "    <tr>\n",
       "      <th>75%</th>\n",
       "      <td>0.141429</td>\n",
       "      <td>67.000000</td>\n",
       "      <td>61.666667</td>\n",
       "      <td>151.245192</td>\n",
       "      <td>6.000000</td>\n",
       "      <td>4.000000</td>\n",
       "      <td>15.000000</td>\n",
       "      <td>5.000000</td>\n",
       "      <td>177.900000</td>\n",
       "      <td>94.420217</td>\n",
       "      <td>84.815949</td>\n",
       "      <td>98.224490</td>\n",
       "      <td>7.396667</td>\n",
       "      <td>4.366667</td>\n",
       "      <td>20.400000</td>\n",
       "      <td>129.956522</td>\n",
       "      <td>37.182540</td>\n",
       "      <td>29.500000</td>\n",
       "      <td>13.680000</td>\n",
       "      <td>93.696249</td>\n",
       "    </tr>\n",
       "    <tr>\n",
       "      <th>max</th>\n",
       "      <td>2.000000</td>\n",
       "      <td>127.097561</td>\n",
       "      <td>1001.000000</td>\n",
       "      <td>791.500000</td>\n",
       "      <td>6.000000</td>\n",
       "      <td>4.000000</td>\n",
       "      <td>15.000000</td>\n",
       "      <td>5.000000</td>\n",
       "      <td>284.240000</td>\n",
       "      <td>207.485714</td>\n",
       "      <td>140.564115</td>\n",
       "      <td>288.829787</td>\n",
       "      <td>9.000000</td>\n",
       "      <td>30.895238</td>\n",
       "      <td>48.000000</td>\n",
       "      <td>215.833333</td>\n",
       "      <td>40.833317</td>\n",
       "      <td>248.166667</td>\n",
       "      <td>579.533333</td>\n",
       "      <td>670.000000</td>\n",
       "    </tr>\n",
       "  </tbody>\n",
       "</table>\n",
       "</div>"
      ],
      "text/plain": [
       "ITEMID         CRR           DBP           FIO           GLU           GMR  \\\n",
       "count   707.000000  45590.000000  11582.000000  45754.000000  45634.000000   \n",
       "mean      0.165660     60.773526     51.437699    136.829144      5.443846   \n",
       "std       0.329933     10.689155     24.802941     41.633963      1.018348   \n",
       "min       0.000000      0.000000      0.000000     21.000000      1.000000   \n",
       "25%       0.000000     53.500000     42.500000    111.000000      5.285714   \n",
       "50%       0.000000     59.740000     50.666667    128.250000      6.000000   \n",
       "75%       0.141429     67.000000     61.666667    151.245192      6.000000   \n",
       "max       2.000000    127.097561   1001.000000    791.500000      6.000000   \n",
       "\n",
       "ITEMID            GO            GT           GVR       HEIGHT            HR  \\\n",
       "count   45078.000000  25141.000000  45595.000000  9051.000000  45590.000000   \n",
       "mean        3.527791     12.455453      3.722410   168.640430     84.907594   \n",
       "std         0.686043      3.100995      1.496881    15.034067     14.827991   \n",
       "min         1.000000      3.000000      1.000000     0.000000     26.357143   \n",
       "25%         3.333333     10.733333      2.647059   162.780000     74.553783   \n",
       "50%         3.818182     13.750000      4.384615   170.090000     84.015873   \n",
       "75%         4.000000     15.000000      5.000000   177.900000     94.420217   \n",
       "max         4.000000     15.000000      5.000000   284.240000    207.485714   \n",
       "\n",
       "ITEMID           MBP            OS            PH          POTA         RESPR  \\\n",
       "count   45586.000000  45783.000000  33283.000000  45546.000000  45564.000000   \n",
       "mean       78.339436     96.709278      7.080391      4.114979     18.278322   \n",
       "std        11.015054      3.406703      0.657993      0.502612      3.819177   \n",
       "min        17.428571     13.500000      0.000000      1.942857      5.272727   \n",
       "25%        70.762401     95.770492      7.139288      3.800000     15.642857   \n",
       "50%        77.000000     97.074074      7.340909      4.055903     17.782609   \n",
       "75%        84.815949     98.224490      7.396667      4.366667     20.400000   \n",
       "max       140.564115    288.829787      9.000000     30.895238     48.000000   \n",
       "\n",
       "ITEMID           SBP          TEMP          UREA           WBC        WEIGHT  \n",
       "count   45590.000000  45266.000000  45431.000000  45301.000000  36516.000000  \n",
       "mean      119.543801     36.834234     24.595155     11.525579     81.968122  \n",
       "std        16.827420      0.587077     19.810569      8.732339     24.413054  \n",
       "min         0.000000     30.000000      1.000000      0.066667     10.000000  \n",
       "25%       107.614489     36.482907     12.333333      7.750000     66.000000  \n",
       "50%       117.375000     36.814815     18.000000     10.428571     78.699997  \n",
       "75%       129.956522     37.182540     29.500000     13.680000     93.696249  \n",
       "max       215.833333     40.833317    248.166667    579.533333    670.000000  "
      ]
     },
     "execution_count": 28,
     "metadata": {},
     "output_type": "execute_result"
    }
   ],
   "source": [
    "chartLab48_pivot.describe()"
   ]
  },
  {
   "cell_type": "code",
   "execution_count": null,
   "metadata": {},
   "outputs": [],
   "source": []
  },
  {
   "cell_type": "markdown",
   "metadata": {},
   "source": [
    "# Null entry imputation"
   ]
  },
  {
   "cell_type": "code",
   "execution_count": 29,
   "metadata": {},
   "outputs": [],
   "source": [
    "# null entry imputation-- CRR 0.0\n",
    "chartLab48_pivot['CRR'].fillna(0.0, inplace=True)"
   ]
  },
  {
   "cell_type": "code",
   "execution_count": 30,
   "metadata": {},
   "outputs": [],
   "source": [
    "# null entry imputation-- DBP 59.0\n",
    "chartLab48_pivot['DBP'].fillna(59.0, inplace=True)"
   ]
  },
  {
   "cell_type": "code",
   "execution_count": 31,
   "metadata": {},
   "outputs": [],
   "source": [
    "# null entry imputation-- FIO 0.21\n",
    "chartLab48_pivot['FIO'].fillna(52, inplace=True)"
   ]
  },
  {
   "cell_type": "code",
   "execution_count": 32,
   "metadata": {},
   "outputs": [],
   "source": [
    "# null entry imputation-- GLU 128\n",
    "chartLab48_pivot['GLU'].fillna(128, inplace=True)"
   ]
  },
  {
   "cell_type": "code",
   "execution_count": 33,
   "metadata": {},
   "outputs": [],
   "source": [
    "# null entry imputation-- GMR 6\n",
    "chartLab48_pivot['GMR'].fillna(6, inplace=True)"
   ]
  },
  {
   "cell_type": "code",
   "execution_count": 34,
   "metadata": {},
   "outputs": [],
   "source": [
    "# null entry imputation-- GO 4\n",
    "chartLab48_pivot['GO'].fillna(4, inplace=True)"
   ]
  },
  {
   "cell_type": "code",
   "execution_count": 35,
   "metadata": {},
   "outputs": [],
   "source": [
    "# null entry imputation-- GT 15\n",
    "chartLab48_pivot['GT'].fillna(15, inplace=True)"
   ]
  },
  {
   "cell_type": "code",
   "execution_count": 36,
   "metadata": {},
   "outputs": [],
   "source": [
    "# null entry imputation-- GVR 5\n",
    "chartLab48_pivot['GVR'].fillna(5, inplace=True)"
   ]
  },
  {
   "cell_type": "code",
   "execution_count": 37,
   "metadata": {},
   "outputs": [],
   "source": [
    "# null entry imputation-- HEIGHT 5\n",
    "chartLab48_pivot['HEIGHT'].fillna(170, inplace=True)"
   ]
  },
  {
   "cell_type": "code",
   "execution_count": 38,
   "metadata": {},
   "outputs": [],
   "source": [
    "# null entry imputation-- MBP 77\n",
    "chartLab48_pivot['MBP'].fillna(77, inplace=True)"
   ]
  },
  {
   "cell_type": "code",
   "execution_count": 39,
   "metadata": {},
   "outputs": [],
   "source": [
    "# null entry imputation-- HR 5\n",
    "chartLab48_pivot['HR'].fillna(86, inplace=True)"
   ]
  },
  {
   "cell_type": "code",
   "execution_count": 40,
   "metadata": {},
   "outputs": [],
   "source": [
    "# null entry imputation-- OS 98\n",
    "chartLab48_pivot['OS'].fillna(98, inplace=True)"
   ]
  },
  {
   "cell_type": "code",
   "execution_count": 41,
   "metadata": {},
   "outputs": [],
   "source": [
    "# null entry imputation-- PH 98\n",
    "chartLab48_pivot['PH'].fillna(7.4, inplace=True)"
   ]
  },
  {
   "cell_type": "code",
   "execution_count": 42,
   "metadata": {},
   "outputs": [],
   "source": [
    "# null entry imputation-- RESPR 98\n",
    "chartLab48_pivot['RESPR'].fillna(19, inplace=True)"
   ]
  },
  {
   "cell_type": "code",
   "execution_count": 43,
   "metadata": {},
   "outputs": [],
   "source": [
    "# null entry imputation-- SBP 118\n",
    "chartLab48_pivot['SBP'].fillna(118, inplace=True)"
   ]
  },
  {
   "cell_type": "code",
   "execution_count": 44,
   "metadata": {},
   "outputs": [],
   "source": [
    "# null entry imputation-- TEMP 36.6\n",
    "chartLab48_pivot['TEMP'].fillna(36.6, inplace=True)"
   ]
  },
  {
   "cell_type": "code",
   "execution_count": 45,
   "metadata": {},
   "outputs": [],
   "source": [
    "# null entry imputation-- WEIGHT 81\n",
    "chartLab48_pivot['WEIGHT'].fillna(81, inplace=True)"
   ]
  },
  {
   "cell_type": "code",
   "execution_count": 46,
   "metadata": {},
   "outputs": [],
   "source": [
    "# null entry imputation-- POTA 4.14\n",
    "chartLab48_pivot['POTA'].fillna(4.14, inplace=True)"
   ]
  },
  {
   "cell_type": "code",
   "execution_count": 47,
   "metadata": {},
   "outputs": [],
   "source": [
    "# null entry imputation-- UREA 25\n",
    "chartLab48_pivot['UREA'].fillna(25, inplace=True)"
   ]
  },
  {
   "cell_type": "code",
   "execution_count": 48,
   "metadata": {},
   "outputs": [],
   "source": [
    "# null entry imputation-- WBC 11.81\n",
    "chartLab48_pivot['WBC'].fillna(11.81, inplace=True)"
   ]
  },
  {
   "cell_type": "code",
   "execution_count": 49,
   "metadata": {},
   "outputs": [
    {
     "data": {
      "text/html": [
       "<div>\n",
       "<style scoped>\n",
       "    .dataframe tbody tr th:only-of-type {\n",
       "        vertical-align: middle;\n",
       "    }\n",
       "\n",
       "    .dataframe tbody tr th {\n",
       "        vertical-align: top;\n",
       "    }\n",
       "\n",
       "    .dataframe thead th {\n",
       "        text-align: right;\n",
       "    }\n",
       "</style>\n",
       "<table border=\"1\" class=\"dataframe\">\n",
       "  <thead>\n",
       "    <tr style=\"text-align: right;\">\n",
       "      <th>ITEMID</th>\n",
       "      <th>CRR</th>\n",
       "      <th>DBP</th>\n",
       "      <th>FIO</th>\n",
       "      <th>GLU</th>\n",
       "      <th>GMR</th>\n",
       "      <th>GO</th>\n",
       "      <th>GT</th>\n",
       "      <th>GVR</th>\n",
       "      <th>HEIGHT</th>\n",
       "      <th>HR</th>\n",
       "      <th>MBP</th>\n",
       "      <th>OS</th>\n",
       "      <th>PH</th>\n",
       "      <th>POTA</th>\n",
       "      <th>RESPR</th>\n",
       "      <th>SBP</th>\n",
       "      <th>TEMP</th>\n",
       "      <th>UREA</th>\n",
       "      <th>WBC</th>\n",
       "      <th>WEIGHT</th>\n",
       "    </tr>\n",
       "    <tr>\n",
       "      <th>HADM_ID</th>\n",
       "      <th></th>\n",
       "      <th></th>\n",
       "      <th></th>\n",
       "      <th></th>\n",
       "      <th></th>\n",
       "      <th></th>\n",
       "      <th></th>\n",
       "      <th></th>\n",
       "      <th></th>\n",
       "      <th></th>\n",
       "      <th></th>\n",
       "      <th></th>\n",
       "      <th></th>\n",
       "      <th></th>\n",
       "      <th></th>\n",
       "      <th></th>\n",
       "      <th></th>\n",
       "      <th></th>\n",
       "      <th></th>\n",
       "      <th></th>\n",
       "    </tr>\n",
       "  </thead>\n",
       "  <tbody>\n",
       "    <tr>\n",
       "      <th>100001</th>\n",
       "      <td>0.0</td>\n",
       "      <td>90.333333</td>\n",
       "      <td>52.0</td>\n",
       "      <td>197.920000</td>\n",
       "      <td>6.00</td>\n",
       "      <td>4.000000</td>\n",
       "      <td>15.000000</td>\n",
       "      <td>5.000000</td>\n",
       "      <td>170.00</td>\n",
       "      <td>117.000000</td>\n",
       "      <td>110.410256</td>\n",
       "      <td>97.600000</td>\n",
       "      <td>6.750000</td>\n",
       "      <td>3.900000</td>\n",
       "      <td>17.300000</td>\n",
       "      <td>176.666667</td>\n",
       "      <td>37.152778</td>\n",
       "      <td>31.285714</td>\n",
       "      <td>12.500000</td>\n",
       "      <td>98.010000</td>\n",
       "    </tr>\n",
       "    <tr>\n",
       "      <th>100003</th>\n",
       "      <td>0.0</td>\n",
       "      <td>60.615385</td>\n",
       "      <td>52.0</td>\n",
       "      <td>96.571429</td>\n",
       "      <td>6.00</td>\n",
       "      <td>3.916667</td>\n",
       "      <td>15.000000</td>\n",
       "      <td>5.000000</td>\n",
       "      <td>170.00</td>\n",
       "      <td>81.218182</td>\n",
       "      <td>73.980769</td>\n",
       "      <td>98.100000</td>\n",
       "      <td>6.746667</td>\n",
       "      <td>4.766667</td>\n",
       "      <td>15.818182</td>\n",
       "      <td>116.519231</td>\n",
       "      <td>36.247475</td>\n",
       "      <td>40.666667</td>\n",
       "      <td>13.625000</td>\n",
       "      <td>84.743333</td>\n",
       "    </tr>\n",
       "    <tr>\n",
       "      <th>100006</th>\n",
       "      <td>0.0</td>\n",
       "      <td>77.666667</td>\n",
       "      <td>52.0</td>\n",
       "      <td>153.583333</td>\n",
       "      <td>6.00</td>\n",
       "      <td>4.000000</td>\n",
       "      <td>15.000000</td>\n",
       "      <td>5.000000</td>\n",
       "      <td>170.00</td>\n",
       "      <td>110.680000</td>\n",
       "      <td>97.298633</td>\n",
       "      <td>96.296296</td>\n",
       "      <td>7.366667</td>\n",
       "      <td>4.050000</td>\n",
       "      <td>19.000000</td>\n",
       "      <td>136.562500</td>\n",
       "      <td>36.409091</td>\n",
       "      <td>14.000000</td>\n",
       "      <td>15.100000</td>\n",
       "      <td>57.000000</td>\n",
       "    </tr>\n",
       "    <tr>\n",
       "      <th>100007</th>\n",
       "      <td>0.0</td>\n",
       "      <td>61.046512</td>\n",
       "      <td>52.0</td>\n",
       "      <td>132.750000</td>\n",
       "      <td>6.00</td>\n",
       "      <td>3.846154</td>\n",
       "      <td>14.230769</td>\n",
       "      <td>4.384615</td>\n",
       "      <td>170.00</td>\n",
       "      <td>74.139535</td>\n",
       "      <td>86.166667</td>\n",
       "      <td>99.409091</td>\n",
       "      <td>7.400000</td>\n",
       "      <td>4.366667</td>\n",
       "      <td>16.613636</td>\n",
       "      <td>138.906977</td>\n",
       "      <td>36.716042</td>\n",
       "      <td>13.000000</td>\n",
       "      <td>9.500000</td>\n",
       "      <td>55.099998</td>\n",
       "    </tr>\n",
       "    <tr>\n",
       "      <th>100009</th>\n",
       "      <td>0.0</td>\n",
       "      <td>50.404255</td>\n",
       "      <td>70.0</td>\n",
       "      <td>143.478261</td>\n",
       "      <td>4.75</td>\n",
       "      <td>4.000000</td>\n",
       "      <td>15.000000</td>\n",
       "      <td>4.000000</td>\n",
       "      <td>182.94</td>\n",
       "      <td>67.480000</td>\n",
       "      <td>65.340426</td>\n",
       "      <td>96.150000</td>\n",
       "      <td>7.372174</td>\n",
       "      <td>4.076923</td>\n",
       "      <td>23.392857</td>\n",
       "      <td>109.042553</td>\n",
       "      <td>36.791667</td>\n",
       "      <td>12.500000</td>\n",
       "      <td>14.466667</td>\n",
       "      <td>116.912500</td>\n",
       "    </tr>\n",
       "  </tbody>\n",
       "</table>\n",
       "</div>"
      ],
      "text/plain": [
       "ITEMID   CRR        DBP   FIO         GLU   GMR        GO         GT  \\\n",
       "HADM_ID                                                                \n",
       "100001   0.0  90.333333  52.0  197.920000  6.00  4.000000  15.000000   \n",
       "100003   0.0  60.615385  52.0   96.571429  6.00  3.916667  15.000000   \n",
       "100006   0.0  77.666667  52.0  153.583333  6.00  4.000000  15.000000   \n",
       "100007   0.0  61.046512  52.0  132.750000  6.00  3.846154  14.230769   \n",
       "100009   0.0  50.404255  70.0  143.478261  4.75  4.000000  15.000000   \n",
       "\n",
       "ITEMID        GVR  HEIGHT          HR         MBP         OS        PH  \\\n",
       "HADM_ID                                                                  \n",
       "100001   5.000000  170.00  117.000000  110.410256  97.600000  6.750000   \n",
       "100003   5.000000  170.00   81.218182   73.980769  98.100000  6.746667   \n",
       "100006   5.000000  170.00  110.680000   97.298633  96.296296  7.366667   \n",
       "100007   4.384615  170.00   74.139535   86.166667  99.409091  7.400000   \n",
       "100009   4.000000  182.94   67.480000   65.340426  96.150000  7.372174   \n",
       "\n",
       "ITEMID       POTA      RESPR         SBP       TEMP       UREA        WBC  \\\n",
       "HADM_ID                                                                     \n",
       "100001   3.900000  17.300000  176.666667  37.152778  31.285714  12.500000   \n",
       "100003   4.766667  15.818182  116.519231  36.247475  40.666667  13.625000   \n",
       "100006   4.050000  19.000000  136.562500  36.409091  14.000000  15.100000   \n",
       "100007   4.366667  16.613636  138.906977  36.716042  13.000000   9.500000   \n",
       "100009   4.076923  23.392857  109.042553  36.791667  12.500000  14.466667   \n",
       "\n",
       "ITEMID       WEIGHT  \n",
       "HADM_ID              \n",
       "100001    98.010000  \n",
       "100003    84.743333  \n",
       "100006    57.000000  \n",
       "100007    55.099998  \n",
       "100009   116.912500  "
      ]
     },
     "execution_count": 49,
     "metadata": {},
     "output_type": "execute_result"
    }
   ],
   "source": [
    "chartLab48_pivot.head()"
   ]
  },
  {
   "cell_type": "code",
   "execution_count": 50,
   "metadata": {
    "scrolled": false
   },
   "outputs": [
    {
     "data": {
      "text/plain": [
       "ITEMID\n",
       "CRR       False\n",
       "DBP       False\n",
       "FIO       False\n",
       "GLU       False\n",
       "GMR       False\n",
       "GO        False\n",
       "GT        False\n",
       "GVR       False\n",
       "HEIGHT    False\n",
       "HR        False\n",
       "MBP       False\n",
       "OS        False\n",
       "PH        False\n",
       "POTA      False\n",
       "RESPR     False\n",
       "SBP       False\n",
       "TEMP      False\n",
       "UREA      False\n",
       "WBC       False\n",
       "WEIGHT    False\n",
       "dtype: bool"
      ]
     },
     "execution_count": 50,
     "metadata": {},
     "output_type": "execute_result"
    }
   ],
   "source": [
    "chartLab48_pivot.isna().any()"
   ]
  },
  {
   "cell_type": "markdown",
   "metadata": {},
   "source": [
    "# Combine label and data together"
   ]
  },
  {
   "cell_type": "code",
   "execution_count": 51,
   "metadata": {},
   "outputs": [
    {
     "data": {
      "text/html": [
       "<div>\n",
       "<style scoped>\n",
       "    .dataframe tbody tr th:only-of-type {\n",
       "        vertical-align: middle;\n",
       "    }\n",
       "\n",
       "    .dataframe tbody tr th {\n",
       "        vertical-align: top;\n",
       "    }\n",
       "\n",
       "    .dataframe thead th {\n",
       "        text-align: right;\n",
       "    }\n",
       "</style>\n",
       "<table border=\"1\" class=\"dataframe\">\n",
       "  <thead>\n",
       "    <tr style=\"text-align: right;\">\n",
       "      <th></th>\n",
       "      <th>SUBJECT_ID</th>\n",
       "      <th>HADM_ID</th>\n",
       "      <th>Age</th>\n",
       "      <th>GENDER</th>\n",
       "      <th>HOSPITAL_EXPIRE_FLAG</th>\n",
       "      <th>GENDER_01</th>\n",
       "    </tr>\n",
       "  </thead>\n",
       "  <tbody>\n",
       "    <tr>\n",
       "      <th>0</th>\n",
       "      <td>22</td>\n",
       "      <td>165315</td>\n",
       "      <td>64.97</td>\n",
       "      <td>F</td>\n",
       "      <td>0</td>\n",
       "      <td>0</td>\n",
       "    </tr>\n",
       "    <tr>\n",
       "      <th>1</th>\n",
       "      <td>23</td>\n",
       "      <td>152223</td>\n",
       "      <td>71.18</td>\n",
       "      <td>M</td>\n",
       "      <td>0</td>\n",
       "      <td>1</td>\n",
       "    </tr>\n",
       "    <tr>\n",
       "      <th>2</th>\n",
       "      <td>23</td>\n",
       "      <td>124321</td>\n",
       "      <td>75.31</td>\n",
       "      <td>M</td>\n",
       "      <td>0</td>\n",
       "      <td>1</td>\n",
       "    </tr>\n",
       "    <tr>\n",
       "      <th>3</th>\n",
       "      <td>24</td>\n",
       "      <td>161859</td>\n",
       "      <td>39.04</td>\n",
       "      <td>M</td>\n",
       "      <td>0</td>\n",
       "      <td>1</td>\n",
       "    </tr>\n",
       "    <tr>\n",
       "      <th>4</th>\n",
       "      <td>25</td>\n",
       "      <td>129635</td>\n",
       "      <td>58.99</td>\n",
       "      <td>M</td>\n",
       "      <td>0</td>\n",
       "      <td>1</td>\n",
       "    </tr>\n",
       "  </tbody>\n",
       "</table>\n",
       "</div>"
      ],
      "text/plain": [
       "   SUBJECT_ID  HADM_ID    Age GENDER  HOSPITAL_EXPIRE_FLAG  GENDER_01\n",
       "0          22   165315  64.97      F                     0          0\n",
       "1          23   152223  71.18      M                     0          1\n",
       "2          23   124321  75.31      M                     0          1\n",
       "3          24   161859  39.04      M                     0          1\n",
       "4          25   129635  58.99      M                     0          1"
      ]
     },
     "execution_count": 51,
     "metadata": {},
     "output_type": "execute_result"
    }
   ],
   "source": [
    "patients.head()"
   ]
  },
  {
   "cell_type": "code",
   "execution_count": 52,
   "metadata": {},
   "outputs": [],
   "source": [
    "chartLab48_withlabel = chartLab48_pivot.join(patients[['HADM_ID', 'Age','GENDER_01','HOSPITAL_EXPIRE_FLAG']].set_index('HADM_ID'), how='left')"
   ]
  },
  {
   "cell_type": "code",
   "execution_count": 53,
   "metadata": {},
   "outputs": [
    {
     "name": "stdout",
     "output_type": "stream",
     "text": [
      "<class 'pandas.core.frame.DataFrame'>\n",
      "Int64Index: 46237 entries, 100001 to 199999\n",
      "Data columns (total 23 columns):\n",
      " #   Column                Non-Null Count  Dtype  \n",
      "---  ------                --------------  -----  \n",
      " 0   CRR                   46237 non-null  float64\n",
      " 1   DBP                   46237 non-null  float64\n",
      " 2   FIO                   46237 non-null  float64\n",
      " 3   GLU                   46237 non-null  float64\n",
      " 4   GMR                   46237 non-null  float64\n",
      " 5   GO                    46237 non-null  float64\n",
      " 6   GT                    46237 non-null  float64\n",
      " 7   GVR                   46237 non-null  float64\n",
      " 8   HEIGHT                46237 non-null  float64\n",
      " 9   HR                    46237 non-null  float64\n",
      " 10  MBP                   46237 non-null  float64\n",
      " 11  OS                    46237 non-null  float64\n",
      " 12  PH                    46237 non-null  float64\n",
      " 13  POTA                  46237 non-null  float64\n",
      " 14  RESPR                 46237 non-null  float64\n",
      " 15  SBP                   46237 non-null  float64\n",
      " 16  TEMP                  46237 non-null  float64\n",
      " 17  UREA                  46237 non-null  float64\n",
      " 18  WBC                   46237 non-null  float64\n",
      " 19  WEIGHT                46237 non-null  float64\n",
      " 20  Age                   46237 non-null  float64\n",
      " 21  GENDER_01             46237 non-null  int64  \n",
      " 22  HOSPITAL_EXPIRE_FLAG  46237 non-null  int64  \n",
      "dtypes: float64(21), int64(2)\n",
      "memory usage: 9.7 MB\n"
     ]
    }
   ],
   "source": [
    "chartLab48_withlabel.info()"
   ]
  },
  {
   "cell_type": "markdown",
   "metadata": {},
   "source": [
    "# Logistic model"
   ]
  },
  {
   "cell_type": "code",
   "execution_count": 54,
   "metadata": {},
   "outputs": [],
   "source": [
    "from sklearn.preprocessing import StandardScaler\n",
    "from sklearn.model_selection import train_test_split, cross_val_score\n",
    "from sklearn.neighbors import KNeighborsClassifier\n",
    "from sklearn.linear_model import LogisticRegression\n",
    "from sklearn.naive_bayes import GaussianNB\n",
    "from sklearn.svm import SVC\n",
    "from sklearn.ensemble import RandomForestClassifier\n",
    "from sklearn.neural_network import MLPClassifier\n",
    "from sklearn import metrics\n",
    "from sklearn.metrics import accuracy_score, confusion_matrix"
   ]
  },
  {
   "cell_type": "code",
   "execution_count": 55,
   "metadata": {},
   "outputs": [],
   "source": [
    "X = chartLab48_withlabel.loc[:, 'CRR':'GENDER_01']\n",
    "Y = chartLab48_withlabel.loc[:,'HOSPITAL_EXPIRE_FLAG']"
   ]
  },
  {
   "cell_type": "code",
   "execution_count": 56,
   "metadata": {},
   "outputs": [
    {
     "data": {
      "text/plain": [
       "(46237, 22)"
      ]
     },
     "execution_count": 56,
     "metadata": {},
     "output_type": "execute_result"
    }
   ],
   "source": [
    "X.shape"
   ]
  },
  {
   "cell_type": "code",
   "execution_count": 57,
   "metadata": {},
   "outputs": [],
   "source": [
    "# normolize X data\n",
    "X = StandardScaler().fit(X).transform(X)"
   ]
  },
  {
   "cell_type": "code",
   "execution_count": 58,
   "metadata": {},
   "outputs": [],
   "source": [
    "# split data to 80% train and 20% test\n",
    "X_train, X_test, Y_train, Y_test = train_test_split(X, Y, test_size=0.2, random_state=45)"
   ]
  },
  {
   "cell_type": "code",
   "execution_count": 59,
   "metadata": {},
   "outputs": [
    {
     "name": "stdout",
     "output_type": "stream",
     "text": [
      "0.911568366693891\n"
     ]
    }
   ],
   "source": [
    "# 5-fold cv score\n",
    "logit = LogisticRegression(solver='liblinear')\n",
    "logit_cv_score = cross_val_score(logit, X_train, Y_train, cv=5)\n",
    "logit_cv_score = np.mean(logit_cv_score)\n",
    "print(logit_cv_score)"
   ]
  },
  {
   "cell_type": "code",
   "execution_count": 60,
   "metadata": {},
   "outputs": [],
   "source": [
    "# predict the test data\n",
    "logit.fit(X_train, Y_train)\n",
    "logit_preds = logit.predict(X_test)\n",
    "logit_accu = accuracy_score(Y_test, logit_preds)\n",
    "logit_matrix = confusion_matrix(Y_test, logit_preds)"
   ]
  },
  {
   "cell_type": "code",
   "execution_count": 61,
   "metadata": {},
   "outputs": [
    {
     "data": {
      "text/plain": [
       "array([[-0.01713609, -0.31023806,  0.12583232,  0.19519811, -0.45871406,\n",
       "        -0.22849813,  0.01707913, -0.60758581,  0.01433339,  0.2993661 ,\n",
       "         0.10460775, -0.42056421,  0.00565372,  0.00569903,  0.35064015,\n",
       "        -0.14593024, -0.32543127,  0.40436638,  0.1245421 , -0.28149795,\n",
       "         0.12484213, -0.03162198]])"
      ]
     },
     "execution_count": 61,
     "metadata": {},
     "output_type": "execute_result"
    }
   ],
   "source": [
    "logit.coef_"
   ]
  },
  {
   "cell_type": "code",
   "execution_count": 62,
   "metadata": {},
   "outputs": [
    {
     "data": {
      "text/plain": [
       "0.9124134948096886"
      ]
     },
     "execution_count": 62,
     "metadata": {},
     "output_type": "execute_result"
    }
   ],
   "source": [
    "logit_accu"
   ]
  },
  {
   "cell_type": "code",
   "execution_count": 63,
   "metadata": {},
   "outputs": [
    {
     "data": {
      "text/plain": [
       "array([[8089,  149],\n",
       "       [ 661,  349]])"
      ]
     },
     "execution_count": 63,
     "metadata": {},
     "output_type": "execute_result"
    }
   ],
   "source": [
    "logit_matrix"
   ]
  },
  {
   "cell_type": "code",
   "execution_count": 64,
   "metadata": {},
   "outputs": [
    {
     "name": "stderr",
     "output_type": "stream",
     "text": [
      "/opt/anaconda3/lib/python3.7/site-packages/statsmodels/tools/_testing.py:19: FutureWarning: pandas.util.testing is deprecated. Use the functions in the public API at pandas.testing instead.\n",
      "  import pandas.util.testing as tm\n"
     ]
    },
    {
     "data": {
      "image/png": "[encoded data removed]",
      "text/plain": [
       "<Figure size 432x288 with 2 Axes>"
      ]
     },
     "metadata": {
      "needs_background": "light"
     },
     "output_type": "display_data"
    }
   ],
   "source": [
    "from plots import plot_confusion_matrix\n",
    "results = [(i[0], i[1]) for i in zip(Y_test, logit_preds)]\n",
    "class_names = ['Alive', 'Dead']\n",
    "plot_confusion_matrix(results, class_names)"
   ]
  },
  {
   "cell_type": "code",
   "execution_count": 65,
   "metadata": {},
   "outputs": [
    {
     "data": {
      "text/plain": [
       "0.8945211636968503"
      ]
     },
     "execution_count": 65,
     "metadata": {},
     "output_type": "execute_result"
    }
   ],
   "source": [
    "logit_probs = logit.predict_proba(X_test)\n",
    "metrics.roc_auc_score(Y_test, logit_probs[:, 1])"
   ]
  },
  {
   "cell_type": "code",
   "execution_count": 66,
   "metadata": {},
   "outputs": [
    {
     "data": {
      "image/png": "[encoded data removed]",
      "text/plain": [
       "<Figure size 432x288 with 1 Axes>"
      ]
     },
     "metadata": {
      "needs_background": "light"
     },
     "output_type": "display_data"
    }
   ],
   "source": [
    "# auc curve\n",
    "\n",
    "metrics.plot_roc_curve(logit, X_test, Y_test)  \n",
    "plt.show()"
   ]
  },
  {
   "cell_type": "markdown",
   "metadata": {},
   "source": [
    "## SVC model"
   ]
  },
  {
   "cell_type": "raw",
   "metadata": {},
   "source": [
    "# 5-fold cv to choose the best C value\n",
    "C_values=[0.001, 0.1, 1, 10]\n",
    "svc_cv_scores=[]\n",
    "for i in C_values:\n",
    "    svc_cv = SVC(C=i, gamma='scale')\n",
    "    svc_cv_score = cross_val_score(svc_cv, X_train, Y_train, cv=5)\n",
    "    svc_cv_scores.append(np.mean(svc_cv_score))\n",
    "    print(i, np.mean(svc_cv_score))\n",
    "\n",
    "# C=1 gives the highest cv-score: 0.90974"
   ]
  },
  {
   "cell_type": "raw",
   "metadata": {},
   "source": [
    "plt.plot(np.log(C_values), svc_cv_scores, marker='o')\n",
    "plt.xlabel(\"log(C-value)\")\n",
    "plt.ylabel('5-fold cv score')\n",
    "plt.title(\"Cross-Validation of SVM model\")\n",
    "plt.show()"
   ]
  },
  {
   "cell_type": "code",
   "execution_count": 72,
   "metadata": {},
   "outputs": [],
   "source": [
    "# use C=1 to build the SVM model\n",
    "svc = SVC(C=1, gamma=\"scale\", probability=True)\n",
    "svc.fit(X_train, Y_train)\n",
    "svc_preds = svc.predict(X_test)\n",
    "svc_accu = accuracy_score(Y_test, svc_preds)\n",
    "svc_matrix = confusion_matrix(Y_test, svc_preds)"
   ]
  },
  {
   "cell_type": "code",
   "execution_count": 73,
   "metadata": {},
   "outputs": [
    {
     "data": {
      "text/plain": [
       "0.9201989619377162"
      ]
     },
     "execution_count": 73,
     "metadata": {},
     "output_type": "execute_result"
    }
   ],
   "source": [
    "svc_accu"
   ]
  },
  {
   "cell_type": "code",
   "execution_count": 74,
   "metadata": {},
   "outputs": [
    {
     "data": {
      "text/plain": [
       "array([[8126,  112],\n",
       "       [ 626,  384]])"
      ]
     },
     "execution_count": 74,
     "metadata": {},
     "output_type": "execute_result"
    }
   ],
   "source": [
    "svc_matrix"
   ]
  },
  {
   "cell_type": "code",
   "execution_count": 75,
   "metadata": {},
   "outputs": [
    {
     "data": {
      "image/png": "[encoded data removed]",
      "text/plain": [
       "<Figure size 432x288 with 2 Axes>"
      ]
     },
     "metadata": {
      "needs_background": "light"
     },
     "output_type": "display_data"
    }
   ],
   "source": [
    "from plots import plot_confusion_matrix\n",
    "results_svc = [(i[0], i[1]) for i in zip(Y_test, svc_preds)]\n",
    "class_names = ['Alive', 'Dead']\n",
    "plot_confusion_matrix(results_svc, class_names)"
   ]
  },
  {
   "cell_type": "code",
   "execution_count": 76,
   "metadata": {},
   "outputs": [
    {
     "data": {
      "text/plain": [
       "0.8442693723123222"
      ]
     },
     "execution_count": 76,
     "metadata": {},
     "output_type": "execute_result"
    }
   ],
   "source": [
    "svc_probs = svc.predict_proba(X_test)\n",
    "metrics.roc_auc_score(Y_test, svc_probs[:, 1])"
   ]
  },
  {
   "cell_type": "code",
   "execution_count": 77,
   "metadata": {},
   "outputs": [
    {
     "data": {
      "image/png": "[encoded data removed]",
      "text/plain": [
       "<Figure size 432x288 with 1 Axes>"
      ]
     },
     "metadata": {
      "needs_background": "light"
     },
     "output_type": "display_data"
    }
   ],
   "source": [
    "metrics.plot_roc_curve(svc, X_test, Y_test)  \n",
    "plt.show()"
   ]
  },
  {
   "cell_type": "code",
   "execution_count": null,
   "metadata": {},
   "outputs": [],
   "source": []
  }
 ],
 "metadata": {
  "kernelspec": {
   "display_name": "Python 3",
   "language": "python",
   "name": "python3"
  },
  "language_info": {
   "codemirror_mode": {
    "name": "ipython",
    "version": 3
   },
   "file_extension": ".py",
   "mimetype": "text/x-python",
   "name": "python",
   "nbconvert_exporter": "python",
   "pygments_lexer": "ipython3",
   "version": "3.7.4"
  }
 },
 "nbformat": 4,
 "nbformat_minor": 2
}
